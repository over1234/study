{
  "nbformat": 4,
  "nbformat_minor": 0,
  "metadata": {
    "colab": {
      "name": "p_03_2_json(실).ipynb",
      "provenance": [],
      "collapsed_sections": [],
      "include_colab_link": true
    },
    "kernelspec": {
      "name": "python3",
      "display_name": "Python 3"
    }
  },
  "cells": [
    {
      "cell_type": "markdown",
      "metadata": {
        "id": "view-in-github",
        "colab_type": "text"
      },
      "source": [
        "<a href=\"https://colab.research.google.com/github/over1234/study/blob/master/p_03_2_json(%EC%8B%A4).ipynb\" target=\"_parent\"><img src=\"https://colab.research.google.com/assets/colab-badge.svg\" alt=\"Open In Colab\"/></a>"
      ]
    },
    {
      "cell_type": "markdown",
      "metadata": {
        "id": "mPM9oXXx6gek"
      },
      "source": [
        "# **JSON(JavaScript Object Notation)**\n",
        "+ 데이타를 교환하는 포맷으로 키-값의 쌍으로 이루어진 컬렉션\n",
        "+ 데이터 포맷이 단순하고 유연함\n",
        "+ 웹 상에서 데이터를 교환하는 데 많이 사용되고 있음\n",
        "\n",
        "## **Python  JSON 표준 라이브러리**\n",
        "\n",
        "\n",
        "```\n",
        "import json\n",
        "```\n",
        "\n",
        "### **JSON 인코딩**\n",
        "\n",
        "\n",
        "```\n",
        "json.dumps()\n",
        "```\n",
        "\n",
        "+ Python 타입의 데이터를 JSON 문자열로 변경\n",
        "+ 딕션너리, 리스트, 튜플을 JSON 문자열로 변경\n",
        "+ 반환값은 JSON 표현을 갖는 문자열(str 타입)\n",
        "+ \"indent\" 옵션\n",
        " - JSON 문자열을 읽기 편하게  Identation이 적용된 문자열 반환\n",
        "\n",
        "```\n",
        "json.dumps(파이썬자료, indent=4)\n",
        "```"
      ]
    },
    {
      "cell_type": "code",
      "metadata": {
        "id": "CPKcRchg6Q9e"
      },
      "source": [
        "import json"
      ],
      "execution_count": null,
      "outputs": []
    },
    {
      "cell_type": "code",
      "metadata": {
        "id": "CdVqFsKf8eVZ",
        "colab": {
          "base_uri": "https://localhost:8080/"
        },
        "outputId": "642835dd-31a1-42df-b818-6cbc0eab1a26"
      },
      "source": [
        "jdata = {\n",
        "    \"request_id\": \"0\",\n",
        "    \"return_type\": \"omAnalysis\",\n",
        "    \"result\": 0,\n",
        "    \"reason\": \"\",\n",
        "    \"return_object\": {\n",
        "        \"query\": \"한국의 가을은 매우 아름답습니다.\",\n",
        "        \"type\": \"감성분석\",\n",
        "        \"score\": 0.9999995231628418,\n",
        "        \"label\": \"긍정\"\n",
        "    },\n",
        "    \"result_code\": \"success\"\n",
        "}\n",
        "print(type(jdata))"
      ],
      "execution_count": null,
      "outputs": [
        {
          "output_type": "stream",
          "name": "stdout",
          "text": [
            "<class 'dict'>\n"
          ]
        }
      ]
    },
    {
      "cell_type": "code",
      "metadata": {
        "id": "HScl8Ndk8iIv"
      },
      "source": [
        "jsonStr = \n",
        "# print(jsonStr)\n",
        "# print(type(jsonStr))"
      ],
      "execution_count": null,
      "outputs": []
    },
    {
      "cell_type": "code",
      "metadata": {
        "id": "Sk9vsFgD8sE7"
      },
      "source": [
        "jsonStr1 =\n",
        "# print(jsonStr1)\n",
        "# print(type(jsonStr1))"
      ],
      "execution_count": null,
      "outputs": []
    },
    {
      "cell_type": "code",
      "metadata": {
        "id": "fngne7fR8yoO"
      },
      "source": [
        "jsonStr2 = \n",
        "# print(jsonStr2)\n",
        "# print(type(jsonStr2))"
      ],
      "execution_count": null,
      "outputs": []
    },
    {
      "cell_type": "markdown",
      "metadata": {
        "id": "dV9VNxED9pW3"
      },
      "source": [
        "### **JSON 디코딩**\n",
        "\n",
        "\n",
        "```\n",
        "json.loads()\n",
        "```\n",
        "\n",
        "+ JSON 문자열을 딕션너리, 리스트, 튜플과 같은 Python 타입으로 변경\n"
      ]
    },
    {
      "cell_type": "code",
      "metadata": {
        "id": "waPRX4TS94Tl",
        "colab": {
          "base_uri": "https://localhost:8080/"
        },
        "outputId": "c165d207-39c6-44bc-cc2b-e2956e1b5b1c"
      },
      "source": [
        "print(type(jsonStr2))\n",
        "\n",
        "dt = json.loads(jsonStr2)\n",
        "# print(dt)\n",
        "# print(type(dt))\n",
        "\n",
        "# for key, value in dt.items():\n",
        "#     print(key, value)\n",
        "\n",
        "# for key  in dt:\n",
        "#     print(key, dt[key])\n",
        "\n",
        "for key  in dt:\n",
        "    print(key, dt.get(key))\n"
      ],
      "execution_count": null,
      "outputs": [
        {
          "output_type": "stream",
          "name": "stdout",
          "text": [
            "<class 'str'>\n",
            "request_id 0\n",
            "return_type omAnalysis\n",
            "result 0\n",
            "reason \n",
            "return_object {'query': '한국의 가을은 매우 아름답습니다.', 'type': '감성분석', 'score': 0.9999995231628418, 'label': '긍정'}\n",
            "result_code success\n"
          ]
        }
      ]
    },
    {
      "cell_type": "markdown",
      "metadata": {
        "id": "-kDISHDT_nHW"
      },
      "source": [
        "\n",
        "\n",
        "---\n",
        "해결문제) data.json 파일을 읽어서 감성분석 문장과 결과 출력하시오.\n",
        "\n",
        "\n",
        "---\n",
        "\n",
        "\n"
      ]
    },
    {
      "cell_type": "code",
      "metadata": {
        "colab": {
          "base_uri": "https://localhost:8080/"
        },
        "id": "2yjw46Cq-dUN",
        "outputId": "60d82961-7537-46c5-e745-a7cf143ca013"
      },
      "source": [
        "import json\n",
        "#readlines() - 한줄씩 읽어들임\n"
      ],
      "execution_count": null,
      "outputs": [
        {
          "output_type": "stream",
          "name": "stdout",
          "text": [
            "['{\\n', '    \"request_id\": \"0\",\\n', '    \"return_type\": \"omAnalysis\",\\n', '    \"result\": 0,\\n', '    \"reason\": \"\",\\n', '    \"return_object\": {\\n', '        \"query\": \"한국의 가을은 매우 아름답습니다.\",\\n', '        \"type\": \"감성분석\",\\n', '        \"score\": 0.9999995231628418,\\n', '        \"label\": \"긍정\"\\n', '    },\\n', '    \"result_code\": \"success\"\\n', '}']\n"
          ]
        },
        {
          "output_type": "execute_result",
          "data": {
            "text/plain": [
              "list"
            ]
          },
          "metadata": {},
          "execution_count": 36
        }
      ]
    },
    {
      "cell_type": "code",
      "metadata": {
        "id": "I79xhvDDFd2L"
      },
      "source": [
        "import json\n",
        "#read() - 파일전체 내용이 하나의 string으로\n"
      ],
      "execution_count": null,
      "outputs": []
    },
    {
      "cell_type": "code",
      "metadata": {
        "colab": {
          "base_uri": "https://localhost:8080/"
        },
        "id": "K5-gTEl4F9mp",
        "outputId": "7366dcc1-e606-4640-990b-b34216bc476b"
      },
      "source": [
        "#json 디코딩 json.loads(data)\n",
        "import json\n"
      ],
      "execution_count": null,
      "outputs": [
        {
          "output_type": "stream",
          "name": "stdout",
          "text": [
            "{'request_id': '0', 'return_type': 'omAnalysis', 'result': 0, 'reason': '', 'return_object': {'query': '한국의 가을은 매우 아름답습니다.', 'type': '감성분석', 'score': 0.9999995231628418, 'label': '긍정'}, 'result_code': 'success'}\n",
            "<class 'dict'>\n"
          ]
        }
      ]
    },
    {
      "cell_type": "code",
      "metadata": {
        "id": "Ul4ToPrpG3UG"
      },
      "source": [
        "dt"
      ],
      "execution_count": null,
      "outputs": []
    },
    {
      "cell_type": "code",
      "metadata": {
        "id": "Y_N_26cxGjsH"
      },
      "source": [
        "rt = dt['return_object']\n",
        "rt"
      ],
      "execution_count": null,
      "outputs": []
    },
    {
      "cell_type": "code",
      "metadata": {
        "colab": {
          "base_uri": "https://localhost:8080/"
        },
        "id": "Yp99L--THS_K",
        "outputId": "884fb072-2188-47fd-85d4-18a6b44eb5d2"
      },
      "source": [
        "\n",
        "\n"
      ],
      "execution_count": null,
      "outputs": [
        {
          "output_type": "stream",
          "name": "stdout",
          "text": [
            "한국의 가을은 매우 아름답습니다.: 감성분석 - 긍정(100.00%)\n",
            "한국의 가을은 매우 아름답습니다.: 감성분석 - 긍정(99.99995231628418%)\n"
          ]
        }
      ]
    },
    {
      "cell_type": "markdown",
      "metadata": {
        "id": "OdDbYHG8Gm9_"
      },
      "source": [
        "###**실습문제) 비트코인 데이터**\n",
        "\n"
      ]
    },
    {
      "cell_type": "code",
      "metadata": {
        "id": "kLouAO-zCy6p"
      },
      "source": [
        "#물품구입 프로그램\n",
        "\n",
        "# 가격이 50,000원인 물건이 있을 때\n",
        "# 사용자에게 예산을 입력받아\n",
        "# 입력한 예산이 숫자이면\n",
        "# - 몇 개의 물건을 살 수 있는지 알려주고\n",
        "# 입력한 예산이 숫자가 아니면\n",
        "# - 숫자를 입력하라고 알려준다\n"
      ],
      "execution_count": null,
      "outputs": []
    },
    {
      "cell_type": "code",
      "metadata": {
        "colab": {
          "base_uri": "https://localhost:8080/"
        },
        "id": "6e92pPgdOmKZ",
        "outputId": "b024180e-2e8d-4723-d0d8-9516d898e85c"
      },
      "source": [
        "price = 50_000\n"
      ],
      "execution_count": null,
      "outputs": [
        {
          "output_type": "stream",
          "name": "stdout",
          "text": [
            "얼마를 갖고 있나요?70000\n",
            "1.4개\n"
          ]
        }
      ]
    },
    {
      "cell_type": "markdown",
      "metadata": {
        "id": "N0CjNLzdBwmo"
      },
      "source": [
        "\n",
        "\n",
        "```\n",
        "from urllib.request import urlopen\n",
        "\n",
        "url = 'https://api.coindesk.com/v1/bpi/currentprice/KRW.json'\n",
        "response = urlopen(url)\n",
        "source = response.read().decode('utf-8')\n",
        "```\n",
        "\n"
      ]
    },
    {
      "cell_type": "code",
      "metadata": {
        "id": "bXQrKrC2PZQj"
      },
      "source": [
        "#실시간으로 가격이 변하는 비트코인을 몇 개 살 수 있을까?\n",
        "# https://coindesk.com\n"
      ],
      "execution_count": null,
      "outputs": []
    },
    {
      "cell_type": "markdown",
      "metadata": {
        "id": "KmQ01Ik9RNMR"
      },
      "source": [
        "`{\"time\":{\"updated\":\"Nov 21, 2021 11:25:00 UTC\",\"updatedISO\":\"2021-11-21T11:25:00+00:00\",\"updateduk\":\"Nov 21, 2021 at 11:25 GMT\"},\"disclaimer\":\"This data was produced from the CoinDesk Bitcoin Price Index (USD). Non-USD currency data converted using hourly conversion rate from openexchangerates.org\",\"bpi\":{\"USD\":{\"code\":\"USD\",\"rate\":\"58,767.2288\",\"description\":\"United States Dollar\",\"rate_float\":58767.2288},\"KRW\":{\"code\":\"KRW\",\"rate\":\"70,035,256.6384\",\"description\":\"South Korean Won\",\"rate_float\":70035256.6384}}}`"
      ]
    },
    {
      "cell_type": "code",
      "metadata": {
        "colab": {
          "base_uri": "https://localhost:8080/"
        },
        "id": "jx5SDNo8RXeO",
        "outputId": "8a3cf457-63ab-412d-a30a-a1932b22ae6c"
      },
      "source": [
        "#비트코인 가격(원화)추출하기\n",
        "#https://codebeautify.org/jsonviewer\n",
        "\n"
      ],
      "execution_count": null,
      "outputs": [
        {
          "output_type": "stream",
          "name": "stdout",
          "text": [
            "70035256.6384\n"
          ]
        }
      ]
    },
    {
      "cell_type": "code",
      "metadata": {
        "colab": {
          "base_uri": "https://localhost:8080/"
        },
        "id": "HlBnrBPSSYlO",
        "outputId": "f0e837df-871b-444a-e621-996c1bba600a"
      },
      "source": [
        "#그래서 몇 개를 살 수 있나요?\n",
        "#사용자로부터 입력받은 예산으로 현재 비트코인가격을 확인해서 몇 개를 구입할 수 있는지 계산한다.\n",
        "\n"
      ],
      "execution_count": null,
      "outputs": [
        {
          "output_type": "stream",
          "name": "stdout",
          "text": [
            "얼마를 갖고 있나요? 1000000\n",
            "0.014280949662073448개 비트코인을 살 수 있습니다\n"
          ]
        }
      ]
    },
    {
      "cell_type": "code",
      "metadata": {
        "id": "WwQvAwGYVK14"
      },
      "source": [
        "#함수로 만들어보기\n"
      ],
      "execution_count": null,
      "outputs": []
    }
  ]
}
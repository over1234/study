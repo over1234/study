{
  "nbformat": 4,
  "nbformat_minor": 0,
  "metadata": {
    "colab": {
      "name": "p_03_2_json(실).ipynb",
      "provenance": [],
      "collapsed_sections": [],
      "include_colab_link": true
    },
    "kernelspec": {
      "name": "python3",
      "display_name": "Python 3"
    }
  },
  "cells": [
    {
      "cell_type": "markdown",
      "metadata": {
        "id": "view-in-github",
        "colab_type": "text"
      },
      "source": [
        "<a href=\"https://colab.research.google.com/github/over1234/study/blob/master/p_03_2_json(%EC%8B%A4).ipynb\" target=\"_parent\"><img src=\"https://colab.research.google.com/assets/colab-badge.svg\" alt=\"Open In Colab\"/></a>"
      ]
    },
    {
      "cell_type": "markdown",
      "metadata": {
        "id": "mPM9oXXx6gek"
      },
      "source": [
        "# **JSON(JavaScript Object Notation)**\n",
        "+ 데이타를 교환하는 포맷으로 키-값의 쌍으로 이루어진 컬렉션\n",
        "+ 데이터 포맷이 단순하고 유연함\n",
        "+ 웹 상에서 데이터를 교환하는 데 많이 사용되고 있음\n",
        "\n",
        "## **Python  JSON 표준 라이브러리**\n",
        "\n",
        "\n",
        "```\n",
        "import json\n",
        "```\n",
        "\n",
        "### **JSON 인코딩**\n",
        "\n",
        "\n",
        "```\n",
        "json.dumps()\n",
        "```\n",
        "\n",
        "+ Python 타입의 데이터를 JSON 문자열로 변경\n",
        "+ 딕션너리, 리스트, 튜플을 JSON 문자열로 변경\n",
        "+ 반환값은 JSON 표현을 갖는 문자열(str 타입)\n",
        "+ \"indent\" 옵션\n",
        " - JSON 문자열을 읽기 편하게  Identation이 적용된 문자열 반환\n",
        "\n",
        "```\n",
        "json.dumps(파이썬자료, indent=4)\n",
        "```"
      ]
    },
    {
      "cell_type": "code",
      "metadata": {
        "colab": {
          "base_uri": "https://localhost:8080/",
          "height": 580
        },
        "id": "ddPsosbSRUoz",
        "outputId": "507673da-cf26-4143-9dae-6949ee419847"
      },
      "source": [
        "from google.colab import drive\n",
        "drive.mount('/content/drive')"
      ],
      "execution_count": 1,
      "outputs": [
        {
          "output_type": "error",
          "ename": "KeyboardInterrupt",
          "evalue": "ignored",
          "traceback": [
            "\u001b[0;31m---------------------------------------------------------------------------\u001b[0m",
            "\u001b[0;31mKeyboardInterrupt\u001b[0m                         Traceback (most recent call last)",
            "\u001b[0;32m/usr/local/lib/python3.7/dist-packages/ipykernel/kernelbase.py\u001b[0m in \u001b[0;36m_input_request\u001b[0;34m(self, prompt, ident, parent, password)\u001b[0m\n\u001b[1;32m    728\u001b[0m             \u001b[0;32mtry\u001b[0m\u001b[0;34m:\u001b[0m\u001b[0;34m\u001b[0m\u001b[0;34m\u001b[0m\u001b[0m\n\u001b[0;32m--> 729\u001b[0;31m                 \u001b[0mident\u001b[0m\u001b[0;34m,\u001b[0m \u001b[0mreply\u001b[0m \u001b[0;34m=\u001b[0m \u001b[0mself\u001b[0m\u001b[0;34m.\u001b[0m\u001b[0msession\u001b[0m\u001b[0;34m.\u001b[0m\u001b[0mrecv\u001b[0m\u001b[0;34m(\u001b[0m\u001b[0mself\u001b[0m\u001b[0;34m.\u001b[0m\u001b[0mstdin_socket\u001b[0m\u001b[0;34m,\u001b[0m \u001b[0;36m0\u001b[0m\u001b[0;34m)\u001b[0m\u001b[0;34m\u001b[0m\u001b[0;34m\u001b[0m\u001b[0m\n\u001b[0m\u001b[1;32m    730\u001b[0m             \u001b[0;32mexcept\u001b[0m \u001b[0mException\u001b[0m\u001b[0;34m:\u001b[0m\u001b[0;34m\u001b[0m\u001b[0;34m\u001b[0m\u001b[0m\n",
            "\u001b[0;32m/usr/local/lib/python3.7/dist-packages/jupyter_client/session.py\u001b[0m in \u001b[0;36mrecv\u001b[0;34m(self, socket, mode, content, copy)\u001b[0m\n\u001b[1;32m    802\u001b[0m         \u001b[0;32mtry\u001b[0m\u001b[0;34m:\u001b[0m\u001b[0;34m\u001b[0m\u001b[0;34m\u001b[0m\u001b[0m\n\u001b[0;32m--> 803\u001b[0;31m             \u001b[0mmsg_list\u001b[0m \u001b[0;34m=\u001b[0m \u001b[0msocket\u001b[0m\u001b[0;34m.\u001b[0m\u001b[0mrecv_multipart\u001b[0m\u001b[0;34m(\u001b[0m\u001b[0mmode\u001b[0m\u001b[0;34m,\u001b[0m \u001b[0mcopy\u001b[0m\u001b[0;34m=\u001b[0m\u001b[0mcopy\u001b[0m\u001b[0;34m)\u001b[0m\u001b[0;34m\u001b[0m\u001b[0;34m\u001b[0m\u001b[0m\n\u001b[0m\u001b[1;32m    804\u001b[0m         \u001b[0;32mexcept\u001b[0m \u001b[0mzmq\u001b[0m\u001b[0;34m.\u001b[0m\u001b[0mZMQError\u001b[0m \u001b[0;32mas\u001b[0m \u001b[0me\u001b[0m\u001b[0;34m:\u001b[0m\u001b[0;34m\u001b[0m\u001b[0;34m\u001b[0m\u001b[0m\n",
            "\u001b[0;32m/usr/local/lib/python3.7/dist-packages/zmq/sugar/socket.py\u001b[0m in \u001b[0;36mrecv_multipart\u001b[0;34m(self, flags, copy, track)\u001b[0m\n\u001b[1;32m    624\u001b[0m         \"\"\"\n\u001b[0;32m--> 625\u001b[0;31m         \u001b[0mparts\u001b[0m \u001b[0;34m=\u001b[0m \u001b[0;34m[\u001b[0m\u001b[0mself\u001b[0m\u001b[0;34m.\u001b[0m\u001b[0mrecv\u001b[0m\u001b[0;34m(\u001b[0m\u001b[0mflags\u001b[0m\u001b[0;34m,\u001b[0m \u001b[0mcopy\u001b[0m\u001b[0;34m=\u001b[0m\u001b[0mcopy\u001b[0m\u001b[0;34m,\u001b[0m \u001b[0mtrack\u001b[0m\u001b[0;34m=\u001b[0m\u001b[0mtrack\u001b[0m\u001b[0;34m)\u001b[0m\u001b[0;34m]\u001b[0m\u001b[0;34m\u001b[0m\u001b[0;34m\u001b[0m\u001b[0m\n\u001b[0m\u001b[1;32m    626\u001b[0m         \u001b[0;31m# have first part already, only loop while more to receive\u001b[0m\u001b[0;34m\u001b[0m\u001b[0;34m\u001b[0m\u001b[0;34m\u001b[0m\u001b[0m\n",
            "\u001b[0;32mzmq/backend/cython/socket.pyx\u001b[0m in \u001b[0;36mzmq.backend.cython.socket.Socket.recv\u001b[0;34m()\u001b[0m\n",
            "\u001b[0;32mzmq/backend/cython/socket.pyx\u001b[0m in \u001b[0;36mzmq.backend.cython.socket.Socket.recv\u001b[0;34m()\u001b[0m\n",
            "\u001b[0;32mzmq/backend/cython/socket.pyx\u001b[0m in \u001b[0;36mzmq.backend.cython.socket._recv_copy\u001b[0;34m()\u001b[0m\n",
            "\u001b[0;32m/usr/local/lib/python3.7/dist-packages/zmq/backend/cython/checkrc.pxd\u001b[0m in \u001b[0;36mzmq.backend.cython.checkrc._check_rc\u001b[0;34m()\u001b[0m\n",
            "\u001b[0;31mKeyboardInterrupt\u001b[0m: ",
            "\nDuring handling of the above exception, another exception occurred:\n",
            "\u001b[0;31mKeyboardInterrupt\u001b[0m                         Traceback (most recent call last)",
            "\u001b[0;32m<ipython-input-1-d5df0069828e>\u001b[0m in \u001b[0;36m<module>\u001b[0;34m()\u001b[0m\n\u001b[1;32m      1\u001b[0m \u001b[0;32mfrom\u001b[0m \u001b[0mgoogle\u001b[0m\u001b[0;34m.\u001b[0m\u001b[0mcolab\u001b[0m \u001b[0;32mimport\u001b[0m \u001b[0mdrive\u001b[0m\u001b[0;34m\u001b[0m\u001b[0;34m\u001b[0m\u001b[0m\n\u001b[0;32m----> 2\u001b[0;31m \u001b[0mdrive\u001b[0m\u001b[0;34m.\u001b[0m\u001b[0mmount\u001b[0m\u001b[0;34m(\u001b[0m\u001b[0;34m'/content/drive'\u001b[0m\u001b[0;34m)\u001b[0m\u001b[0;34m\u001b[0m\u001b[0;34m\u001b[0m\u001b[0m\n\u001b[0m",
            "\u001b[0;32m/usr/local/lib/python3.7/dist-packages/google/colab/drive.py\u001b[0m in \u001b[0;36mmount\u001b[0;34m(mountpoint, force_remount, timeout_ms, use_metadata_server)\u001b[0m\n\u001b[1;32m    111\u001b[0m       \u001b[0mtimeout_ms\u001b[0m\u001b[0;34m=\u001b[0m\u001b[0mtimeout_ms\u001b[0m\u001b[0;34m,\u001b[0m\u001b[0;34m\u001b[0m\u001b[0;34m\u001b[0m\u001b[0m\n\u001b[1;32m    112\u001b[0m       \u001b[0muse_metadata_server\u001b[0m\u001b[0;34m=\u001b[0m\u001b[0muse_metadata_server\u001b[0m\u001b[0;34m,\u001b[0m\u001b[0;34m\u001b[0m\u001b[0;34m\u001b[0m\u001b[0m\n\u001b[0;32m--> 113\u001b[0;31m       ephemeral=ephemeral)\n\u001b[0m\u001b[1;32m    114\u001b[0m \u001b[0;34m\u001b[0m\u001b[0m\n\u001b[1;32m    115\u001b[0m \u001b[0;34m\u001b[0m\u001b[0m\n",
            "\u001b[0;32m/usr/local/lib/python3.7/dist-packages/google/colab/drive.py\u001b[0m in \u001b[0;36m_mount\u001b[0;34m(mountpoint, force_remount, timeout_ms, use_metadata_server, ephemeral)\u001b[0m\n\u001b[1;32m    290\u001b[0m       \u001b[0;32mwith\u001b[0m \u001b[0m_output\u001b[0m\u001b[0;34m.\u001b[0m\u001b[0muse_tags\u001b[0m\u001b[0;34m(\u001b[0m\u001b[0;34m'dfs-auth-dance'\u001b[0m\u001b[0;34m)\u001b[0m\u001b[0;34m:\u001b[0m\u001b[0;34m\u001b[0m\u001b[0;34m\u001b[0m\u001b[0m\n\u001b[1;32m    291\u001b[0m         \u001b[0;32mwith\u001b[0m \u001b[0mopen\u001b[0m\u001b[0;34m(\u001b[0m\u001b[0mfifo\u001b[0m\u001b[0;34m,\u001b[0m \u001b[0;34m'w'\u001b[0m\u001b[0;34m)\u001b[0m \u001b[0;32mas\u001b[0m \u001b[0mfifo_file\u001b[0m\u001b[0;34m:\u001b[0m\u001b[0;34m\u001b[0m\u001b[0;34m\u001b[0m\u001b[0m\n\u001b[0;32m--> 292\u001b[0;31m           \u001b[0mfifo_file\u001b[0m\u001b[0;34m.\u001b[0m\u001b[0mwrite\u001b[0m\u001b[0;34m(\u001b[0m\u001b[0mget_code\u001b[0m\u001b[0;34m(\u001b[0m\u001b[0mauth_prompt\u001b[0m\u001b[0;34m)\u001b[0m \u001b[0;34m+\u001b[0m \u001b[0;34m'\\n'\u001b[0m\u001b[0;34m)\u001b[0m\u001b[0;34m\u001b[0m\u001b[0;34m\u001b[0m\u001b[0m\n\u001b[0m\u001b[1;32m    293\u001b[0m       \u001b[0mwrote_to_fifo\u001b[0m \u001b[0;34m=\u001b[0m \u001b[0;32mTrue\u001b[0m\u001b[0;34m\u001b[0m\u001b[0;34m\u001b[0m\u001b[0m\n\u001b[1;32m    294\u001b[0m     \u001b[0;32melif\u001b[0m \u001b[0mcase\u001b[0m \u001b[0;34m==\u001b[0m \u001b[0;36m5\u001b[0m\u001b[0;34m:\u001b[0m\u001b[0;34m\u001b[0m\u001b[0;34m\u001b[0m\u001b[0m\n",
            "\u001b[0;32m/usr/local/lib/python3.7/dist-packages/ipykernel/kernelbase.py\u001b[0m in \u001b[0;36mraw_input\u001b[0;34m(self, prompt)\u001b[0m\n\u001b[1;32m    702\u001b[0m             \u001b[0mself\u001b[0m\u001b[0;34m.\u001b[0m\u001b[0m_parent_ident\u001b[0m\u001b[0;34m,\u001b[0m\u001b[0;34m\u001b[0m\u001b[0;34m\u001b[0m\u001b[0m\n\u001b[1;32m    703\u001b[0m             \u001b[0mself\u001b[0m\u001b[0;34m.\u001b[0m\u001b[0m_parent_header\u001b[0m\u001b[0;34m,\u001b[0m\u001b[0;34m\u001b[0m\u001b[0;34m\u001b[0m\u001b[0m\n\u001b[0;32m--> 704\u001b[0;31m             \u001b[0mpassword\u001b[0m\u001b[0;34m=\u001b[0m\u001b[0;32mFalse\u001b[0m\u001b[0;34m,\u001b[0m\u001b[0;34m\u001b[0m\u001b[0;34m\u001b[0m\u001b[0m\n\u001b[0m\u001b[1;32m    705\u001b[0m         )\n\u001b[1;32m    706\u001b[0m \u001b[0;34m\u001b[0m\u001b[0m\n",
            "\u001b[0;32m/usr/local/lib/python3.7/dist-packages/ipykernel/kernelbase.py\u001b[0m in \u001b[0;36m_input_request\u001b[0;34m(self, prompt, ident, parent, password)\u001b[0m\n\u001b[1;32m    732\u001b[0m             \u001b[0;32mexcept\u001b[0m \u001b[0mKeyboardInterrupt\u001b[0m\u001b[0;34m:\u001b[0m\u001b[0;34m\u001b[0m\u001b[0;34m\u001b[0m\u001b[0m\n\u001b[1;32m    733\u001b[0m                 \u001b[0;31m# re-raise KeyboardInterrupt, to truncate traceback\u001b[0m\u001b[0;34m\u001b[0m\u001b[0;34m\u001b[0m\u001b[0;34m\u001b[0m\u001b[0m\n\u001b[0;32m--> 734\u001b[0;31m                 \u001b[0;32mraise\u001b[0m \u001b[0mKeyboardInterrupt\u001b[0m\u001b[0;34m\u001b[0m\u001b[0;34m\u001b[0m\u001b[0m\n\u001b[0m\u001b[1;32m    735\u001b[0m             \u001b[0;32melse\u001b[0m\u001b[0;34m:\u001b[0m\u001b[0;34m\u001b[0m\u001b[0;34m\u001b[0m\u001b[0m\n\u001b[1;32m    736\u001b[0m                 \u001b[0;32mbreak\u001b[0m\u001b[0;34m\u001b[0m\u001b[0;34m\u001b[0m\u001b[0m\n",
            "\u001b[0;31mKeyboardInterrupt\u001b[0m: "
          ]
        }
      ]
    },
    {
      "cell_type": "code",
      "metadata": {
        "id": "CPKcRchg6Q9e"
      },
      "source": [
        "import json"
      ],
      "execution_count": 2,
      "outputs": []
    },
    {
      "cell_type": "code",
      "metadata": {
        "id": "CdVqFsKf8eVZ",
        "colab": {
          "base_uri": "https://localhost:8080/"
        },
        "outputId": "dadea82d-d227-4b45-dc72-b53925813f52"
      },
      "source": [
        "jdata = {\n",
        "    \"request_id\": \"0\",\n",
        "    \"return_type\": \"omAnalysis\",\n",
        "    \"result\": 0,\n",
        "    \"reason\": \"\",\n",
        "    \"return_object\": {\n",
        "        \"query\": \"한국의 가을은 매우 아름답습니다.\",\n",
        "        \"type\": \"감성분석\",\n",
        "        \"score\": 0.9999995231628418,\n",
        "        \"label\": \"긍정\"\n",
        "    },\n",
        "    \"result_code\": \"success\"\n",
        "}\n",
        "print(type(jdata))"
      ],
      "execution_count": 3,
      "outputs": [
        {
          "output_type": "stream",
          "name": "stdout",
          "text": [
            "<class 'dict'>\n"
          ]
        }
      ]
    },
    {
      "cell_type": "code",
      "metadata": {
        "id": "HScl8Ndk8iIv",
        "colab": {
          "base_uri": "https://localhost:8080/"
        },
        "outputId": "0e0ee30c-16e2-473a-8e23-ae4182b64d7e"
      },
      "source": [
        "jsonStr = json.dumps(jdata)\n",
        "print(jsonStr)\n",
        "print(type(jsonStr))"
      ],
      "execution_count": 4,
      "outputs": [
        {
          "output_type": "stream",
          "name": "stdout",
          "text": [
            "{\"request_id\": \"0\", \"return_type\": \"omAnalysis\", \"result\": 0, \"reason\": \"\", \"return_object\": {\"query\": \"\\ud55c\\uad6d\\uc758 \\uac00\\uc744\\uc740 \\ub9e4\\uc6b0 \\uc544\\ub984\\ub2f5\\uc2b5\\ub2c8\\ub2e4.\", \"type\": \"\\uac10\\uc131\\ubd84\\uc11d\", \"score\": 0.9999995231628418, \"label\": \"\\uae0d\\uc815\"}, \"result_code\": \"success\"}\n",
            "<class 'str'>\n"
          ]
        }
      ]
    },
    {
      "cell_type": "code",
      "metadata": {
        "id": "Sk9vsFgD8sE7"
      },
      "source": [
        "jsonStr1 = json.dumps(jdata, indent='\\t')\n",
        "print(jsonStr1)\n",
        "print(type(jsonStr1))"
      ],
      "execution_count": null,
      "outputs": []
    },
    {
      "cell_type": "code",
      "metadata": {
        "id": "fngne7fR8yoO",
        "colab": {
          "base_uri": "https://localhost:8080/"
        },
        "outputId": "756ac55a-dacb-4678-d728-ef102a402012"
      },
      "source": [
        "jsonStr2 = json.dumps(jdata, indent='\\t', ensure_ascii=False)\n",
        "print(jsonStr2)\n",
        "print(type(jsonStr2))"
      ],
      "execution_count": 12,
      "outputs": [
        {
          "output_type": "stream",
          "name": "stdout",
          "text": [
            "{\n",
            "\t\"request_id\": \"0\",\n",
            "\t\"return_type\": \"omAnalysis\",\n",
            "\t\"result\": 0,\n",
            "\t\"reason\": \"\",\n",
            "\t\"return_object\": {\n",
            "\t\t\"query\": \"한국의 가을은 매우 아름답습니다.\",\n",
            "\t\t\"type\": \"감성분석\",\n",
            "\t\t\"score\": 0.9999995231628418,\n",
            "\t\t\"label\": \"긍정\"\n",
            "\t},\n",
            "\t\"result_code\": \"success\"\n",
            "}\n",
            "<class 'str'>\n"
          ]
        }
      ]
    },
    {
      "cell_type": "markdown",
      "metadata": {
        "id": "dV9VNxED9pW3"
      },
      "source": [
        "### **JSON 디코딩**\n",
        "\n",
        "\n",
        "```\n",
        "json.loads()\n",
        "```\n",
        "\n",
        "+ JSON 문자열을 딕션너리, 리스트, 튜플과 같은 Python 타입으로 변경\n"
      ]
    },
    {
      "cell_type": "code",
      "metadata": {
        "id": "waPRX4TS94Tl",
        "colab": {
          "base_uri": "https://localhost:8080/"
        },
        "outputId": "1bb2cdf5-6083-4506-df81-12e759963ef7"
      },
      "source": [
        "print(type(jsonStr2))\n",
        "\n",
        "dt = json.loads(jsonStr2)\n",
        "print(dt)\n",
        "print(type(dt))\n",
        "\n",
        "for key, value in dt.items():\n",
        "  print(key, value)\n",
        "\n",
        "for key  in dt:\n",
        "  print(key, dt[key])\n",
        "\n",
        "for key  in dt:\n",
        "  print(key, dt.get(key))\n"
      ],
      "execution_count": 13,
      "outputs": [
        {
          "output_type": "stream",
          "name": "stdout",
          "text": [
            "<class 'str'>\n",
            "{'request_id': '0', 'return_type': 'omAnalysis', 'result': 0, 'reason': '', 'return_object': {'query': '한국의 가을은 매우 아름답습니다.', 'type': '감성분석', 'score': 0.9999995231628418, 'label': '긍정'}, 'result_code': 'success'}\n",
            "<class 'dict'>\n",
            "request_id 0\n",
            "return_type omAnalysis\n",
            "result 0\n",
            "reason \n",
            "return_object {'query': '한국의 가을은 매우 아름답습니다.', 'type': '감성분석', 'score': 0.9999995231628418, 'label': '긍정'}\n",
            "result_code success\n",
            "request_id 0\n",
            "return_type omAnalysis\n",
            "result 0\n",
            "reason \n",
            "return_object {'query': '한국의 가을은 매우 아름답습니다.', 'type': '감성분석', 'score': 0.9999995231628418, 'label': '긍정'}\n",
            "result_code success\n",
            "request_id 0\n",
            "return_type omAnalysis\n",
            "result 0\n",
            "reason \n",
            "return_object {'query': '한국의 가을은 매우 아름답습니다.', 'type': '감성분석', 'score': 0.9999995231628418, 'label': '긍정'}\n",
            "result_code success\n"
          ]
        }
      ]
    },
    {
      "cell_type": "markdown",
      "metadata": {
        "id": "-kDISHDT_nHW"
      },
      "source": [
        "\n",
        "\n",
        "---\n",
        "해결문제) data.json 파일을 읽어서 감성분석 문장과 결과 출력하시오.\n",
        "\n",
        "\n",
        "---\n",
        "\n",
        "\n"
      ]
    },
    {
      "cell_type": "code",
      "metadata": {
        "colab": {
          "base_uri": "https://localhost:8080/"
        },
        "id": "2yjw46Cq-dUN",
        "outputId": "3f9ec209-bed4-4cd6-c6ef-d4da3f40c480"
      },
      "source": [
        "import json\n",
        "with open('/data.json', 'r', encoding='utf-8') as fp:\n",
        "  data = fp.readlines()\n",
        "data\n"
      ],
      "execution_count": 18,
      "outputs": [
        {
          "output_type": "execute_result",
          "data": {
            "text/plain": [
              "['{\\n',\n",
              " '    \"request_id\": \"0\",\\n',\n",
              " '    \"return_type\": \"omAnalysis\",\\n',\n",
              " '    \"result\": 0,\\n',\n",
              " '    \"reason\": \"\",\\n',\n",
              " '    \"return_object\": {\\n',\n",
              " '        \"query\": \"한국의 가을은 매우 아름답습니다.\",\\n',\n",
              " '        \"type\": \"감성분석\",\\n',\n",
              " '        \"score\": 0.9999995231628418,\\n',\n",
              " '        \"label\": \"긍정\"\\n',\n",
              " '    },\\n',\n",
              " '    \"result_code\": \"success\"\\n',\n",
              " '}']"
            ]
          },
          "metadata": {},
          "execution_count": 18
        }
      ]
    },
    {
      "cell_type": "code",
      "metadata": {
        "id": "I79xhvDDFd2L",
        "colab": {
          "base_uri": "https://localhost:8080/"
        },
        "outputId": "4a56f9d5-4821-47c9-cad7-62872719eaff"
      },
      "source": [
        "import json\n",
        "with open('/data.json', 'r', encoding='utf-8') as fp:\n",
        "  data = fp.read()\n",
        "print(data)\n",
        "print(type(data))\n"
      ],
      "execution_count": 23,
      "outputs": [
        {
          "output_type": "stream",
          "name": "stdout",
          "text": [
            "{\n",
            "    \"request_id\": \"0\",\n",
            "    \"return_type\": \"omAnalysis\",\n",
            "    \"result\": 0,\n",
            "    \"reason\": \"\",\n",
            "    \"return_object\": {\n",
            "        \"query\": \"한국의 가을은 매우 아름답습니다.\",\n",
            "        \"type\": \"감성분석\",\n",
            "        \"score\": 0.9999995231628418,\n",
            "        \"label\": \"긍정\"\n",
            "    },\n",
            "    \"result_code\": \"success\"\n",
            "}\n",
            "<class 'str'>\n"
          ]
        }
      ]
    },
    {
      "cell_type": "code",
      "metadata": {
        "colab": {
          "base_uri": "https://localhost:8080/"
        },
        "id": "K5-gTEl4F9mp",
        "outputId": "e2a04ef8-52b2-4850-ea0d-d61d76d6632d"
      },
      "source": [
        "#json 디코딩 json.loads(data)\n",
        "import json\n",
        "dt = json.loads(data)\n",
        "print(dt)"
      ],
      "execution_count": 29,
      "outputs": [
        {
          "output_type": "stream",
          "name": "stdout",
          "text": [
            "{'request_id': '0', 'return_type': 'omAnalysis', 'result': 0, 'reason': '', 'return_object': {'query': '한국의 가을은 매우 아름답습니다.', 'type': '감성분석', 'score': 0.9999995231628418, 'label': '긍정'}, 'result_code': 'success'}\t"
          ]
        }
      ]
    },
    {
      "cell_type": "code",
      "metadata": {
        "id": "Ul4ToPrpG3UG"
      },
      "source": [
        "dt"
      ],
      "execution_count": null,
      "outputs": []
    },
    {
      "cell_type": "code",
      "metadata": {
        "id": "Y_N_26cxGjsH",
        "colab": {
          "base_uri": "https://localhost:8080/"
        },
        "outputId": "da6c7c42-27ab-4fd7-9406-21e0166b9e8e"
      },
      "source": [
        "rt = dt['return_object']\n",
        "rt"
      ],
      "execution_count": 30,
      "outputs": [
        {
          "output_type": "execute_result",
          "data": {
            "text/plain": [
              "{'label': '긍정',\n",
              " 'query': '한국의 가을은 매우 아름답습니다.',\n",
              " 'score': 0.9999995231628418,\n",
              " 'type': '감성분석'}"
            ]
          },
          "metadata": {},
          "execution_count": 30
        }
      ]
    },
    {
      "cell_type": "code",
      "metadata": {
        "colab": {
          "base_uri": "https://localhost:8080/"
        },
        "id": "Yp99L--THS_K",
        "outputId": "197954e9-4109-4a08-b023-f28ece934ec7"
      },
      "source": [
        "print(f\"{rt['query']} : {rt['type']} - {rt['label']}({rt['score'] * 100}%)\")\n",
        "\n"
      ],
      "execution_count": 33,
      "outputs": [
        {
          "output_type": "stream",
          "name": "stdout",
          "text": [
            "한국의 가을은 매우 아름답습니다. : 감성분석 - 긍정(99.99995231628418%)\n"
          ]
        }
      ]
    },
    {
      "cell_type": "markdown",
      "metadata": {
        "id": "OdDbYHG8Gm9_"
      },
      "source": [
        "###**실습문제) 비트코인 데이터**\n",
        "\n"
      ]
    },
    {
      "cell_type": "code",
      "metadata": {
        "id": "kLouAO-zCy6p"
      },
      "source": [
        "#물품구입 프로그램\n",
        "\n",
        "# 가격이 50,000원인 물건이 있을 때\n",
        "# 사용자에게 예산을 입력받아\n",
        "# 입력한 예산이 숫자이면\n",
        "# - 몇 개의 물건을 살 수 있는지 알려주고\n",
        "# 입력한 예산이 숫자가 아니면\n",
        "# - 숫자를 입력하라고 알려준다\n"
      ],
      "execution_count": null,
      "outputs": []
    },
    {
      "cell_type": "code",
      "metadata": {
        "colab": {
          "base_uri": "https://localhost:8080/"
        },
        "id": "6e92pPgdOmKZ",
        "outputId": "3e990bdf-4d68-4017-dee0-0ce4e4e4e1ae"
      },
      "source": [
        "price = 50000\n",
        "budget = input('얼마를 갖고 있나요? : ')\n",
        "\n",
        "if budget.isdecimal() :\n",
        "  print(f\"구매할 수 있는 물건의 개 수는 {float(budget) / price}개 입니다.\")\n",
        "else :\n",
        "  print(\"숫자를 입력해주세요.\")"
      ],
      "execution_count": 42,
      "outputs": [
        {
          "output_type": "stream",
          "name": "stdout",
          "text": [
            "얼마를 갖고 있나요? : 70000\n",
            "구매할 수 있는 물건의 개 수는 1.4개 입니다.\n"
          ]
        }
      ]
    },
    {
      "cell_type": "markdown",
      "metadata": {
        "id": "N0CjNLzdBwmo"
      },
      "source": [
        "\n",
        "\n",
        "```\n",
        "from urllib.request import urlopen\n",
        "\n",
        "url = 'https://api.coindesk.com/v1/bpi/currentprice/KRW.json'\n",
        "response = urlopen(url)\n",
        "source = response.read().decode('utf-8')\n",
        "```\n",
        "\n"
      ]
    },
    {
      "cell_type": "code",
      "metadata": {
        "id": "bXQrKrC2PZQj"
      },
      "source": [
        "#실시간으로 가격이 변하는 비트코인을 몇 개 살 수 있을까?\n",
        "# https://coindesk.com\n",
        "\n",
        "from urllib.request import urlopen\n",
        "\n",
        "url = 'https://api.coindesk.com/v1/bpi/currentprice/KRW.json'\n",
        "response = urlopen(url)\n",
        "source = response.read().decode('utf-8')"
      ],
      "execution_count": 44,
      "outputs": []
    },
    {
      "cell_type": "markdown",
      "metadata": {
        "id": "KmQ01Ik9RNMR"
      },
      "source": [
        "`{\"time\":{\"updated\":\"Nov 21, 2021 11:25:00 UTC\",\"updatedISO\":\"2021-11-21T11:25:00+00:00\",\"updateduk\":\"Nov 21, 2021 at 11:25 GMT\"},\"disclaimer\":\"This data was produced from the CoinDesk Bitcoin Price Index (USD). Non-USD currency data converted using hourly conversion rate from openexchangerates.org\",\"bpi\":{\"USD\":{\"code\":\"USD\",\"rate\":\"58,767.2288\",\"description\":\"United States Dollar\",\"rate_float\":58767.2288},\"KRW\":{\"code\":\"KRW\",\"rate\":\"70,035,256.6384\",\"description\":\"South Korean Won\",\"rate_float\":70035256.6384}}}`"
      ]
    },
    {
      "cell_type": "code",
      "metadata": {
        "colab": {
          "base_uri": "https://localhost:8080/"
        },
        "id": "jx5SDNo8RXeO",
        "outputId": "3a567839-8ac7-48fd-abbe-62bdf5b799a8"
      },
      "source": [
        "#비트코인 가격(원화)추출하기\n",
        "#https://codebeautify.org/jsonviewer\n",
        "\n",
        "import json\n",
        "tree = json.loads(source)\n",
        "print(tree['bpi']['KRW']['rate_float'])"
      ],
      "execution_count": 47,
      "outputs": [
        {
          "output_type": "stream",
          "name": "stdout",
          "text": [
            "68662987.3201\n"
          ]
        }
      ]
    },
    {
      "cell_type": "code",
      "metadata": {
        "colab": {
          "base_uri": "https://localhost:8080/"
        },
        "id": "HlBnrBPSSYlO",
        "outputId": "0b5cd778-d1bc-4463-bce4-06c26d136d60"
      },
      "source": [
        "#그래서 몇 개를 살 수 있나요?\n",
        "#사용자로부터 입력받은 예산으로 현재 비트코인가격을 확인해서 몇 개를 구입할 수 있는지 계산한다.\n",
        "\n",
        "from urllib.request import urlopen\n",
        "import json\n",
        "\n",
        "budget = input('얼마를 갖고 있나요.')\n",
        "\n",
        "if budget.isdecimal() :\n",
        "  tree = json.loads(source)\n",
        "  price = tree['bpi']['KRW']['rate_float']\n",
        "  print(f\"{float(budget)/price}개 비트코인을 살 수 있습니다.\")\n",
        "else :\n",
        "  print(\"숫자를 입력해주세요.\")"
      ],
      "execution_count": 49,
      "outputs": [
        {
          "output_type": "stream",
          "name": "stdout",
          "text": [
            "얼마를 갖고 있나요.500000000\n",
            "7.281943584380474개 비트코인을 살 수 있습니다.\n"
          ]
        }
      ]
    },
    {
      "cell_type": "code",
      "metadata": {
        "id": "WwQvAwGYVK14",
        "colab": {
          "base_uri": "https://localhost:8080/"
        },
        "outputId": "8b49231f-deac-4aa7-8e93-dcca9a69618b"
      },
      "source": [
        "#함수로 만들어보기\n",
        "\n",
        "from urllib.request import urlopen\n",
        "import json\n",
        "\n",
        "def howmuch() :\n",
        "  budget = input('얼마를 갖고 있나요.')\n",
        "\n",
        "  if budget.isdecimal() :\n",
        "    tree = json.loads(source)\n",
        "    price = tree['bpi']['KRW']['rate_float']\n",
        "    print(f\"{float(budget)/price}개 비트코인을 살 수 있습니다.\")\n",
        "  else :\n",
        "    print(\"숫자를 입력해주세요.\")\n",
        "\n",
        "print(howmuch())"
      ],
      "execution_count": 52,
      "outputs": [
        {
          "output_type": "stream",
          "name": "stdout",
          "text": [
            "얼마를 갖고 있나요.70000000000\n",
            "1019.4721018132664개 비트코인을 살 수 있습니다.\n",
            "None\n"
          ]
        }
      ]
    }
  ]
}
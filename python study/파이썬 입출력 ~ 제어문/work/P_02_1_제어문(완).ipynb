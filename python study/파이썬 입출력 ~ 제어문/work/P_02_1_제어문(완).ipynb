{
  "nbformat": 4,
  "nbformat_minor": 0,
  "metadata": {
    "colab": {
      "name": "P_02_1_제어문(완).ipynb",
      "provenance": [],
      "collapsed_sections": [
        "OeoNltmRAdSn",
        "w8PungGCIer2",
        "ugOOyJcZL7C4",
        "A-ZgEFImA07Z",
        "q445-fSHNofR",
        "Qf8uFczZJ3ua",
        "JjYamAX4Kl8q",
        "QGmhAej3LXW2",
        "18ZmSY_aMwGk",
        "xcoh-DR1JAbb",
        "6vilRTKoO7RK",
        "FDiSSllDRIFI"
      ],
      "toc_visible": true,
      "include_colab_link": true
    },
    "kernelspec": {
      "name": "python3",
      "display_name": "Python 3"
    }
  },
  "cells": [
    {
      "cell_type": "markdown",
      "metadata": {
        "id": "view-in-github",
        "colab_type": "text"
      },
      "source": [
        "<a href=\"https://colab.research.google.com/github/teacher014/pyhonbasic/blob/main/P_02_1_%EC%A0%9C%EC%96%B4%EB%AC%B8(%EC%99%84).ipynb\" target=\"_parent\"><img src=\"https://colab.research.google.com/assets/colab-badge.svg\" alt=\"Open In Colab\"/></a>"
      ]
    },
    {
      "cell_type": "markdown",
      "metadata": {
        "id": "OeoNltmRAdSn"
      },
      "source": [
        "# 조건문\n",
        " - 프로그램의 실행 흐름을 바꾸고자 할 때 사용하는 제어문\n",
        " - 사용자가 지정한 조건에 따라 실행할 문장을 결정함\n",
        "\n",
        "# if ... : elif ... :\n",
        "- if 조건문 뒤에는 반드시 콜론(:)\n",
        "- 바로 아래 문장부터 if문에 속하는 모든 문장에 들여쓰기(indentation)를 해야 함\n",
        "- 파이썬에는 다른 언어에 있는 switch 문이 존재하지 않음 : if...elif...elif... 문으로 수행\n",
        "- pass  : def 문이나 if 문처럼 코드 블록을 본문으로 갖는 표현에서 본문을 비워 둘 때 사용\n"
      ]
    },
    {
      "cell_type": "code",
      "metadata": {
        "id": "aS31_bgaR4dn",
        "colab": {
          "base_uri": "https://localhost:8080/"
        },
        "outputId": "ebf20eb6-8b44-49f9-e625-63265341de00"
      },
      "source": [
        "# 조건문\n",
        "# 짝수 홀수 구분 \n",
        "x = int(input('값입력 : '))\n",
        "\n",
        "if (x % 2 == 0) : \n",
        "    print(f'{x}는 짝수')\n",
        "else:\n",
        "    print(f'{x}는 홀수')"
      ],
      "execution_count": null,
      "outputs": [
        {
          "output_type": "stream",
          "name": "stdout",
          "text": [
            "값입력 : 5\n",
            "5는 홀수\n"
          ]
        }
      ]
    },
    {
      "cell_type": "code",
      "metadata": {
        "id": "SgVs11nGYCeO",
        "colab": {
          "base_uri": "https://localhost:8080/"
        },
        "outputId": "3a304ed2-2249-4166-cd82-f62249384041"
      },
      "source": [
        "# 성적처리 \n",
        "x = float(input('성적입력 : '))\n",
        "\n",
        "if x >= 70 :\n",
        "    print(f'{x}는 Pass')\n",
        "elif x >= 60 :\n",
        "    print(f'{x}는 재시험')\n",
        "else :\n",
        "    print(f'{x}는 fail')\n"
      ],
      "execution_count": null,
      "outputs": [
        {
          "output_type": "stream",
          "name": "stdout",
          "text": [
            "성적입력 : 90\n",
            "90.0는 Pass\n"
          ]
        }
      ]
    },
    {
      "cell_type": "markdown",
      "metadata": {
        "id": "w8PungGCIer2"
      },
      "source": [
        "### (연습문제) 성적등급(A, B, C, D, F) 판정\n",
        "90점 이상 : 'A', 80점 이상 : 'B', 70점 이상 : 'C', 60점 이상:'D', 그 외 : 'F'\n",
        "\n",
        "(출력)\n",
        "```\n",
        "점수입력: 50\n",
        "성적 : 50\n",
        "등급 : F\n",
        "```\n",
        "\n"
      ]
    },
    {
      "cell_type": "markdown",
      "metadata": {
        "id": "yhX9FjMvs5En"
      },
      "source": [
        "**(연습문제)**\n",
        "정수를 입력받아 다음 수소 이온 지수(pH)*범위 내의 숫자일 경우, 해당 용액의 종류를 출력해보자<br>\n",
        "*용액 속에 포함된 수소 이온의 농도를 숫자로 표현한 지수<p>\n",
        "\n",
        "pH    : 용액의 종류  \n",
        "0 ~ 3 : 강산성<br>\n",
        "4 ~ 6 : 약산성<br>\n",
        "7     : 중성<br>\n",
        "8 ~ 10 : 약염기성<br>\n",
        "11 ~ 14 : 강염기성<br>\n",
        "<img src=\"http://down.edunet4u.net/KEDNCM/A000800002_20180220/AEC7C2C2-A2D1-22CA-2E82-FBC6D21A9EFD.jpg\" width=400>"
      ]
    },
    {
      "cell_type": "code",
      "metadata": {
        "colab": {
          "base_uri": "https://localhost:8080/"
        },
        "id": "-z-FES_QwHi8",
        "outputId": "62eb2f49-189d-4a55-85b1-95924f7562c7"
      },
      "source": [
        "ph = int(input(\"pH : \"))\n",
        "if ph >= 0 and ph <= 3:\n",
        "    print(\"강산성\")\n",
        "if ph >= 4 and ph <= 6:   # ph <= 6 도 가능\n",
        "    print(\"약산성\")\n",
        "if ph == 7:\n",
        "    print(\"중성\")\n",
        "if ph >= 8 and ph <= 10:   # ph <= 9 도 가능\n",
        "    print(\"약염기성\")\n",
        "if ph >= 11 and ph <= 14: # ph <=14 도 가능\n",
        "    print(\"강염기성\")"
      ],
      "execution_count": null,
      "outputs": [
        {
          "output_type": "stream",
          "name": "stdout",
          "text": [
            "pH : 9\n",
            "약염기성\n"
          ]
        }
      ]
    },
    {
      "cell_type": "code",
      "metadata": {
        "colab": {
          "base_uri": "https://localhost:8080/"
        },
        "id": "EqCCAoLpwLW2",
        "outputId": "65cf6d79-90cc-4392-c0bd-7af3925d0e3f"
      },
      "source": [
        "ph = int(input(\"pH : \"))\n",
        "if ph >= 0 and ph <= 3:\n",
        "    print(\"강산성\")\n",
        "elif ph <= 6:\n",
        "    print(\"약산성\")\n",
        "elif ph == 7:\n",
        "    print(\"중성\")\n",
        "elif ph <= 10:\n",
        "    print(\"약염기성\")\n",
        "elif ph <= 14:\n",
        "    print(\"강염기성\")"
      ],
      "execution_count": null,
      "outputs": [
        {
          "output_type": "stream",
          "name": "stdout",
          "text": [
            "pH : 9\n",
            "약염기성\n"
          ]
        }
      ]
    },
    {
      "cell_type": "code",
      "metadata": {
        "colab": {
          "base_uri": "https://localhost:8080/"
        },
        "id": "8yq0VQOSzidd",
        "outputId": "ca1f1d05-3d48-42b5-8ecb-fd1e0a529cc3"
      },
      "source": [
        "ph = int(input(\"pH : \"))\n",
        "if ph >= 0 and ph <= 3:\n",
        "    print(\"강산성\")\n",
        "if ph <= 6:\n",
        "    print(\"약산성\")\n",
        "if ph == 7:\n",
        "    print(\"중성\")\n",
        "if ph <= 10:\n",
        "    print(\"약염기성\")\n",
        "if ph <= 14:\n",
        "    print(\"강염기성\")"
      ],
      "execution_count": null,
      "outputs": [
        {
          "output_type": "stream",
          "name": "stdout",
          "text": [
            "pH : 9\n",
            "약염기성\n",
            "강염기성\n"
          ]
        }
      ]
    },
    {
      "cell_type": "markdown",
      "metadata": {
        "id": "ugOOyJcZL7C4"
      },
      "source": [
        "\n",
        "### 비교연산자 \n",
        "+ < ,  >,  >=, <=, == , !=\n",
        "\n",
        "### 논리연산자\n",
        "+ and, or, not\n"
      ]
    },
    {
      "cell_type": "code",
      "metadata": {
        "id": "Mpak5myULP1a"
      },
      "source": [
        "x = 10\n",
        "y = 20"
      ],
      "execution_count": null,
      "outputs": []
    },
    {
      "cell_type": "code",
      "metadata": {
        "id": "ijnkSmAsMJTu",
        "colab": {
          "base_uri": "https://localhost:8080/"
        },
        "outputId": "72238103-300a-4f44-e47c-0a20eb44b142"
      },
      "source": [
        "#비교연산자 \n",
        "x > y"
      ],
      "execution_count": null,
      "outputs": [
        {
          "output_type": "execute_result",
          "data": {
            "text/plain": [
              "False"
            ]
          },
          "metadata": {},
          "execution_count": 3
        }
      ]
    },
    {
      "cell_type": "code",
      "metadata": {
        "id": "EOmmm613M35h",
        "colab": {
          "base_uri": "https://localhost:8080/"
        },
        "outputId": "2e0f167f-47e2-4fcd-904a-7323eae2cc30"
      },
      "source": [
        "#논리연산자\n",
        "x > 10 and y > 10\n",
        "#x > 10 or y > 10\n",
        "#not x > 10"
      ],
      "execution_count": null,
      "outputs": [
        {
          "output_type": "execute_result",
          "data": {
            "text/plain": [
              "True"
            ]
          },
          "metadata": {},
          "execution_count": 9
        }
      ]
    },
    {
      "cell_type": "markdown",
      "metadata": {
        "id": "A-ZgEFImA07Z"
      },
      "source": [
        "### 불(bool)형\n",
        "bool형을 초기화하는 형식은 “변수=True/False”이며, 앞글자는 반드시 대문자로 입력한다. 또한, 주어진 조건에 대한 참/거짓 뿐만 아니라 값의 존재 여부에 따라서 값이 존재하면 참, 존재하지 않으면 거짓으로 판별한다."
      ]
    },
    {
      "cell_type": "code",
      "metadata": {
        "colab": {
          "base_uri": "https://localhost:8080/"
        },
        "id": "yeGx2gUIBLqf",
        "outputId": "9e5e3457-def1-4ff4-d0d3-05befcdb4e63"
      },
      "source": [
        "a = \"Hello python!\"\n",
        "if (a) : #만약 (a)의 값이 존재한다면 \n",
        "    print(\"참\")\n",
        "else : #아니면\n",
        "    print(\"거짓\")\n",
        "\n",
        "b = \"\"\n",
        "if (b) : #만약 (b)의 값이 존재한다면\n",
        "    print(\"참\")\n",
        "else : #아니면\n",
        "    print(\"거짓\")"
      ],
      "execution_count": null,
      "outputs": [
        {
          "output_type": "stream",
          "name": "stdout",
          "text": [
            "참\n",
            "거짓\n"
          ]
        }
      ]
    },
    {
      "cell_type": "code",
      "metadata": {
        "colab": {
          "base_uri": "https://localhost:8080/"
        },
        "id": "4ANqmzIytjOL",
        "outputId": "6b5cb78d-752e-4634-e403-fb07d7e7fdd0"
      },
      "source": [
        "ord('z')    "
      ],
      "execution_count": null,
      "outputs": [
        {
          "output_type": "execute_result",
          "data": {
            "text/plain": [
              "122"
            ]
          },
          "metadata": {},
          "execution_count": 47
        }
      ]
    },
    {
      "cell_type": "code",
      "metadata": {
        "colab": {
          "base_uri": "https://localhost:8080/"
        },
        "id": "ZdKDuYfwA2LC",
        "outputId": "8c1b8786-9ed4-45ec-fa37-7b6a22c0d95e"
      },
      "source": [
        "a = \"True\" \n",
        "if (a == \"True\") :\n",
        "  print(\"참\")\n",
        "else :\n",
        "  print(\"거짓\")\n",
        "\n",
        "b = True\n",
        "if (b == True) :\n",
        "  print(\"참\")\n",
        "else : \n",
        "  print(\"거짓\")"
      ],
      "execution_count": null,
      "outputs": [
        {
          "output_type": "stream",
          "name": "stdout",
          "text": [
            "참\n",
            "참\n"
          ]
        }
      ]
    },
    {
      "cell_type": "markdown",
      "metadata": {
        "id": "q445-fSHNofR"
      },
      "source": [
        "# 멤버십 연산자 : in\n",
        "+ 문자열이나 리스트나 튜플과 같이 연속적인 자료구조에 속한 멤버를 확인하기 위한 연산자"
      ]
    },
    {
      "cell_type": "code",
      "metadata": {
        "id": "1tzLShPNNsqe"
      },
      "source": [
        "str = '안녕하세요.'\n",
        "'안' in str"
      ],
      "execution_count": null,
      "outputs": []
    },
    {
      "cell_type": "code",
      "metadata": {
        "id": "7PeH1-dnOI4W"
      },
      "source": [
        "lst = list(range(5))\n",
        "5 in lst"
      ],
      "execution_count": null,
      "outputs": []
    },
    {
      "cell_type": "code",
      "metadata": {
        "id": "VPPLu2HjOXNv"
      },
      "source": [
        "d = {'a' : 1, 'b' : 2}\n",
        "'a' in d"
      ],
      "execution_count": null,
      "outputs": []
    },
    {
      "cell_type": "code",
      "metadata": {
        "id": "WrVQmJJhOhwY",
        "colab": {
          "base_uri": "https://localhost:8080/",
          "height": 35
        },
        "outputId": "44853357-9682-46be-d00a-d88ab2edfe20"
      },
      "source": [
        "2 in d.values()"
      ],
      "execution_count": null,
      "outputs": [
        {
          "output_type": "execute_result",
          "data": {
            "text/plain": [
              "True"
            ]
          },
          "metadata": {
            "tags": []
          },
          "execution_count": 15
        }
      ]
    },
    {
      "cell_type": "markdown",
      "metadata": {
        "id": "Qf8uFczZJ3ua"
      },
      "source": [
        "###(연습문제) **in 연산자 활용** 짝수와 홀수 구분하기\n",
        "사용자에게 숫자를 입력받아 짝수와 홀수를 구분하는 프로그램\n",
        "```\n",
        "last_ch = num[-1]\n",
        "# 짝수조건\n",
        "if last_ch in \"02468\": print(\"even\")  \n",
        "```"
      ]
    },
    {
      "cell_type": "code",
      "metadata": {
        "id": "iv6KUWCNKXlz",
        "colab": {
          "base_uri": "https://localhost:8080/"
        },
        "outputId": "51cb4dd4-6d8e-4625-8102-7e61e0e4dd9c"
      },
      "source": [
        "#입력\n",
        "num = input('정수 입력 :')\n",
        "last_ch = num[-1]\n",
        "#짝수\n",
        "if last_ch in \"02468\" : print(\"even\")\n",
        "else:\n",
        "  print(\"odd\")\n",
        "\n",
        "#홀수\n",
        "if last_ch in \"13579\" : print(\"odd\")"
      ],
      "execution_count": null,
      "outputs": [
        {
          "output_type": "stream",
          "name": "stdout",
          "text": [
            "정수 입력 :4\n",
            "even\n"
          ]
        }
      ]
    },
    {
      "cell_type": "code",
      "metadata": {
        "colab": {
          "base_uri": "https://localhost:8080/"
        },
        "id": "EbPKApmb40P7",
        "outputId": "b160f01c-c40e-462d-c11b-4fb500e6ffbc"
      },
      "source": [
        "import math\n",
        "import time\n",
        "\n",
        "start = time.time()\n",
        "math.factorial(100000)\n",
        "end = time.time()\n",
        "\n",
        "print(f\"{end - start:.5f} sec\")\n"
      ],
      "execution_count": null,
      "outputs": [
        {
          "output_type": "stream",
          "name": "stdout",
          "text": [
            "0.16236 sec\n"
          ]
        }
      ]
    },
    {
      "cell_type": "markdown",
      "metadata": {
        "id": "JjYamAX4Kl8q"
      },
      "source": [
        "###(연습문제) **나머지 연산자 활용** 짝수와 홀수 구분하기"
      ]
    },
    {
      "cell_type": "code",
      "metadata": {
        "id": "dTYszvbJKk0c"
      },
      "source": [
        "num = int(input('정수 입력 :'))\n",
        "\n",
        "#짝수\n",
        "if num % 2 == 0 : print(\"even\")\n",
        "else:\n",
        "  print(\"odd\")\n",
        "\n",
        "if num % 2 == 1 : print(\"odd\")\n"
      ],
      "execution_count": null,
      "outputs": []
    },
    {
      "cell_type": "markdown",
      "metadata": {
        "id": "QGmhAej3LXW2"
      },
      "source": [
        "###(확인문제) 다음 프로그램의 실행결과는?(눈으로)\n",
        "```\n",
        "if x > 4:\n",
        "     if y > 2:\n",
        "       print(x * y)\n",
        "else:\n",
        "     print(x + y)\n",
        "```\n",
        "```\n",
        "1. x, y = 2, 10\n",
        "2. x, y = 1, 4\n",
        "3. x, y = 10, 2\n",
        "```"
      ]
    },
    {
      "cell_type": "markdown",
      "metadata": {
        "id": "18ZmSY_aMwGk"
      },
      "source": [
        "###(확인문제) 다음 중첩 조건문에 논리 연산자를 적용하여 하나의 if 조건문으로 만들어보시오.\n",
        "```\n",
        "if x > 10:\n",
        "    if x < 20:\n",
        "        print(\"조건에 맞습니다\")\n",
        "```"
      ]
    },
    {
      "cell_type": "code",
      "metadata": {
        "colab": {
          "base_uri": "https://localhost:8080/"
        },
        "id": "oOPVEOa23qfW",
        "outputId": "ecd3a513-1f9a-4f34-e78b-79d6ab3b010a"
      },
      "source": [
        "x = 15\n",
        "if x > 10 and x < 20:\n",
        "  print(\"조건부합\")"
      ],
      "execution_count": null,
      "outputs": [
        {
          "output_type": "stream",
          "name": "stdout",
          "text": [
            "조건부합\n"
          ]
        }
      ]
    },
    {
      "cell_type": "code",
      "metadata": {
        "colab": {
          "base_uri": "https://localhost:8080/"
        },
        "id": "C1Gm9Wm-6CUp",
        "outputId": "ce44105e-4603-4d44-9835-904977eebc82"
      },
      "source": [
        "2005%12"
      ],
      "execution_count": null,
      "outputs": [
        {
          "output_type": "execute_result",
          "data": {
            "text/plain": [
              "1"
            ]
          },
          "metadata": {},
          "execution_count": 1
        }
      ]
    },
    {
      "cell_type": "markdown",
      "metadata": {
        "id": "xcoh-DR1JAbb"
      },
      "source": [
        "###(확인문제) 사용자에게 태어난 연도를 입력받아 띠를 출력하는 프로그램\n",
        "* 작성 시 입력받은 연도를 12로 나눈 나머지를 사용\n",
        "* 나머지 0, 1, 2, ..., 11일 때 각각의 띠 출력\n",
        "(자, 축, 인, 묘, 진, 사, 오, 미, 신, 유, 술, 해)\n",
        "\n",
        "(출력)\n",
        "```\n",
        "태어난 해는? 2005\n",
        "닭 띠 입니다.\n",
        "```\n",
        "\n"
      ]
    },
    {
      "cell_type": "code",
      "metadata": {
        "colab": {
          "base_uri": "https://localhost:8080/"
        },
        "id": "Ea94ZJm7jfls",
        "outputId": "6b797072-de8c-4fb8-dd3a-284fa8294f52"
      },
      "source": [
        "2005%12"
      ],
      "execution_count": null,
      "outputs": [
        {
          "output_type": "execute_result",
          "data": {
            "text/plain": [
              "1"
            ]
          },
          "metadata": {},
          "execution_count": 15
        }
      ]
    },
    {
      "cell_type": "code",
      "metadata": {
        "id": "uSnkCGwcNHDQ"
      },
      "source": [
        "sign = ('원숭이', '닭', '개', '돼지', '쥐', '소', '범', '토끼', '용', '뱀', '말', '양')\n",
        "str_input = input(\"태어난 해를 입력 : \")\n",
        "year_mod = (int(str_input))%12\n",
        "print(sign[year_mod], \"띠입니다.\")"
      ],
      "execution_count": null,
      "outputs": []
    },
    {
      "cell_type": "markdown",
      "metadata": {
        "id": "6vilRTKoO7RK"
      },
      "source": [
        "# 반복문 - for\n",
        "+ 컬렉션으로부터 하나씩 요소(element)를 가져와, 루프 내의 문장들을 실행"
      ]
    },
    {
      "cell_type": "code",
      "metadata": {
        "id": "6OPLY6uWPMVl",
        "colab": {
          "base_uri": "https://localhost:8080/",
          "height": 125
        },
        "outputId": "6019e29b-8900-4981-d9ac-5c86f644de2e"
      },
      "source": [
        "#문자열 \n",
        "for item in str : print(item)"
      ],
      "execution_count": null,
      "outputs": [
        {
          "output_type": "stream",
          "text": [
            "안\n",
            "녕\n",
            "하\n",
            "세\n",
            "요\n",
            ".\n"
          ],
          "name": "stdout"
        }
      ]
    },
    {
      "cell_type": "code",
      "metadata": {
        "id": "FqXfuooAPWsI",
        "colab": {
          "base_uri": "https://localhost:8080/",
          "height": 107
        },
        "outputId": "66b5b863-1b88-4a81-e856-e882bf623fa3"
      },
      "source": [
        "#리스트\n",
        "for item in lst : print(item)"
      ],
      "execution_count": null,
      "outputs": [
        {
          "output_type": "stream",
          "text": [
            "0\n",
            "1\n",
            "2\n",
            "3\n",
            "4\n"
          ],
          "name": "stdout"
        }
      ]
    },
    {
      "cell_type": "code",
      "metadata": {
        "id": "onHeMmyCPicR",
        "colab": {
          "base_uri": "https://localhost:8080/",
          "height": 53
        },
        "outputId": "079dcadb-ead7-4a74-b489-673a5e3d6c89"
      },
      "source": [
        "#딕션너리\n",
        "for item in d : print(item)"
      ],
      "execution_count": null,
      "outputs": [
        {
          "output_type": "stream",
          "text": [
            "a\n",
            "b\n"
          ],
          "name": "stdout"
        }
      ]
    },
    {
      "cell_type": "code",
      "metadata": {
        "id": "4xlCmIRUPpwF",
        "colab": {
          "base_uri": "https://localhost:8080/",
          "height": 53
        },
        "outputId": "cdba7119-239e-4906-d26e-dc0297a867b1"
      },
      "source": [
        "for item in d.values() : print(item)"
      ],
      "execution_count": null,
      "outputs": [
        {
          "output_type": "stream",
          "text": [
            "1\n",
            "2\n"
          ],
          "name": "stdout"
        }
      ]
    },
    {
      "cell_type": "code",
      "metadata": {
        "id": "4yeQJXtAPu7a",
        "colab": {
          "base_uri": "https://localhost:8080/",
          "height": 53
        },
        "outputId": "f8678425-1dd3-452d-d867-ef14843bdd27"
      },
      "source": [
        "for key, value in d.items() : print(key, value)"
      ],
      "execution_count": null,
      "outputs": [
        {
          "output_type": "stream",
          "text": [
            "a 1\n",
            "b 2\n"
          ],
          "name": "stdout"
        }
      ]
    },
    {
      "cell_type": "markdown",
      "metadata": {
        "id": "jSGL8AHSQAQ-"
      },
      "source": [
        "# range() 함수\n",
        "### **range(시작숫자, 종료숫자, step)**\n",
        "+ 결과는 시작숫자부터 종료숫자 바로 앞 숫자까지 컬렉션 생성\n",
        "+ 값을 확인하기 위해서는 순서가 있는 리스트나 튜플 컬렉션으로 변환해야 함\n",
        "+ 시작숫자를 생략하면 0부터 생성\n",
        "+ step을 생략하면 1씩 증가"
      ]
    },
    {
      "cell_type": "code",
      "metadata": {
        "colab": {
          "base_uri": "https://localhost:8080/"
        },
        "id": "4-dK2GLL8K1o",
        "outputId": "871593fd-8133-436d-ab60-9fc2bbaba483"
      },
      "source": [
        "x = range(10)\n",
        "print(x)"
      ],
      "execution_count": 1,
      "outputs": [
        {
          "output_type": "stream",
          "name": "stdout",
          "text": [
            "range(0, 10)\n"
          ]
        }
      ]
    },
    {
      "cell_type": "code",
      "metadata": {
        "id": "kwRAvaJsQnIK",
        "colab": {
          "base_uri": "https://localhost:8080/"
        },
        "outputId": "3684da6f-cb54-4848-bd44-bee426b94408"
      },
      "source": [
        "xlist = range(10)\n",
        "print(type(xlist))\n",
        "print(xlist)\n",
        "\n",
        "for item in xlist:\n",
        "    print(item, end = ' ')"
      ],
      "execution_count": 2,
      "outputs": [
        {
          "output_type": "stream",
          "name": "stdout",
          "text": [
            "<class 'range'>\n",
            "range(0, 10)\n",
            "0 1 2 3 4 5 6 7 8 9 "
          ]
        }
      ]
    },
    {
      "cell_type": "code",
      "metadata": {
        "id": "jea71glDQo3v",
        "colab": {
          "base_uri": "https://localhost:8080/"
        },
        "outputId": "eca13672-9581-4582-fcff-be93f7a63b7b"
      },
      "source": [
        "xlist = list(range(10))\n",
        "print(type(xlist))\n",
        "print(xlist)\n",
        "\n",
        "for item in xlist:\n",
        "    print(item, end = ' ')\n"
      ],
      "execution_count": 3,
      "outputs": [
        {
          "output_type": "stream",
          "name": "stdout",
          "text": [
            "<class 'list'>\n",
            "[0, 1, 2, 3, 4, 5, 6, 7, 8, 9]\n",
            "0 1 2 3 4 5 6 7 8 9 "
          ]
        }
      ]
    },
    {
      "cell_type": "code",
      "metadata": {
        "colab": {
          "base_uri": "https://localhost:8080/"
        },
        "id": "pB64WCPwTF5z",
        "outputId": "aea78337-5a06-4fb6-f0c4-233b190b88a7"
      },
      "source": [
        "print(type(range(0,10,3)))\n",
        "for i in range(0,10,3):\n",
        "  print(i)"
      ],
      "execution_count": 4,
      "outputs": [
        {
          "output_type": "stream",
          "name": "stdout",
          "text": [
            "<class 'range'>\n",
            "0\n",
            "3\n",
            "6\n",
            "9\n"
          ]
        }
      ]
    },
    {
      "cell_type": "markdown",
      "metadata": {
        "id": "FDiSSllDRIFI"
      },
      "source": [
        "## **For문을 이용한 리스트 변형**"
      ]
    },
    {
      "cell_type": "code",
      "metadata": {
        "id": "MLJDK-xERNKs",
        "colab": {
          "base_uri": "https://localhost:8080/"
        },
        "outputId": "4e587208-db85-46f3-98b2-49598b80d2ca"
      },
      "source": [
        "xlist = ['1','2']\n",
        "xlist = [int(item) for item in xlist]\n",
        "print(xlist)"
      ],
      "execution_count": 5,
      "outputs": [
        {
          "output_type": "stream",
          "name": "stdout",
          "text": [
            "[1, 2]\n"
          ]
        }
      ]
    },
    {
      "cell_type": "markdown",
      "metadata": {
        "id": "dr424pzHW-N1"
      },
      "source": [
        "## **반복문 while**\n",
        "+ while 키워드 다음의 조건식이 참일 경우 계속 while 안의 블럭을 실행"
      ]
    },
    {
      "cell_type": "code",
      "metadata": {
        "id": "If3Is_HFXf9y",
        "colab": {
          "base_uri": "https://localhost:8080/"
        },
        "outputId": "593ce6e5-d84b-47d0-b80f-3c965fa80129"
      },
      "source": [
        "i = 1\n",
        "while i <= 5 :\n",
        "    print(i)\n",
        "    i = i + 1"
      ],
      "execution_count": 6,
      "outputs": [
        {
          "output_type": "stream",
          "name": "stdout",
          "text": [
            "1\n",
            "2\n",
            "3\n",
            "4\n",
            "5\n"
          ]
        }
      ]
    },
    {
      "cell_type": "markdown",
      "metadata": {
        "id": "K_6csULMOhXR"
      },
      "source": [
        "###(연습문제) 열번 찍어 안 넘어 가는 나무 없다"
      ]
    },
    {
      "cell_type": "code",
      "metadata": {
        "colab": {
          "base_uri": "https://localhost:8080/"
        },
        "id": "boyp-XPqdj3y",
        "outputId": "4b560ccc-2dc7-4b1a-b0ad-f9e1e51603c1"
      },
      "source": [
        "treeHit = 0\n",
        "while treeHit < 11:\n",
        "  treeHit = treeHit + 1\n",
        "  print(\"나무를 %d번 찍었습니다.\" % treeHit)\n",
        "  if treeHit == 10:\n",
        "    print(\"나무가 안 넘어갑니다.\")\n",
        "  elif treeHit == 11:\n",
        "    print(\"11번을 찍는 것이 용기입니다.\")"
      ],
      "execution_count": 7,
      "outputs": [
        {
          "output_type": "stream",
          "name": "stdout",
          "text": [
            "나무를 1번 찍었습니다.\n",
            "나무를 2번 찍었습니다.\n",
            "나무를 3번 찍었습니다.\n",
            "나무를 4번 찍었습니다.\n",
            "나무를 5번 찍었습니다.\n",
            "나무를 6번 찍었습니다.\n",
            "나무를 7번 찍었습니다.\n",
            "나무를 8번 찍었습니다.\n",
            "나무를 9번 찍었습니다.\n",
            "나무를 10번 찍었습니다.\n",
            "나무가 안 넘어갑니다.\n",
            "나무를 11번 찍었습니다.\n",
            "11번을 찍는 것이 용기입니다.\n"
          ]
        }
      ]
    },
    {
      "cell_type": "markdown",
      "metadata": {
        "id": "lxwOO37Od0O9"
      },
      "source": [
        "###(연습문제) 구구단"
      ]
    },
    {
      "cell_type": "code",
      "metadata": {
        "colab": {
          "base_uri": "https://localhost:8080/"
        },
        "id": "ex_RV9yQaOwp",
        "outputId": "14201b5d-04ea-49e1-9e12-8e75cc41e0b4"
      },
      "source": [
        "for i in range(2, 10) :\n",
        "  for j in range(1, 10) :\n",
        "    print(f'{i}*{j}={i*j}', end=' ')"
      ],
      "execution_count": 8,
      "outputs": [
        {
          "output_type": "stream",
          "name": "stdout",
          "text": [
            "2*1=2 2*2=4 2*3=6 2*4=8 2*5=10 2*6=12 2*7=14 2*8=16 2*9=18 3*1=3 3*2=6 3*3=9 3*4=12 3*5=15 3*6=18 3*7=21 3*8=24 3*9=27 4*1=4 4*2=8 4*3=12 4*4=16 4*5=20 4*6=24 4*7=28 4*8=32 4*9=36 5*1=5 5*2=10 5*3=15 5*4=20 5*5=25 5*6=30 5*7=35 5*8=40 5*9=45 6*1=6 6*2=12 6*3=18 6*4=24 6*5=30 6*6=36 6*7=42 6*8=48 6*9=54 7*1=7 7*2=14 7*3=21 7*4=28 7*5=35 7*6=42 7*7=49 7*8=56 7*9=63 8*1=8 8*2=16 8*3=24 8*4=32 8*5=40 8*6=48 8*7=56 8*8=64 8*9=72 9*1=9 9*2=18 9*3=27 9*4=36 9*5=45 9*6=54 9*7=63 9*8=72 9*9=81 "
          ]
        }
      ]
    },
    {
      "cell_type": "code",
      "metadata": {
        "id": "bd_LXNyKaz3L"
      },
      "source": [
        "[f'{i}*{j}={i*j}' for i in range(2,10) for j in range(1,10) if i%2==1]"
      ],
      "execution_count": null,
      "outputs": []
    },
    {
      "cell_type": "markdown",
      "metadata": {
        "id": "zUVejkgUPFlC"
      },
      "source": [
        "###(연습문제) while문을 사용해 1부터 1000까지의 자연수 중 3의 배수의 합을 구해 보자."
      ]
    },
    {
      "cell_type": "code",
      "metadata": {
        "id": "Pv6IiTFR0S75"
      },
      "source": [
        "num, sum = 0, 0\n",
        "\n",
        "while num < 1000:\n",
        "  num += 1\n",
        "  if (num % 3) == 0: \n",
        "    print(f'{num} + {sum} = ', end='')\n",
        "    sum += num\n",
        "    print(sum)"
      ],
      "execution_count": null,
      "outputs": []
    },
    {
      "cell_type": "code",
      "metadata": {
        "colab": {
          "base_uri": "https://localhost:8080/"
        },
        "id": "6NbAmturhnNr",
        "outputId": "f03ff1a3-adb2-4657-a75d-6e6b551295b2"
      },
      "source": [
        "num, sum = 0, 0\n",
        "while (num <= 10):\n",
        "  if num % 3 == 0:\n",
        "    sum += num\n",
        "  print(num, sum)\n",
        "  num += 1"
      ],
      "execution_count": 21,
      "outputs": [
        {
          "output_type": "stream",
          "name": "stdout",
          "text": [
            "0 0\n",
            "1 0\n",
            "2 0\n",
            "3 3\n",
            "4 3\n",
            "5 3\n",
            "6 9\n",
            "7 9\n",
            "8 9\n",
            "9 18\n",
            "10 18\n"
          ]
        }
      ]
    },
    {
      "cell_type": "code",
      "metadata": {
        "colab": {
          "base_uri": "https://localhost:8080/"
        },
        "id": "G9E-3kQ9orYF",
        "outputId": "ec4e492b-ddcf-45b8-a5e4-f508d16af07c"
      },
      "source": [
        "i, sum = 0, 0\n",
        "while i <= 10:\n",
        "  sum = sum + i\n",
        "  i = i + 2\n",
        "  print(i, sum)"
      ],
      "execution_count": 15,
      "outputs": [
        {
          "output_type": "stream",
          "name": "stdout",
          "text": [
            "2 0\n",
            "4 2\n",
            "6 6\n",
            "8 12\n",
            "10 20\n",
            "12 30\n"
          ]
        }
      ]
    },
    {
      "cell_type": "code",
      "metadata": {
        "colab": {
          "base_uri": "https://localhost:8080/"
        },
        "id": "bz5dPZrzkqc9",
        "outputId": "f04593d8-cf86-4ee2-e455-128a8a3d2f6a"
      },
      "source": [
        "i = 0\n",
        "while (i < 100):\n",
        "  i = i + 1\n",
        "  if i % 10 == 3:\n",
        "    print(i, end= ' ')"
      ],
      "execution_count": 16,
      "outputs": [
        {
          "output_type": "stream",
          "name": "stdout",
          "text": [
            "3 13 23 33 43 53 63 73 83 93 "
          ]
        }
      ]
    },
    {
      "cell_type": "code",
      "metadata": {
        "colab": {
          "base_uri": "https://localhost:8080/"
        },
        "id": "nqsjD3s5m4EG",
        "outputId": "2a8e76c0-8c5d-4a82-bd39-72c9248e8dda"
      },
      "source": [
        "i = 0\n",
        "while (i < 100):\n",
        "    i = i + 1\n",
        "    if i % 10 != 3 : continue\n",
        "    print(i, end = ' ')"
      ],
      "execution_count": 17,
      "outputs": [
        {
          "output_type": "stream",
          "name": "stdout",
          "text": [
            "3 13 23 33 43 53 63 73 83 93 "
          ]
        }
      ]
    },
    {
      "cell_type": "markdown",
      "metadata": {
        "id": "vUSzSCZ0BZuw"
      },
      "source": [
        "(수행시간)\n",
        "```\n",
        "import math\n",
        "import time\n",
        "\n",
        "start = time.time()\n",
        "math.factorial(100000)\n",
        "end = time.time()\n",
        "print(f\"{end - start:.5f} sec\")\n",
        "```\n"
      ]
    },
    {
      "cell_type": "code",
      "metadata": {
        "id": "LRVnQycoCbMP",
        "colab": {
          "base_uri": "https://localhost:8080/"
        },
        "outputId": "8e4f1962-0d79-47a3-e483-8dd72d09d1ff"
      },
      "source": [
        "import math\n",
        "import time\n",
        "\n",
        "start = time.time()\n",
        "math.factorial(100000)\n",
        "end = time.time()\n",
        "print(f\"{end - start:.5f} sec\")"
      ],
      "execution_count": 25,
      "outputs": [
        {
          "output_type": "stream",
          "name": "stdout",
          "text": [
            "0.15988 sec\n"
          ]
        }
      ]
    },
    {
      "cell_type": "markdown",
      "metadata": {
        "id": "l72yo2UxX2HS"
      },
      "source": [
        "### **break 문**\n",
        "+ 반복문 안에서 루프를 빠져나오기 위해 을 사용\n",
        "\n",
        "### **continue문**\n",
        "+ 루프 블럭의 나머지 문장들을 실행하지 않고 다음 루프로 직접 돌아가게 함 "
      ]
    },
    {
      "cell_type": "code",
      "metadata": {
        "id": "ckVnUsahYJej",
        "colab": {
          "base_uri": "https://localhost:8080/"
        },
        "outputId": "44e44547-23ee-4103-d20c-944ce5b5aa42"
      },
      "source": [
        "i = 0\n",
        "while i <= 5 :\n",
        "    i = i + 1\n",
        "    if i == 2 : continue\n",
        "    \n",
        "    print(i)\n",
        "    \n",
        "    if i == 4 : break"
      ],
      "execution_count": 26,
      "outputs": [
        {
          "output_type": "stream",
          "name": "stdout",
          "text": [
            "1\n",
            "3\n",
            "4\n"
          ]
        }
      ]
    },
    {
      "cell_type": "code",
      "metadata": {
        "id": "MUw61u-01_h1",
        "colab": {
          "base_uri": "https://localhost:8080/"
        },
        "outputId": "4027c390-87b1-499c-e9c0-080f8d3990ad"
      },
      "source": [
        "a = 0\n",
        "while a < 10:\n",
        "    a = a + 1\n",
        "    if a % 2 == 0: continue\n",
        "    print(a)"
      ],
      "execution_count": 27,
      "outputs": [
        {
          "output_type": "stream",
          "name": "stdout",
          "text": [
            "1\n",
            "3\n",
            "5\n",
            "7\n",
            "9\n"
          ]
        }
      ]
    },
    {
      "cell_type": "code",
      "metadata": {
        "colab": {
          "base_uri": "https://localhost:8080/"
        },
        "id": "FuBB8rKy_68u",
        "outputId": "aa017c58-bffd-4d67-a634-7e0885aecbbc"
      },
      "source": [
        "i, j, k = 0, 0, 9\n",
        "while i < 10:\n",
        "  while j < 10 :\n",
        "    print('*', end='')\n",
        "    if k==j : break\n",
        "    j += 1\n",
        "  k-=1\n",
        "  i+=1\n",
        "  j=0\n",
        "  print()"
      ],
      "execution_count": 28,
      "outputs": [
        {
          "output_type": "stream",
          "name": "stdout",
          "text": [
            "**********\n",
            "*********\n",
            "********\n",
            "*******\n",
            "******\n",
            "*****\n",
            "****\n",
            "***\n",
            "**\n",
            "*\n"
          ]
        }
      ]
    },
    {
      "cell_type": "markdown",
      "metadata": {
        "id": "sqQN7pRrQMpN"
      },
      "source": [
        "(연습문제)for 문, while 문으로 1~100까지 합 구하기"
      ]
    },
    {
      "cell_type": "code",
      "metadata": {
        "id": "ks5C8voxQSRV",
        "colab": {
          "base_uri": "https://localhost:8080/"
        },
        "outputId": "48e614ad-667b-4141-8aaa-25f1f56aa756"
      },
      "source": [
        "#for\n",
        "sum = 0\n",
        "\n",
        "for i in range(1,101):\n",
        "  sum = sum + i\n",
        "print(sum)"
      ],
      "execution_count": 29,
      "outputs": [
        {
          "output_type": "stream",
          "name": "stdout",
          "text": [
            "5050\n"
          ]
        }
      ]
    },
    {
      "cell_type": "code",
      "metadata": {
        "colab": {
          "base_uri": "https://localhost:8080/"
        },
        "id": "AkhEl8b92q0X",
        "outputId": "b6dfbd34-d101-4708-9112-efd17fdf079d"
      },
      "source": [
        "sum = 0\n",
        "for i in range(1,11):\n",
        "  print(f'{sum} + {i} = ', end='')\n",
        "  sum += i  \n",
        "  print(sum)\n",
        "  #print(i, sum) "
      ],
      "execution_count": 30,
      "outputs": [
        {
          "output_type": "stream",
          "name": "stdout",
          "text": [
            "0 + 1 = 1\n",
            "1 + 2 = 3\n",
            "3 + 3 = 6\n",
            "6 + 4 = 10\n",
            "10 + 5 = 15\n",
            "15 + 6 = 21\n",
            "21 + 7 = 28\n",
            "28 + 8 = 36\n",
            "36 + 9 = 45\n",
            "45 + 10 = 55\n"
          ]
        }
      ]
    },
    {
      "cell_type": "code",
      "metadata": {
        "id": "8WochFWPVN1J",
        "colab": {
          "base_uri": "https://localhost:8080/"
        },
        "outputId": "3743c120-3f12-421c-a79c-2025e9cc0559"
      },
      "source": [
        "#while\n",
        "num = 0\n",
        "sum = 0\n",
        "while num < 100:\n",
        "    num += 1\n",
        "    sum = sum + num\n",
        "print(sum)"
      ],
      "execution_count": 31,
      "outputs": [
        {
          "output_type": "stream",
          "name": "stdout",
          "text": [
            "5050\n"
          ]
        }
      ]
    },
    {
      "cell_type": "code",
      "metadata": {
        "colab": {
          "base_uri": "https://localhost:8080/"
        },
        "id": "1q6kJy5s26nG",
        "outputId": "bfc69daa-c4ce-4030-ba0e-1f4843e754e1"
      },
      "source": [
        "sum = 0\n",
        "i = 1\n",
        "\n",
        "while i <= 10:\n",
        "  print(f'{sum} + {i} = ', end='') \n",
        "  sum += i\n",
        "  print(sum)\n",
        "  i += 1"
      ],
      "execution_count": 32,
      "outputs": [
        {
          "output_type": "stream",
          "name": "stdout",
          "text": [
            "0 + 1 = 1\n",
            "1 + 2 = 3\n",
            "3 + 3 = 6\n",
            "6 + 4 = 10\n",
            "10 + 5 = 15\n",
            "15 + 6 = 21\n",
            "21 + 7 = 28\n",
            "28 + 8 = 36\n",
            "36 + 9 = 45\n",
            "45 + 10 = 55\n"
          ]
        }
      ]
    },
    {
      "cell_type": "markdown",
      "metadata": {
        "id": "q3lKQhDYRYa1"
      },
      "source": [
        "\n",
        "\n",
        "---\n",
        "\n",
        "\n",
        "(해결문제) 5개의 숫자를 입력 받아서 리스트에 저장하고 짝수와 홀수 리스트를 만드시오.\n",
        "\n",
        "\n",
        "---\n",
        "\n"
      ]
    },
    {
      "cell_type": "code",
      "metadata": {
        "id": "2Q96m-zVJl9R"
      },
      "source": [
        "lst_even = list()\n",
        "lst_odd = []\n",
        "\n",
        "for i in range(5):\n",
        "  num = int(input('숫자 입력 : '))\n",
        "  if num % 2 == 0: lst_even.append(num)\n",
        "  else:lst_odd.append(num)\n",
        "\n",
        "print(lst_even)\n",
        "print(lst_odd)"
      ],
      "execution_count": null,
      "outputs": []
    },
    {
      "cell_type": "markdown",
      "metadata": {
        "id": "7FyVBrC8Rv30"
      },
      "source": [
        "\n",
        "\n",
        "---\n",
        "\n",
        "\n",
        "(해결문제) 지역별 식중독 지수와 대응요령 딕션너리를 참고하여 해당 지역을 입력 받아서 대응요령을 출력하시오.\n",
        "\n",
        "\n",
        "+ 위험 : 86 이상 \n",
        " - 설사, 구토 등 식중독 의심 증상이 있으면 의료기관을 방문하여 의사 지시에 따름\n",
        "\n",
        "+ 경고 : 71 이상 86 미만\n",
        " - 조리도구는 세척, 소독 등을 거쳐 세균오염을 방지하고 유통기한, 보관방법 등을 확인하여 음식물 조리. 보관에 각별히 주의하여야 함\n",
        "\n",
        "+ 주의 : 55 이상 71 미만\n",
        " - 조리음식은 중심부까지 75℃(어패류 85℃)로 1분 이상 완전히 익히고 외부로 운반할 때에는 가급적 아이스박스 등을 이용하여 10℃이하에서 보관 및 운반\n",
        "\n",
        "+ 관심 : 55 미만\n",
        " - 화장실 사용 후, 귀가 후, 조리 전에 손 씻기를 생활화\n",
        "\n",
        "\n",
        "---\n",
        "\n"
      ]
    },
    {
      "cell_type": "code",
      "metadata": {
        "id": "dzlWYyo2SinZ"
      },
      "source": [
        "area = {'서울시':57, '부산시':62, '대구시':59, \n",
        "        '인천시':59, '강화군':58, '서해5도':64, \n",
        "        '광주시':62, '대전시':60, '울산시':53, \n",
        "        '세종시':58\t}\n",
        "\n",
        "report = {'위험': '설사, 구토 등 식중독 의심 증상이 있으면 의료기관을 방문하여 의사 지시에 따름',\n",
        "         '경고': '조리도구는 세척, 소독 등을 거쳐 세균오염을 방지하고 유통기한, 보관방법 등을 확인하여 음식물 조리. 보관에 각별히 주의하여야 함',\n",
        "         '주의': '조리음식은 중심부까지 75℃(어패류 85℃)로 1분 이상 완전히 익히고 외부로 운반할 때에는 가급적 아이스박스 등을 이용하여 10℃이하에서 보관 및 운반',\n",
        "         '관심': '화장실 사용 후, 귀가 후, 조리 전에 손 씻기를 생활화'}"
      ],
      "execution_count": 34,
      "outputs": []
    },
    {
      "cell_type": "code",
      "metadata": {
        "id": "vhIGF-5qWUzJ",
        "colab": {
          "base_uri": "https://localhost:8080/",
          "height": 35
        },
        "outputId": "ab364095-37de-41d9-f548-e6ad4d98110d"
      },
      "source": [
        "area['강화군']\n",
        "report['위험']"
      ],
      "execution_count": 35,
      "outputs": [
        {
          "output_type": "execute_result",
          "data": {
            "application/vnd.google.colaboratory.intrinsic+json": {
              "type": "string"
            },
            "text/plain": [
              "'설사, 구토 등 식중독 의심 증상이 있으면 의료기관을 방문하여 의사 지시에 따름'"
            ]
          },
          "metadata": {},
          "execution_count": 35
        }
      ]
    },
    {
      "cell_type": "code",
      "metadata": {
        "colab": {
          "base_uri": "https://localhost:8080/"
        },
        "id": "eRiGQw7fhxy4",
        "outputId": "48dab4e6-0176-47bb-fd55-b03842cc63ec"
      },
      "source": [
        "'''\n",
        "1. 지역별 식중독 지수\n",
        "서울시\t57\n",
        "부산시\t62\n",
        "대구시\t59\n",
        "인천시\t59\n",
        "강화군\t58\n",
        "서해5도\t64\n",
        "광주시\t62\n",
        "대전시\t60\n",
        "울산시\t53\n",
        "세종시\t58\n",
        "\n",
        "2. 단계별 대응\n",
        "위험 : 86 이상 \n",
        "설사, 구토 등 식중독 의심 증상이 있으면 의료기관을 방문하여 의사 지시에 따름\n",
        "\n",
        "경고:71 이상 86 미만\n",
        "조리도구는 세척, 소독 등을 거쳐 세균오염을 방지하고 유통기한, 보관방법 등을 확인하여 음식물 조리. 보관에 각별히 주의하여야 함\n",
        "\n",
        "주의:55 이상 71 미만\n",
        "조리음식은 중심부까지 75℃(어패류 85℃)로 1분 이상 완전히 익히고 외부로 운반할 때에는 가급적 아이스박스 등을 이용하여 10℃이하에서 보관 및 운반\n",
        "\n",
        "관심:55 미만\n",
        "화장실 사용 후, 귀가 후, 조리 전에 손 씻기를 생활화\n",
        "'''\n",
        "\n",
        "show = {'위험':'설사, 구토 등 식중독 의심 증상이 있으면 의료기관을 방문하여 의사 지시에 따름', \n",
        "        '경고':'조리도구는 세척, 소독 등을 거쳐 세균오염을 방지하고 유통기한, 보관방법 등을 확인하여 음식물 조리. 보관에 각별히 주의하여야 함', \n",
        "        '주의':'조리음식은 중심부까지 75℃(어패류 85℃)로 1분 이상 완전히 익히고 외부로 운반할 때에는 가급적 아이스박스 등을 이용하여 10℃이하에서 보관 및 운반', \n",
        "        '관심':'화장실 사용 후, 귀가 후, 조리 전에 손 씻기를 생활화' }\n",
        "\n",
        "\n",
        "area = { \"서울시\" :57 , \"부산시\":\t62, \"대구시\" :\t59, \n",
        "        \"인천시\" :\t59 ,  \"강화군\" :58 , \"서해5도\" :64 ,\n",
        "        \"광주시\" :\t62 , \"대전시\" :\t60 , \"울산시\" :\t53 , \"세종시\" :\t58 }\n",
        "\n",
        "areashow = {}\n",
        "\n",
        "for key, value in area.items():\n",
        "    if value >= 86 : check = '위험' \n",
        "    elif value >= 71 : check = '경고' \n",
        "    elif value >= 55 :  check = '주의'\n",
        "    else :  check = '관심'\n",
        "\n",
        "    #print(key, '=>', check)\n",
        "    areashow[key] = check\n",
        "'''\n",
        "for key, value in area.items():\n",
        "    if value >= 86 : areashow[key] = '위험'\n",
        "    elif value >= 71 : areashow[key] = '경고'\n",
        "    elif value >= 55 : areashow[key] = '주의'\n",
        "    else : areashow[key] = '관심'\n",
        "'''\n",
        "\n",
        "print('지역 목록' , list(area.keys()) )\n",
        "indata = input('지역 목록에서 지역을 입력하세요.') \n",
        "print(f'{indata} : [{area[indata]}: {areashow[indata]}] \\n {show[areashow[indata]]}')\n"
      ],
      "execution_count": 56,
      "outputs": [
        {
          "output_type": "stream",
          "name": "stdout",
          "text": [
            "지역 목록 ['서울시', '부산시', '대구시', '인천시', '강화군', '서해5도', '광주시', '대전시', '울산시', '세종시']\n",
            "지역 목록에서 지역을 입력하세요.대구시\n",
            "대구시 : [59: 주의] \n",
            " 조리음식은 중심부까지 75℃(어패류 85℃)로 1분 이상 완전히 익히고 외부로 운반할 때에는 가급적 아이스박스 등을 이용하여 10℃이하에서 보관 및 운반\n"
          ]
        }
      ]
    }
  ]
}

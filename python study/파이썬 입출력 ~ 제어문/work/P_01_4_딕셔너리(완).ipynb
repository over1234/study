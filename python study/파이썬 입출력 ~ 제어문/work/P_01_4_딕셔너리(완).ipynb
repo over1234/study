{
  "nbformat": 4,
  "nbformat_minor": 0,
  "metadata": {
    "colab": {
      "name": "P_01_4_딕셔너리(완).ipynb",
      "provenance": [],
      "collapsed_sections": [],
      "toc_visible": true,
      "include_colab_link": true
    },
    "kernelspec": {
      "display_name": "Python 3",
      "language": "python",
      "name": "python3"
    },
    "language_info": {
      "codemirror_mode": {
        "name": "ipython",
        "version": 3
      },
      "file_extension": ".py",
      "mimetype": "text/x-python",
      "name": "python",
      "nbconvert_exporter": "python",
      "pygments_lexer": "ipython3",
      "version": "3.8.3"
    }
  },
  "cells": [
    {
      "cell_type": "markdown",
      "metadata": {
        "id": "view-in-github",
        "colab_type": "text"
      },
      "source": [
        "<a href=\"https://colab.research.google.com/github/teacher014/pyhonbasic/blob/main/P_01_4_%EB%94%95%EC%85%94%EB%84%88%EB%A6%AC(%EC%99%84).ipynb\" target=\"_parent\"><img src=\"https://colab.research.google.com/assets/colab-badge.svg\" alt=\"Open In Colab\"/></a>"
      ]
    },
    {
      "cell_type": "markdown",
      "metadata": {
        "id": "NejVhuE-L8qh"
      },
      "source": [
        "# 딕셔너리(dictionary)\n",
        "+ **특징**\n",
        " - 키(key)와 값(value) 쌍을 요소로 가짐\n",
        " - 중괄호({})로 작성되며 각 요소는 쉼표(,)로 구분\n",
        " - 순서 없음 \n",
        " - 키는 변경할 수 없으며 값은 변경가능 \n",
        "+ **딕셔너리 접근**\n",
        " - 특정 요소 값 : 딕셔너리명[키]\n",
        " - 요소 키 컬렉션  : 딕셔너리명.keys()\n",
        " - 요소 값 컬렉션 : 딕셔너리명.values()\n",
        " - 요소 키, 값 컬렉션 : 딕셔너리명.items()\n",
        " - 키와 요소 컬렉션은 list() 생성자로 리스트로 변환가능\n",
        "+ **요소 추가**\n",
        " - 딕셔너리명[추가키]=값\n",
        "+ **요소 수정**\n",
        " - 딕셔너리명[키]=값\n",
        "+ **요소 삭제**\n",
        " - del 딕셔너리명[키]\n",
        " - 딕셔너리명.pop[키]<p> \n",
        " \n",
        "<img src = \"https://dschloe.github.io/img/python_edu/01_basic/Step2_DataStructures/dictionary/dictionary.png#center\">\n",
        " \n"
      ]
    },
    {
      "cell_type": "markdown",
      "metadata": {
        "id": "lsvwugD3ZEqT"
      },
      "source": [
        "## 1. 딕셔너리 키와 값\n",
        "\n",
        "<img src = 'https://github.com/teacher-jiejie/allinone_AI/blob/images/12_%EB%94%95%EC%85%94%EB%84%88%EB%A6%AC.png?raw=true' width=400>\n",
        "<br/>\n",
        "<img src='https://github.com/teacher-jiejie/allinone_AI/blob/images/72_%EB%94%95%EC%85%94%EB%84%88%EB%A6%AC%20%EB%A6%AC%EC%8A%A4%ED%8A%B8%20%EB%B9%84%EA%B5%90.png?raw=true' width=300>\n",
        "<p>Key (키) - Value (값) 대응<p>\n",
        "\n",
        "```\n",
        "딕셔너리이름 = {키1 : 값1, 키2 : 값2, ... 키n : 값n}\n",
        "```\n"
      ]
    },
    {
      "cell_type": "markdown",
      "metadata": {
        "id": "QX2dlOVwLUE5"
      },
      "source": [
        "##**딕셔너리 만들기**##\n",
        "(참고) https://realpython.com/python-dicts/<br>\n",
        "\n",
        "1) {  } 이용\n",
        "```\n",
        "d = {\n",
        "    <key>: <value>,\n",
        "    <key>: <value>,\n",
        "      .\n",
        "      .\n",
        "      .\n",
        "    <key>: <value>\n",
        "}\n",
        "```\n",
        "```\n",
        "MLB_team = {\n",
        "            'Colorado' : 'Rockies',\n",
        "            'Boston'   : 'Red Sox',\n",
        "            'Minnesota': 'Twins',\n",
        "            'Milwaukee': 'Brewers',\n",
        "            'Seattle'  : 'Mariners'\n",
        "        }\n",
        "```\n",
        "2) dict() 이용\n",
        "```\n",
        "d = dict([\n",
        "    (<key>, <value>),\n",
        "    (<key>, <value),\n",
        "      .\n",
        "      .\n",
        "      .\n",
        "    (<key>, <value>)\n",
        "])\n",
        "```\n",
        "```\n",
        "MLB_team = dict([\n",
        "     ('Colorado', 'Rockies'),\n",
        "     ('Boston', 'Red Sox'),\n",
        "     ('Minnesota', 'Twins'),\n",
        "     ('Milwaukee', 'Brewers'),\n",
        "     ('Seattle', 'Mariners')\n",
        "])\n",
        "```"
      ]
    },
    {
      "cell_type": "markdown",
      "metadata": {
        "id": "9xWyFWK2LyNV"
      },
      "source": [
        "(실습) 국내 야구팀을 Dictionary 형태로 만들어보자. (위 두 방법 중 택일, 5개이상)\n",
        "https://www.koreabaseball.com/About/Etc/TeamInfo.aspx\n",
        "<br>(연고지, 팀이름)<br>\n",
        "예) ('부산' : '롯데 자이언츠')\n"
      ]
    },
    {
      "cell_type": "code",
      "metadata": {
        "colab": {
          "base_uri": "https://localhost:8080/"
        },
        "id": "L_csx4I5OYPi",
        "outputId": "b201ef1e-fc4b-42e0-9925-67b5dabd400d"
      },
      "source": [
        "KBO_Teams = {\n",
        "    '삼성' : '라이온즈',\n",
        "    'KIA' : '타이거즈',\n",
        "    '롯데' : '자이언츠'\n",
        "}\n",
        "KBO_Teams"
      ],
      "execution_count": null,
      "outputs": [
        {
          "output_type": "execute_result",
          "data": {
            "text/plain": [
              "{'KIA': '타이거즈', '롯데': '자이언츠', '삼성': '라이온즈'}"
            ]
          },
          "metadata": {},
          "execution_count": 2
        }
      ]
    },
    {
      "cell_type": "code",
      "metadata": {
        "colab": {
          "base_uri": "https://localhost:8080/",
          "height": 35
        },
        "id": "9lEXTpB3X-Gk",
        "outputId": "2a36e07f-9d19-4c93-ea9a-565b5238b9f1"
      },
      "source": [
        "# 딕셔너리\n",
        "dt = {'a':200, 'b':150, 'c':100}\n",
        "dt"
      ],
      "execution_count": null,
      "outputs": [
        {
          "data": {
            "text/plain": [
              "{'a': 200, 'b': 150, 'c': 100}"
            ]
          },
          "execution_count": 21,
          "metadata": {
            "tags": []
          },
          "output_type": "execute_result"
        }
      ]
    },
    {
      "cell_type": "code",
      "metadata": {
        "colab": {
          "base_uri": "https://localhost:8080/",
          "height": 54
        },
        "id": "L-qCMUGst2iw",
        "outputId": "171dcd5d-879d-44af-993d-78cbcf81588a"
      },
      "source": [
        "print(f'dt.keys() : {list(dt.keys())}')\n",
        "print(f'dt.values() : {list(dt.values())}')"
      ],
      "execution_count": null,
      "outputs": [
        {
          "name": "stdout",
          "output_type": "stream",
          "text": [
            "dt.keys() : ['a', 'b', 'c']\n",
            "dt.values() : [200, 150, 100]\n"
          ]
        }
      ]
    },
    {
      "cell_type": "code",
      "metadata": {
        "colab": {
          "base_uri": "https://localhost:8080/",
          "height": 35
        },
        "id": "FEUfgzs9t88G",
        "outputId": "05f86673-f27e-471a-e10d-3bbc30e21bac"
      },
      "source": [
        "dt['d']=300\n",
        "dt"
      ],
      "execution_count": null,
      "outputs": [
        {
          "data": {
            "text/plain": [
              "{'a': 200, 'b': 150, 'c': 100, 'd': 300}"
            ]
          },
          "execution_count": 25,
          "metadata": {
            "tags": []
          },
          "output_type": "execute_result"
        }
      ]
    },
    {
      "cell_type": "code",
      "metadata": {
        "colab": {
          "base_uri": "https://localhost:8080/",
          "height": 35
        },
        "id": "rIswQDYCvJlE",
        "outputId": "1338f0d9-f0b1-4770-ad46-027777a811d9"
      },
      "source": [
        "del dt['b']\n",
        "dt"
      ],
      "execution_count": null,
      "outputs": [
        {
          "data": {
            "text/plain": [
              "{'a': 200, 'c': 100, 'd': 300}"
            ]
          },
          "execution_count": 26,
          "metadata": {
            "tags": []
          },
          "output_type": "execute_result"
        }
      ]
    },
    {
      "cell_type": "code",
      "metadata": {
        "colab": {
          "base_uri": "https://localhost:8080/",
          "height": 126
        },
        "id": "1OoAVyPAYsBm",
        "outputId": "d8b8beb1-0942-40b6-85c4-e86a4d3c0a70"
      },
      "source": [
        "# 딕셔너리 키\n",
        "print(f'딕셔너리 키 list(dt.keys()): {list(dt.keys())}')\n",
        "\n",
        "# 딕셔너리 값\n",
        "print(f'딕셔너리 값 list(dt.values()) : {list(dt.values())}')\n",
        "\n",
        "# 딕셔너리 접근\n",
        "print(f\"딕셔너리 a 값 dt['a'] : {dt['a']}\")\n",
        "\n",
        "# 딕셔너리 추가\n",
        "dt['d'] = 30\n",
        "print(dt)\n",
        "\n",
        "# 딕셔너리 수정\n",
        "dt['b'] = 1\n",
        "print(dt)\n",
        "\n",
        "# 딕셔너리 삭제\n",
        "del dt['b']\n",
        "print(dt)"
      ],
      "execution_count": null,
      "outputs": [
        {
          "name": "stdout",
          "output_type": "stream",
          "text": [
            "딕셔너리 키 list(dt.keys()): ['a', 'b', 'c', 'd']\n",
            "딕셔너리 값 list(dt.values()) : [200, 1, 100, 30]\n",
            "딕셔너리 a 값 dt['a'] : 200\n",
            "{'a': 200, 'b': 1, 'c': 100, 'd': 30}\n",
            "{'a': 200, 'b': 1, 'c': 100, 'd': 30}\n",
            "{'a': 200, 'c': 100, 'd': 30}\n"
          ]
        }
      ]
    },
    {
      "cell_type": "markdown",
      "metadata": {
        "id": "WF8h--PRaG4i"
      },
      "source": [
        "## 2. 딕셔너리의 키와 값\n",
        "\n",
        "딕셔너리의 키만 꺼내기 :\n",
        "> 딕셔너리이름.keys()\n",
        "<br/>\n",
        "\n",
        "딕셔너리의 값(value)만 꺼내기 :\n",
        "\n",
        "> 딕셔너리이름.values()\n",
        "<br/>\n",
        "\n",
        "딕셔너리의 키-값 모두 꺼내기 \n",
        ">딕셔너리이름.items()"
      ]
    },
    {
      "cell_type": "code",
      "metadata": {
        "id": "kKm6YHk1bMF7"
      },
      "source": [
        "kakao = {'어피치':43, '네오':54, '라이언':90, '제이지':30, '프로도':80}"
      ],
      "execution_count": null,
      "outputs": []
    },
    {
      "cell_type": "markdown",
      "metadata": {
        "id": "c8wSwApGa5_6"
      },
      "source": [
        "## 3. 딕셔너리 정렬하기 \n",
        "\n",
        "> sorted( ) : sorted(딕셔너리명)\n",
        "\n",
        "```\n",
        "# 딕셔너리 키를 정렬\n",
        "sorted(딕셔너리.keys())\n",
        "\n",
        "# 딕셔너리 값을 정렬\n",
        "sorted(딕셔너리.values())\n",
        "\n",
        "# 딕셔너리 키-값을 정렬\n",
        "sorted(딕셔너리.items())\n",
        "```\n",
        "```\n",
        "# 값을 기준으로 키, 값 함께 정렬\n",
        "import operator\n",
        "\n",
        "sorted(kakao.items(), key=operator.itemgetter(0))\n",
        "sorted(kakao.items(), key=operator.itemgetter(1))\n",
        "0:키 기준, 1: 값 기준\n",
        "sorted(kakao.items(), key=operator.itemgetter(1), reverse=True)\n",
        "내림차순\n",
        "sorted(kakao.items(), key=operator.itemgetter(1), reverse=True)[:2]\n",
        "\n",
        "```\n",
        "- 딕셔너리 키, 값 정렬시 :\n",
        "- 결과는 튜플로 변경되어, 리스트로 반환된다."
      ]
    },
    {
      "cell_type": "code",
      "metadata": {
        "id": "uIPlsIOcbNBT"
      },
      "source": [
        "kakao = {'어피치':43, '네오':54, '라이언':90, '제이지':30, '프로도':80}"
      ],
      "execution_count": null,
      "outputs": []
    },
    {
      "cell_type": "code",
      "metadata": {
        "colab": {
          "base_uri": "https://localhost:8080/"
        },
        "id": "OwdlDwgBbVNO",
        "outputId": "eb258016-ae38-48c9-db32-630d24210b2f"
      },
      "source": [
        "import operator\n",
        "sorted(kakao.items(), key=operator.itemgetter(1), reverse = True)[:2]"
      ],
      "execution_count": null,
      "outputs": [
        {
          "output_type": "execute_result",
          "data": {
            "text/plain": [
              "[('라이언', 90), ('프로도', 80)]"
            ]
          },
          "metadata": {},
          "execution_count": 11
        }
      ]
    },
    {
      "cell_type": "markdown",
      "metadata": {
        "id": "3wzZ4DyDYp4e"
      },
      "source": [
        "## 반복문으로 딕셔너리 다루기\n",
        "\n",
        "<img src='https://github.com/teacher-jiejie/allinone_AI/blob/images/77_%EB%94%95%EC%85%94%EB%84%88%EB%A6%AC_%EA%B0%92%EB%B0%98%EB%B3%B5.png?raw=true' width=400>"
      ]
    },
    {
      "cell_type": "code",
      "metadata": {
        "colab": {
          "base_uri": "https://localhost:8080/"
        },
        "id": "KJM7pRo7knZ2",
        "outputId": "ac1c23eb-97f5-4dc4-c8d7-98a65eae6164"
      },
      "source": [
        "kakao = {'어피치':43, '네오':54, '라이언':90, '제이지':30, '프로도':80, '콘':83, '무지':45, '튜브':68}\n",
        "for i in kakao:\n",
        "  print(i, end = ' ')"
      ],
      "execution_count": null,
      "outputs": [
        {
          "output_type": "stream",
          "name": "stdout",
          "text": [
            "어피치 네오 라이언 제이지 프로도 콘 무지 튜브 "
          ]
        }
      ]
    },
    {
      "cell_type": "code",
      "metadata": {
        "colab": {
          "base_uri": "https://localhost:8080/"
        },
        "id": "qgRUebjrb8H6",
        "outputId": "132ad0da-e30d-4b59-d3d6-096c90d6949f"
      },
      "source": [
        "for i in kakao.keys():\n",
        "  print(i, end='\\t')"
      ],
      "execution_count": null,
      "outputs": [
        {
          "output_type": "stream",
          "name": "stdout",
          "text": [
            "어피치\t네오\t라이언\t제이지\t프로도\t콘\t무지\t튜브\t"
          ]
        }
      ]
    },
    {
      "cell_type": "code",
      "metadata": {
        "colab": {
          "base_uri": "https://localhost:8080/"
        },
        "id": "O-eeUs0ScMA6",
        "outputId": "a36993fd-a3da-4d5d-c3ea-f1718883b13c"
      },
      "source": [
        "for i in kakao.keys():\n",
        "  print(i, kakao[i], end=' ')"
      ],
      "execution_count": null,
      "outputs": [
        {
          "output_type": "stream",
          "name": "stdout",
          "text": [
            "어피치 43 네오 54 라이언 90 제이지 30 프로도 80 콘 83 무지 45 튜브 68 "
          ]
        }
      ]
    },
    {
      "cell_type": "code",
      "metadata": {
        "colab": {
          "base_uri": "https://localhost:8080/"
        },
        "id": "oqWbLs--dBpO",
        "outputId": "bc30cb89-948d-4bc3-b3b6-0abf8c04f7ba"
      },
      "source": [
        "for i in kakao.items():\n",
        "  print(i, end = ' ')"
      ],
      "execution_count": null,
      "outputs": [
        {
          "output_type": "stream",
          "name": "stdout",
          "text": [
            "('어피치', 43) ('네오', 54) ('라이언', 90) ('제이지', 30) ('프로도', 80) ('콘', 83) ('무지', 45) ('튜브', 68) "
          ]
        }
      ]
    },
    {
      "cell_type": "code",
      "metadata": {
        "colab": {
          "base_uri": "https://localhost:8080/"
        },
        "id": "tgcBU-n-cYRi",
        "outputId": "d3ec5a17-0ab6-47d7-a970-44b8533b43e1"
      },
      "source": [
        "for i, j in kakao.items():\n",
        "  print(i, j, end=' ')"
      ],
      "execution_count": null,
      "outputs": [
        {
          "output_type": "stream",
          "name": "stdout",
          "text": [
            "어피치 43 네오 54 라이언 90 제이지 30 프로도 80 콘 83 무지 45 튜브 68 "
          ]
        }
      ]
    },
    {
      "cell_type": "code",
      "metadata": {
        "colab": {
          "base_uri": "https://localhost:8080/"
        },
        "id": "3yaVs-nbdfrO",
        "outputId": "d4f658bd-51a3-4a6e-84b0-e7aaf71e5b5d"
      },
      "source": [
        "for i, j in kakao.items():\n",
        "  if j >=70 : \n",
        "    print(i, j, end=' ')"
      ],
      "execution_count": null,
      "outputs": [
        {
          "output_type": "stream",
          "name": "stdout",
          "text": [
            "라이언 90 프로도 80 콘 83 "
          ]
        }
      ]
    },
    {
      "cell_type": "code",
      "metadata": {
        "colab": {
          "base_uri": "https://localhost:8080/"
        },
        "id": "xP4xRCPpiU9X",
        "outputId": "33d890d5-3c2d-44c2-ea69-636e33c2c46e"
      },
      "source": [
        "# 내포 복습\n",
        "a= [i for i in kakao.keys() if len(i) == 3]\n",
        "a"
      ],
      "execution_count": null,
      "outputs": [
        {
          "output_type": "execute_result",
          "data": {
            "text/plain": [
              "['어피치', '라이언', '제이지', '프로도']"
            ]
          },
          "metadata": {},
          "execution_count": 28
        }
      ]
    },
    {
      "cell_type": "markdown",
      "metadata": {
        "id": "dYB2o33UU7Dj"
      },
      "source": [
        "(연습문제) 이름을 입력받아 해당학생 점수를 출력하세요. 학생이 없으면 '없음'을 출력합니다.<br>\n",
        "\n",
        "` kakao = {'어피치':43, '네오':54, '라이언':90, '제이지':30, '프로도':80, '콘':83, '무지':45, '튜브':68}`"
      ]
    },
    {
      "cell_type": "code",
      "metadata": {
        "colab": {
          "base_uri": "https://localhost:8080/"
        },
        "id": "h4FDjsVCWONP",
        "outputId": "dba987f2-cde3-4da1-af83-76c5e168a9f1"
      },
      "source": [
        "kakao = {'어피치':43, '네오':54, '라이언':90, '제이지':30, '프로도':80, '콘':83, '무지':45, '튜브':68}\n",
        "while True:\n",
        "  st = input('학생의 이름은?(quit:q)')\n",
        "  if st.lower() == 'q' : break\n",
        "  elif st in kakao.keys() : print(kakao[st],'점')\n",
        "  else : print('해당 학생 없음')"
      ],
      "execution_count": null,
      "outputs": [
        {
          "name": "stdout",
          "output_type": "stream",
          "text": [
            "학생의 이름은?(quit:q)네오\n",
            "54 점\n",
            "학생의 이름은?(quit:q)남형\n",
            "해당 학생 없음\n",
            "학생의 이름은?(quit:q)q\n"
          ]
        }
      ]
    },
    {
      "cell_type": "markdown",
      "metadata": {
        "id": "CaR5AsWfdrox"
      },
      "source": [
        "### **(해결문제) 영단어장 만들기**<br>\n",
        "빈도순으로 단어장 만들기<br>\n",
        "https://www.gutenberg.org/ebooks/search/?sort_order=downloads\n"
      ]
    },
    {
      "cell_type": "code",
      "metadata": {
        "colab": {
          "base_uri": "https://localhost:8080/"
        },
        "id": "3_JOElWX-ExA",
        "outputId": "d92b3c83-f527-4824-d964-3117b20643a5"
      },
      "source": [
        "import operator\n",
        "\n",
        "fp = open('/content/alibaba.txt', 'r',encoding='utf-8')\n",
        "data = fp.read()\n",
        "fp.close()\n",
        "data\n",
        "\n",
        "vocab = {}\n",
        "word_list = data.split()\n",
        "word_list\n",
        "\n",
        "#alibaba가 vocab 딕셔너리에 없다면 alibaba를 키로 추가, 첫 등장이므로 빈도수는 1\n",
        "#vocab[단어] = 1\n",
        "\n",
        "for w in word_list:#word_list 첫 단어부터 마지막 단어까지 반복하기\n",
        "  if w not in vocab: # 단어가 vocab 딕셔너리 키에 없으면 \n",
        "    vocab[w] = 1# 새로운 요소 추가\n",
        "  else:\n",
        "    vocab[w] += 1\n",
        "vocab\n",
        "#'.', ',', '!', '?' #'i'\n",
        "meaningless = ['.', ',', '!', '?', 'the', 'he', 'and', 'to', 'a', 'of', \n",
        "               'was', 'in', 'had', 'for', 'it', 'that', 'but', 'as', 'with', \n",
        "               'at', 'i', 'into', 'be', 'this', 'me', 'from', 'then', 'him', \n",
        "               'his', 'her', 'she','they', 'them', 'you', 'am', 'any']\n",
        "for word in meaningless:\n",
        "  del vocab[word]\n",
        "\n",
        "#vocab_final = sorted(vocab.keys())\n",
        "vocab_final = sorted(vocab.items(), key=operator.itemgetter(1),reverse=True)\n",
        "print(vocab_final)\n",
        "\n",
        "for k, v in sorted(vocab.items()):\n",
        "  print(k, v, end=' ')"
      ],
      "execution_count": null,
      "outputs": [
        {
          "output_type": "stream",
          "name": "stdout",
          "text": [
            "[('alibaba', 17), ('door', 8), ('oil', 8), ('one', 6), ('cassim', 6), ('took', 6), ('said', 6), ('out', 6), ('put', 6), ('open', 5), ('which', 5), ('morgiana', 5), ('house', 5), ('captain', 5), ('went', 5), ('cogia', 5), ('hassan', 5), ('himself', 4), ('sesame', 4), ('robbers', 4), ('who', 4), ('gold', 4), ('brother', 4), ('cave', 4), ('found', 4), ('where', 4), ('two', 3), ('poor', 3), ('man', 3), ('wife', 3), ('asses', 3), ('when', 3), ('troop', 3), ('approaching', 3), ('large', 3), ('rock', 3), ('brought', 3), ('secret', 3), ('early', 3), ('next', 3), ('morning', 3), ('mules', 3), ('great', 3), ('death', 3), ('body', 3), ('pieces', 3), ('blindfolded', 3), ('robber', 3), ('jar', 3), ('pretended', 3), ('first', 3), ('soon', 3), ('every', 3), ('son', 3), ('herself', 3), ('lived', 2), ('other', 2), ('dwelt', 2), ('wood', 2), ('forest', 2), ('cut', 2), ('hastily', 2), ('hid', 2), ('each', 2), ('loaded', 2), ('immediately', 2), ('opened', 2), ('shut', 2), ('time', 2), ('instantly', 2), ('many', 2), ('told', 2), ('set', 2), ('having', 2), ('than', 2), ('made', 2), ('on', 2), ('quarters', 2), ('sent', 2), ('cobbler', 2), ('gave', 2), ('way', 2), ('back', 2), ('buried', 2), ('all', 2), ('removed', 2), ('possession', 2), ('city', 2), ('thirty-nine', 2), ('jars', 2), ('full', 2), ('rest', 2), ('merchant', 2), ('offered', 2), ('invited', 2), ('guest', 2), ('supper', 2), ('night', 2), ('within', 2), ('ran', 2), ('kitchen', 2), ('boiled', 2), ('coming', 2), ('shop', 2), ('opposite', 2), ('appeared', 2), ('some', 2), ('dagger', 2), ('town', 1), ('persia', 1), ('brothers', 1), ('sons', 1), ('named', 1), ('elder', 1), ('married', 1), ('considerable', 1), ('fortune', 1), ('ease', 1), ('mean', 1), ('cottage', 1), ('suburbs', 1), ('maintained', 1), ('family', 1), ('by', 1), ('cutting', 1), ('preparing', 1), ('load', 1), ('faggots', 1), ('saw', 1), ('horsemen', 1), ('climbed', 1), ('thick', 1), ('tree', 1), ('among', 1), ('branches', 1), ('counted', 1), ('forty', 1), ('portmanteau', 1), ('horse', 1), ('turning', 1), ('passed', 1), ('itself', 1), ('short', 1), ('again', 1), ('came', 1), ('closed', 1), ('ventured', 1), ('down', 1), ('flew', 1), ('bags', 1), ('coin', 1), ('could', 1), ('carry', 1), ('rose', 1), ('ten', 1), ('chests', 1), ('gained', 1), ('admission', 1), ('more', 1), ('treasures', 1), ('expected', 1), ('forget', 1), ('word', 1), ('caused', 1), ('presently', 1), ('heard', 1), ('sound', 1), ('horses', 1), ('feet', 1), ('concluded', 1), ('drove', 1), ('entering', 1), ('upon', 1), ('delivered', 1), ('female', 1), ('slave', 1), ('go', 1), ('taking', 1), ('room', 1), ('lying', 1), ('bade', 1), ('sew', 1), ('mangled', 1), ('limbs', 1), ('together', 1), ('mustapha', 1), ('obeyed', 1), ('received', 1), ('led', 1), ('same', 1), ('due', 1), ('solemnity', 1), ('deceased', 1), ('resolved', 1), ('find', 1), ('possessed', 1), ('entrance', 1), ('disguising', 1), ('accosting', 1), ('job', 1), ('six', 1), ('allowed', 1), ('traced', 1), ('marked', 1), ('chalk', 1), ('buying', 1), ('nineteen', 1), ('empty', 1), ('properly', 1), ('armed', 1), ('proceeded', 1), ('street', 1), ('sir', 1), ('have', 1), ('sell', 1), ('quite', 1), ('stranger', 1), ('will', 1), ('let', 1), ('my', 1), ('your', 1), ('courtyard', 1), ('direct', 1), ('may', 1), ('lodge', 1), ('to-night', 1), ('welcomed', 1), ('bed', 1), ('own', 1), ('sitting', 1), ('up', 1), ('later', 1), ('usual', 1), ('lamp', 1), ('pot', 1), ('hand', 1), ('is', 1), ('replied', 1), ('no', 1), ('not', 1), ('yet', 1), ('so', 1), ('kettle', 1), ('filled', 1), ('fire', 1), ('poured', 1), ('sufficient', 1), ('boiling', 1), ('kill', 1), ('arose', 1), ('assemble', 1), ('men', 1), ('felt', 1), ('steam', 1), ('rage', 1), ('forced', 1), ('lock', 1), ('escape', 1), ('over', 1), ('walls', 1), ('without', 1), ('letting', 1), ('thieves', 1), ('bottom', 1), ('garden', 1), ('length', 1), ('however', 1), ('determined', 1), ('adopt', 1), ('new', 1), ('scheme', 1), ('destruction', 1), ('valuable', 1), ('merchandise', 1), ('exactly', 1), ('day', 1), ('very', 1), ('fond', 1), ('presents', 1), ('often', 1), ('detained', 1), ('dinner', 1), ('thought', 1), ('necessary', 1), ('make', 1), ('return', 1), ('these', 1), ('civilities', 1), ('carried', 1), ('dish', 1), ('moment', 1), ('looked', 1), ('knew', 1), ('slaves', 1), ('waited', 1), ('table', 1), ('while', 1), ('drinking', 1), ('perceived', 1), ('under', 1), ('coat', 1), ('away', 1), ('dressed', 1), ('habit', 1), ('dancing-girl', 1), ('parlor', 1), ('master', 1), ('ordered', 1), ('come', 1), ('entertain', 1), ('best', 1), ('dancing', 1), ('danced', 1), ('several', 1), ('times', 1), ('before', 1), ('assembled', 1), ('company', 1), ('until', 1), ('drew', 1), ('girdle', 1), ('plunged', 1), ('heart', 1), ('reward', 1), ('faithfulness', 1), ('marriage', 1), ('immense', 1), ('wealth', 1)]\n",
            "accosting 1 admission 1 adopt 1 again 1 alibaba 17 all 2 allowed 1 among 1 appeared 2 approaching 3 armed 1 arose 1 assemble 1 assembled 1 asses 3 away 1 back 2 bade 1 bags 1 bed 1 before 1 best 1 blindfolded 3 body 3 boiled 2 boiling 1 bottom 1 branches 1 brother 4 brothers 1 brought 3 buried 2 buying 1 by 1 came 1 captain 5 carried 1 carry 1 cassim 6 caused 1 cave 4 chalk 1 chests 1 city 2 civilities 1 climbed 1 closed 1 coat 1 cobbler 2 cogia 5 coin 1 come 1 coming 2 company 1 concluded 1 considerable 1 cottage 1 could 1 counted 1 courtyard 1 cut 2 cutting 1 dagger 2 danced 1 dancing 1 dancing-girl 1 day 1 death 3 deceased 1 delivered 1 destruction 1 detained 1 determined 1 dinner 1 direct 1 disguising 1 dish 1 door 8 down 1 dressed 1 drew 1 drinking 1 drove 1 due 1 dwelt 2 each 2 early 3 ease 1 elder 1 empty 1 entering 1 entertain 1 entrance 1 escape 1 every 3 exactly 1 expected 1 faggots 1 faithfulness 1 family 1 feet 1 felt 1 female 1 filled 1 find 1 fire 1 first 3 flew 1 fond 1 forced 1 forest 2 forget 1 fortune 1 forty 1 found 4 full 2 gained 1 garden 1 gave 2 girdle 1 go 1 gold 4 great 3 guest 2 habit 1 hand 1 hassan 5 hastily 2 have 1 having 2 heard 1 heart 1 herself 3 hid 2 himself 4 horse 1 horsemen 1 horses 1 house 5 however 1 immediately 2 immense 1 instantly 2 invited 2 is 1 itself 1 jar 3 jars 2 job 1 kettle 1 kill 1 kitchen 2 knew 1 lamp 1 large 3 later 1 led 1 length 1 let 1 letting 1 limbs 1 lived 2 load 1 loaded 2 lock 1 lodge 1 looked 1 lying 1 made 2 maintained 1 make 1 man 3 mangled 1 many 2 marked 1 marriage 1 married 1 master 1 may 1 mean 1 men 1 merchandise 1 merchant 2 moment 1 more 1 morgiana 5 morning 3 mules 3 mustapha 1 my 1 named 1 necessary 1 new 1 next 3 night 2 nineteen 1 no 1 not 1 obeyed 1 offered 2 often 1 oil 8 on 2 one 6 open 5 opened 2 opposite 2 ordered 1 other 2 out 6 over 1 own 1 parlor 1 passed 1 perceived 1 persia 1 pieces 3 plunged 1 poor 3 portmanteau 1 possessed 1 possession 2 pot 1 poured 1 preparing 1 presently 1 presents 1 pretended 3 proceeded 1 properly 1 put 6 quarters 2 quite 1 rage 1 ran 2 received 1 removed 2 replied 1 resolved 1 rest 2 return 1 reward 1 robber 3 robbers 4 rock 3 room 1 rose 1 said 6 same 1 saw 1 scheme 1 secret 3 sell 1 sent 2 sesame 4 set 2 several 1 sew 1 shop 2 short 1 shut 2 sir 1 sitting 1 six 1 slave 1 slaves 1 so 1 solemnity 1 some 2 son 3 sons 1 soon 3 sound 1 steam 1 stranger 1 street 1 suburbs 1 sufficient 1 supper 2 table 1 taking 1 ten 1 than 2 these 1 thick 1 thieves 1 thirty-nine 2 thought 1 time 2 times 1 to-night 1 together 1 told 2 took 6 town 1 traced 1 treasures 1 tree 1 troop 3 turning 1 two 3 under 1 until 1 up 1 upon 1 usual 1 valuable 1 ventured 1 very 1 waited 1 walls 1 way 2 wealth 1 welcomed 1 went 5 when 3 where 4 which 5 while 1 who 4 wife 3 will 1 within 2 without 1 wood 2 word 1 yet 1 your 1 "
          ]
        }
      ]
    },
    {
      "cell_type": "markdown",
      "metadata": {
        "id": "Y4gku7fQM9Of"
      },
      "source": [
        "# 집합(set)\n",
        "+ **특징**\n",
        " - 중복 없는 요소로만 구성\n",
        " - 중괄호({}) 작성되며 각 요소는 쉼표(,)로 구분\n",
        " - 순서 없음\n",
        "+ **생성자 set()**\n",
        " - 리스트나 튜플의 중복 요소 제거 \n",
        "+ **요소 추가**\n",
        " - 집합명.add(요소) : 하나의 요소 추가\n",
        " - 집합명.update(추가집합) : 여러 요소를 추가\n",
        "+ **요소 삭제**\n",
        " - 집합명.remove(요소값) : 하나의 요소 삭제\n",
        " - 집합명.clear() : 모든 요소 삭제\n",
        "+ **집합 연산**\n",
        " - 교집합 : &\n",
        " - 합집합 : |\n",
        " - 차집합 : -"
      ]
    },
    {
      "cell_type": "code",
      "metadata": {
        "colab": {
          "base_uri": "https://localhost:8080/"
        },
        "id": "9MPHJk6TaO2o",
        "outputId": "a5301c79-7c65-4942-f1ce-645565e6e38a"
      },
      "source": [
        "# 집합\n",
        "a = (1, 2, 2, 3)\n",
        "b = [10, 20, 30, 30]\n",
        "a"
      ],
      "execution_count": null,
      "outputs": [
        {
          "output_type": "execute_result",
          "data": {
            "text/plain": [
              "(1, 2, 2, 3)"
            ]
          },
          "metadata": {},
          "execution_count": 1
        }
      ]
    },
    {
      "cell_type": "code",
      "metadata": {
        "colab": {
          "base_uri": "https://localhost:8080/"
        },
        "id": "-wO6Rc7qv9j7",
        "outputId": "a240c680-87ce-4800-c82e-79fd3a9b71b1"
      },
      "source": [
        "type(a)\n",
        "type(b)\n",
        "a = set(a)\n",
        "a"
      ],
      "execution_count": null,
      "outputs": [
        {
          "output_type": "execute_result",
          "data": {
            "text/plain": [
              "{1, 2, 3}"
            ]
          },
          "metadata": {},
          "execution_count": 3
        }
      ]
    },
    {
      "cell_type": "code",
      "metadata": {
        "colab": {
          "base_uri": "https://localhost:8080/"
        },
        "id": "Qw-b-eKmaYbI",
        "outputId": "72465257-302e-40c0-9a4f-1f370061d74d"
      },
      "source": [
        "# 중복요소제거 및 형변환\n",
        "print(f'{a}의 type : {type(a)}')\n",
        "a = set(a)\n",
        "print(f'{a}의 type : {type(a)}')\n",
        "\n",
        "print(f'{b}의 type : {type(b)}')\n",
        "b = set(b)\n",
        "print(f'{b}의 type : {type(b)}')"
      ],
      "execution_count": null,
      "outputs": [
        {
          "output_type": "stream",
          "name": "stdout",
          "text": [
            "{1, 2, 3}의 type : <class 'set'>\n",
            "{1, 2, 3}의 type : <class 'set'>\n",
            "[10, 20, 30, 30]의 type : <class 'list'>\n",
            "{10, 20, 30}의 type : <class 'set'>\n"
          ]
        }
      ]
    },
    {
      "cell_type": "code",
      "metadata": {
        "colab": {
          "base_uri": "https://localhost:8080/"
        },
        "id": "UKBg-bKDwXr_",
        "outputId": "6b41a07f-91c7-4b95-b57d-b7dc216957a0"
      },
      "source": [
        "a.add(100)\n",
        "a"
      ],
      "execution_count": null,
      "outputs": [
        {
          "output_type": "execute_result",
          "data": {
            "text/plain": [
              "{1, 2, 3, 100}"
            ]
          },
          "metadata": {},
          "execution_count": 5
        }
      ]
    },
    {
      "cell_type": "code",
      "metadata": {
        "colab": {
          "base_uri": "https://localhost:8080/"
        },
        "id": "0ZNZUJJ7wlGT",
        "outputId": "c0b6b05f-1b40-49e1-c068-adf92add8e60"
      },
      "source": [
        "b = set(b)\n",
        "b"
      ],
      "execution_count": null,
      "outputs": [
        {
          "output_type": "execute_result",
          "data": {
            "text/plain": [
              "{10, 20, 30}"
            ]
          },
          "metadata": {},
          "execution_count": 6
        }
      ]
    },
    {
      "cell_type": "code",
      "metadata": {
        "colab": {
          "base_uri": "https://localhost:8080/"
        },
        "id": "tokcDNbyN7LP",
        "outputId": "abb61618-5b2a-4aad-deed-23c365e252cb"
      },
      "source": [
        "#요소 추가\n",
        "a.add(100)\n",
        "b.update({100,200,300})\n",
        "\n",
        "print(a)\n",
        "print(b)\n",
        "b"
      ],
      "execution_count": null,
      "outputs": [
        {
          "output_type": "stream",
          "name": "stdout",
          "text": [
            "{1, 2, 3, 100}\n",
            "{20, 100, 200, 10, 300, 30}\n"
          ]
        },
        {
          "output_type": "execute_result",
          "data": {
            "text/plain": [
              "{10, 20, 30, 100, 200, 300}"
            ]
          },
          "metadata": {},
          "execution_count": 7
        }
      ]
    },
    {
      "cell_type": "code",
      "metadata": {
        "colab": {
          "base_uri": "https://localhost:8080/"
        },
        "id": "krd9zplaN-jJ",
        "outputId": "2d393c66-a5e7-4900-eb31-8f08b52991a7"
      },
      "source": [
        "#요소 삭제\n",
        "a.remove(100)\n",
        "print(a)\n",
        "\n",
        "a.clear()\n",
        "print(a)"
      ],
      "execution_count": null,
      "outputs": [
        {
          "output_type": "stream",
          "name": "stdout",
          "text": [
            "{1, 2, 3}\n",
            "set()\n"
          ]
        }
      ]
    },
    {
      "cell_type": "code",
      "metadata": {
        "colab": {
          "base_uri": "https://localhost:8080/"
        },
        "id": "QJIgwrl2ODa1",
        "outputId": "24722485-de91-4a67-c359-f7bfe073a07c"
      },
      "source": [
        "#집합 연산\n",
        "a.update({100,200,500})\n",
        "print(f'a집합 = {a} , b집합 = {b}')\n",
        "print(f'교집합 a & b = {a & b}')\n",
        "print(f'합집합 a | b = {a | b}')\n",
        "print(f'차집합 a - b = {a - b}')"
      ],
      "execution_count": null,
      "outputs": [
        {
          "output_type": "stream",
          "name": "stdout",
          "text": [
            "a집합 = {200, 100, 500} , b집합 = {20, 100, 200, 10, 300, 30}\n",
            "교집합 a & b = {200, 100}\n",
            "합집합 a | b = {100, 200, 10, 300, 500, 20, 30}\n",
            "차집합 a - b = {500}\n"
          ]
        }
      ]
    },
    {
      "cell_type": "markdown",
      "metadata": {
        "id": "3PY2tmTxOIGT"
      },
      "source": [
        "# 컬렉션 데이터\n",
        "+ 컬렉션 데이터 모든 요소에 접근 \n",
        "+ `for 요소변수 in 컬렉션명 `:\n",
        "\n",
        "\n",
        "### **zip()**\n",
        "+ 동일한 개수로 이루어진 자료형을 묶어 주는 역할을 하는 함수"
      ]
    },
    {
      "cell_type": "code",
      "metadata": {
        "colab": {
          "base_uri": "https://localhost:8080/"
        },
        "id": "DEVywUDlhq1D",
        "outputId": "4aca90a3-b089-4ff5-ade5-4d5e281247a7"
      },
      "source": [
        "# 컬렉션 요소 접근\n",
        "lst = [10, 50, 30]\n",
        "tp = ('a', 'b', 'c')\n",
        "\n",
        "for item in lst :\n",
        "  print(item, end=' ')\n",
        "print()\n",
        "\n",
        "for item in tp :\n",
        "  print(item, end=' ')\n"
      ],
      "execution_count": null,
      "outputs": [
        {
          "output_type": "stream",
          "name": "stdout",
          "text": [
            "10 50 30 \n",
            "a b c "
          ]
        }
      ]
    },
    {
      "cell_type": "code",
      "metadata": {
        "colab": {
          "base_uri": "https://localhost:8080/"
        },
        "id": "I_mFtpes7plw",
        "outputId": "2bdd8a56-2c50-48e8-891c-decf00da9ab6"
      },
      "source": [
        "a = [ 1, 2, 3]\n",
        "b = ('a', 'b', 'c')\n",
        "c = dict(zip(a,b))\n",
        "print(c)\n",
        "\n"
      ],
      "execution_count": null,
      "outputs": [
        {
          "output_type": "stream",
          "name": "stdout",
          "text": [
            "{1: 'a', 2: 'b', 3: 'c'}\n"
          ]
        }
      ]
    },
    {
      "cell_type": "code",
      "metadata": {
        "colab": {
          "base_uri": "https://localhost:8080/"
        },
        "id": "AqH92OtGjhT5",
        "outputId": "bffd40ae-3559-48c4-e4f9-f924fd7a5e5f"
      },
      "source": [
        "# 딕셔너리 만들기\n",
        "dt = dict(zip(tp, lst))\n",
        "print(dt)\n",
        "\n",
        "for item in dt :\n",
        "  print(f'{item} : {dt[item]}')"
      ],
      "execution_count": null,
      "outputs": [
        {
          "output_type": "stream",
          "name": "stdout",
          "text": [
            "{'a': 10, 'b': 50, 'c': 30}\n",
            "a : 10\n",
            "b : 50\n",
            "c : 30\n"
          ]
        }
      ]
    },
    {
      "cell_type": "markdown",
      "metadata": {
        "id": "o6CfXdpWzKjE"
      },
      "source": [
        "##딕셔너리 만들기\n",
        "1. for\n",
        "```\n",
        "for i in range(0, len(name)):\n",
        "      ice[name[i]] = price[i]\n",
        "ice\n",
        "```\n",
        "\n",
        "2. dict(zip(a, b))\n",
        "```\n",
        "icecream = dict(zip(name, price))\n",
        "print(icecream)\n",
        "```\n",
        "\n"
      ]
    },
    {
      "cell_type": "code",
      "metadata": {
        "colab": {
          "base_uri": "https://localhost:8080/"
        },
        "id": "mNucd5tXxTnK",
        "outputId": "804c9973-3fd3-47e2-d5dc-9184848ab351"
      },
      "source": [
        "name = ['merona', 'gugucon']\n",
        "price = [500, 1000]\n",
        "ice = {}\n",
        "\n",
        "#for\n",
        "\n",
        "#dict(zip(a,b))\n",
        "\n"
      ],
      "execution_count": null,
      "outputs": [
        {
          "output_type": "execute_result",
          "data": {
            "text/plain": [
              "{'gugucon': 1000, 'merona': 500}"
            ]
          },
          "metadata": {},
          "execution_count": 63
        }
      ]
    },
    {
      "cell_type": "markdown",
      "metadata": {
        "id": "Rwwmw3mLXgYF"
      },
      "source": [
        "###**map()**\n",
        "리스트의 요소를 지정된 함수로 처리해주는 함수<br>\n",
        "원본 리스트를 변경하지 않고 새 리스트를 생성\n",
        "\n",
        "Q) 실수가 저장된 리스트가 있을 때 이 리스트의 모든 요소를 정수로 변환하려면?<br>\n",
        "`a = [1.2, 2.5, 3.7, 4.6] `<br>\n",
        "\n",
        "<img src = \"https://dojang.io/pluginfile.php/13699/mod_page/content/3/022019.png\" width=500>\n"
      ]
    },
    {
      "cell_type": "code",
      "metadata": {
        "colab": {
          "base_uri": "https://localhost:8080/"
        },
        "id": "4L0Wg_phX8yQ",
        "outputId": "0b0db5d7-06ba-4a49-be7d-109696ad589a"
      },
      "source": [
        "#for문 사용\n",
        "a = [1.2, 2.5, 3.7, 4.6]\n",
        "for i in range(len(a)):\n",
        "  a[i] = int(a[i])\n",
        "a"
      ],
      "execution_count": null,
      "outputs": [
        {
          "output_type": "execute_result",
          "data": {
            "text/plain": [
              "[1, 2, 3, 4]"
            ]
          },
          "metadata": {},
          "execution_count": 4
        }
      ]
    },
    {
      "cell_type": "code",
      "metadata": {
        "colab": {
          "base_uri": "https://localhost:8080/"
        },
        "id": "enW0eYATYZxs",
        "outputId": "32c4b840-b568-458e-b5c3-6d3da02b4e36"
      },
      "source": [
        "#map() 사용\n",
        "a = [1.2, 2.5, 3.7, 4.6]\n",
        "a = list(map(int, a))\n",
        "a"
      ],
      "execution_count": null,
      "outputs": [
        {
          "output_type": "execute_result",
          "data": {
            "text/plain": [
              "[1, 2, 3, 4]"
            ]
          },
          "metadata": {},
          "execution_count": 6
        }
      ]
    },
    {
      "cell_type": "markdown",
      "metadata": {
        "id": "FdTL58jsZknv"
      },
      "source": [
        "## **input().split()과 map**\n",
        "\n",
        "input().split()의 결과 - 리스트 - map()사용 가능\n",
        "\n",
        "\n",
        "```\n",
        "1. a = input().split()\n",
        "2. a = map(int, input().split())\n",
        "```\n",
        "\n"
      ]
    },
    {
      "cell_type": "code",
      "metadata": {
        "colab": {
          "base_uri": "https://localhost:8080/"
        },
        "id": "L2IMG8QhaGk-",
        "outputId": "123f07f8-78df-4b3e-9f30-f1f0e1245580"
      },
      "source": [
        "a = input().split()\n",
        "a"
      ],
      "execution_count": null,
      "outputs": [
        {
          "name": "stdout",
          "output_type": "stream",
          "text": [
            "1 2\n"
          ]
        },
        {
          "output_type": "execute_result",
          "data": {
            "text/plain": [
              "['1', '2']"
            ]
          },
          "metadata": {},
          "execution_count": 14
        }
      ]
    },
    {
      "cell_type": "code",
      "metadata": {
        "colab": {
          "base_uri": "https://localhost:8080/"
        },
        "id": "0jrysnlvbgl0",
        "outputId": "25e83a8a-6f39-476d-f37b-47a868ee5981"
      },
      "source": [
        "a = map(int, input().split())\n",
        "a\n",
        "list(a)"
      ],
      "execution_count": null,
      "outputs": [
        {
          "name": "stdout",
          "output_type": "stream",
          "text": [
            "1 2\n"
          ]
        },
        {
          "output_type": "execute_result",
          "data": {
            "text/plain": [
              "[1, 2]"
            ]
          },
          "metadata": {},
          "execution_count": 16
        }
      ]
    },
    {
      "cell_type": "code",
      "metadata": {
        "colab": {
          "base_uri": "https://localhost:8080/"
        },
        "id": "c2-IuTIXc1Y8",
        "outputId": "d9edfecd-033d-4304-f004-a99216b64f74"
      },
      "source": [
        "a, b = [10, 20]\n",
        "a\n",
        "b"
      ],
      "execution_count": null,
      "outputs": [
        {
          "output_type": "execute_result",
          "data": {
            "text/plain": [
              "20"
            ]
          },
          "metadata": {},
          "execution_count": 19
        }
      ]
    },
    {
      "cell_type": "markdown",
      "metadata": {
        "id": "OiIYIHXWPcOv"
      },
      "source": [
        "\n",
        "(연습문제) 입력으로 문자열 여러 개와 숫자(실수)가 두 줄로 입력됩니다. 입력된 첫 번째 줄은 키, 두 번째 줄은 값(실수형)으로 딕셔너리를 만들어 출력해보세요. \n",
        "\n",
        "*   input().split()의 결과를 변수 한 개에 저장하면 리스트로 저장됨\n",
        "*   map()함수 사용\n",
        "\n",
        "(입력)\n",
        "```\n",
        "Health Mana Action ATK DEF\n",
        "575.6 1.7 338.8 1.63 34.5\n",
        "```\n",
        "(출력)\n",
        "```\n",
        "{'health': 575.6, 'health_regen': 1.7, 'mana': 338.8, 'mana_regen': 1.63}\n",
        "```"
      ]
    },
    {
      "cell_type": "code",
      "metadata": {
        "colab": {
          "base_uri": "https://localhost:8080/"
        },
        "id": "qxeOkpnwRGp3",
        "outputId": "f668108c-0ff2-424d-f28d-6ef425f86b6d"
      },
      "source": [
        "x = input().split()\n",
        "y = input().split() #map(float,\n",
        "dic = dict(zip(x, y))\n",
        "print(dic)"
      ],
      "execution_count": null,
      "outputs": [
        {
          "output_type": "stream",
          "name": "stdout",
          "text": [
            "Health Mana Action ATK DEF\n",
            "575.6 1.7 338.8 1.63 34.5\n",
            "{'Health': '575.6', 'Mana': '1.7', 'Action': '338.8', 'ATK': '1.63', 'DEF': '34.5'}\n"
          ]
        }
      ]
    },
    {
      "cell_type": "code",
      "metadata": {
        "colab": {
          "base_uri": "https://localhost:8080/"
        },
        "id": "3O3NU2m7dX1e",
        "outputId": "4b15883f-c6a1-4005-9ebd-d3fb95ce38a1"
      },
      "source": [
        "x = 'Health Mana Action ATK DEF\\n575.6 1.7 338.8 1.63 34.5'\n",
        "x1 = x.split('\\n')\n",
        "dt = dict(zip(x1[0].split(),x1[1].split()))\n",
        "dt"
      ],
      "execution_count": null,
      "outputs": [
        {
          "output_type": "execute_result",
          "data": {
            "text/plain": [
              "{'ATK': '1.63',\n",
              " 'Action': '338.8',\n",
              " 'DEF': '34.5',\n",
              " 'Health': '575.6',\n",
              " 'Mana': '1.7'}"
            ]
          },
          "metadata": {},
          "execution_count": 60
        }
      ]
    },
    {
      "cell_type": "markdown",
      "metadata": {
        "id": "UWuyNMkqOkbm"
      },
      "source": [
        "## 내장함수\n",
        "+ **len(컬렉션명)**\n",
        " - 컬렉션 요소 개수\n",
        "+ **max(컬렉션명)**\n",
        " - 가장 큰 요소 값 반환\n",
        " - 딕션너리인 경우는 키 값 중 가장 큰 요소 반환\n",
        "+ **min(컬렉션명)**\n",
        " - 가장 작은 요소 값 반환\n",
        " - 딕션너리인 경우는 키 값 중 가장 작은 요소 반환\n",
        "+ **sum(컬렉션명)**\n",
        " - 수치 요소로 이루어진 컬렉션 요소의 합\n",
        " - 딕션너리인 경우는 키 값의 합\n",
        "+ **sorted(컬렉션명)**\n",
        " - 컬렉션요소 정렬\n",
        " - 딕션너리인 경우는 키 값을 정렬하여 키 리스트 반환\n"
      ]
    },
    {
      "cell_type": "code",
      "metadata": {
        "id": "ttxhLTPpP4BV"
      },
      "source": [
        "#내장함수 \n",
        "print(f'{lst}의 요소 개수 : {len(lst)}')\n",
        "print(f'{lst}의 최대값 : {max(lst)}')\n",
        "print(f'{lst}의 최소값 : {min(lst)}')\n",
        "print(f'{lst}의 합계 : {sum(lst)}')\n",
        "print(f'{lst}의 정렬 : {sorted(lst)}')\n",
        "print(f'lst {lst}')"
      ],
      "execution_count": null,
      "outputs": []
    },
    {
      "cell_type": "markdown",
      "metadata": {
        "id": "oyd3U2-fQHrC"
      },
      "source": [
        "\n",
        "## (해결문제1)\n",
        "기상청에서 제공하는 2020년 3월 1일에서 3월 31일까지의 평균기온 정보입니다. 다음을 구하시오.\n",
        "+ 3월 평균, 최고, 최저 기온\n",
        "+ 최고 기온인 날, 온도\n",
        "+ 최저 기온인 날, 온도\n",
        "\n",
        "(출력)\n",
        "\n",
        "```\n",
        "평균기온 : 10.44 ℃\n",
        "최고기온 : 14.5 ℃\n",
        "최저기온 : 5.1 ℃\n",
        "\n",
        "최저기온 5.1도: 5일\n",
        "최고기온 14.5도: 26일\n",
        "```\n"
      ]
    },
    {
      "cell_type": "code",
      "metadata": {
        "id": "_A1Rx91KQhrS"
      },
      "source": [
        "#부산 3월 기온\n",
        "temp = [10.8, 8.5, 8.7, 7.9, 5.1, \n",
        "        8.1, 8.2, 10.4, 11, 9.9, \n",
        "        7.8, 9.5, 11.6, 8.2, 7.7, \n",
        "        6.6, 11.1, 12.2, 12.6, 10.4, \n",
        "        13.7, 14.1, 12.6, 11.5, 13, \n",
        "        14.5, 13.7, 9.4, 10.4, 11.6, 12.9]"
      ],
      "execution_count": null,
      "outputs": []
    },
    {
      "cell_type": "code",
      "metadata": {
        "colab": {
          "base_uri": "https://localhost:8080/",
          "height": 72
        },
        "id": "4k4Nb4V2nFxz",
        "outputId": "231a5d38-c009-408f-d448-33b34f34b93f"
      },
      "source": [
        "print(f'평균기온 : {sum(temp) / len(temp) :0.2f} ℃')\n",
        "print(f'최고기온 : {max(temp)} ℃')\n",
        "print(f'최저기온 : {min(temp)} ℃')"
      ],
      "execution_count": null,
      "outputs": [
        {
          "name": "stdout",
          "output_type": "stream",
          "text": [
            "평균기온 : 10.44 ℃\n",
            "최고기온 : 14.5 ℃\n",
            "최저기온 : 5.1 ℃\n"
          ]
        }
      ]
    },
    {
      "cell_type": "code",
      "metadata": {
        "colab": {
          "base_uri": "https://localhost:8080/"
        },
        "id": "L1X3w3mAMik3",
        "outputId": "b778d71b-9ff0-4521-b258-cda56af83164"
      },
      "source": [
        "day = 1\n",
        "\n",
        "for i in temp:\n",
        "    #print(day, i)\n",
        "    if i == max(temp):print(f'최고기온 {i}도: {day}일')\n",
        "    if i == min(temp):print(f'최저기온 {i}도: {day}일')\n",
        "    day += 1"
      ],
      "execution_count": null,
      "outputs": [
        {
          "output_type": "stream",
          "name": "stdout",
          "text": [
            "최저기온 5.1도: 5일\n",
            "최고기온 14.5도: 26일\n"
          ]
        }
      ]
    },
    {
      "cell_type": "markdown",
      "metadata": {
        "id": "7MhWWhCF_1Wh"
      },
      "source": [
        "## (해결문제2)\n",
        "기상청 공공데이터를 활용하여 다음 데이터를 추출하고, 주어진 문제를 해결하시오.\n",
        "\n",
        "* 기상청 공공데이터 주소\n",
        " https://data.kma.go.kr/stcs/grnd/grndTaList.do?pgmNo=70\n",
        "* 리스트 문자열을 int 형태로 변환<br>\n",
        "`list_a = list(map(int, list_a))`\n",
        "\n",
        "1. 홀수년도만 출력\n",
        "2. 년도와 평균기온 딕셔너리 생성\n",
        "3. 해당년도 추출\n",
        "  - 평균기온 최소일 때 해당년도\n",
        "  - 최고기온 최대일 때 해당년도\n",
        "  - 최저기온 최소일 때 해당년도\n",
        "\n",
        "(출력)<br>\n",
        "```\n",
        "1. [2011, 2013, 2015, 2017, 2019]\n",
        "2. {'2011': 14.6, '2012': 14.5, ...'2019': 15.7, '2020': 15.2}\n",
        "3. - 평균기온 최소 2012년 : 14.5℃\n",
        "   - 최고기온 최대 ['2016']년 : 37.3℃\n",
        "   - 최저기온 최저 ['2016']년 : -10.2℃\n",
        "\n",
        "```\n",
        "\n",
        "\n"
      ]
    },
    {
      "cell_type": "code",
      "metadata": {
        "id": "Lwny4eMwCsfs"
      },
      "source": [
        "kma='''년\t2011\t2012\t2013\t2014\t2015\t2016\t2017\t2018\t2019\t2020\n",
        "지점\t159\t159\t159\t159\t159\t159\t159\t159\t159\t159\n",
        "평균기온(℃)\t14.6\t14.5\t15.3\t15.1\t15.4\t15.7\t15.2\t15.1\t15.7\t15.2\n",
        "최저기온(℃)\t-12.8\t-9.9\t-10.7\t-6\t-7.8\t-10.2\t-7.7\t-9.9\t-4.4\t-8\n",
        "최고기온(℃)\t33\t34.5\t35\t32.9\t33.5\t37.3\t36.2\t36.4\t35  33.2'''"
      ],
      "execution_count": null,
      "outputs": []
    },
    {
      "cell_type": "code",
      "metadata": {
        "colab": {
          "base_uri": "https://localhost:8080/",
          "height": 72
        },
        "id": "SOa-R2Q5GQqP",
        "outputId": "bf3e7cfa-8468-438c-b09a-eeb88f03b2f3"
      },
      "source": [
        "kma"
      ],
      "execution_count": null,
      "outputs": [
        {
          "output_type": "execute_result",
          "data": {
            "application/vnd.google.colaboratory.intrinsic+json": {
              "type": "string"
            },
            "text/plain": [
              "'년\\t2011\\t2012\\t2013\\t2014\\t2015\\t2016\\t2017\\t2018\\t2019\\t2020\\n지점\\t159\\t159\\t159\\t159\\t159\\t159\\t159\\t159\\t159\\t159\\n평균기온(℃)\\t14.6\\t14.5\\t15.3\\t15.1\\t15.4\\t15.7\\t15.2\\t15.1\\t15.7\\t15.2\\n최저기온(℃)\\t-12.8\\t-9.9\\t-10.7\\t-6\\t-7.8\\t-10.2\\t-7.7\\t-9.9\\t-4.4\\t-8\\n최고기온(℃)\\t33\\t34.5\\t35\\t32.9\\t33.5\\t37.3\\t36.2\\t36.4\\t35  33.2'"
            ]
          },
          "metadata": {},
          "execution_count": 91
        }
      ]
    },
    {
      "cell_type": "code",
      "metadata": {
        "colab": {
          "base_uri": "https://localhost:8080/"
        },
        "id": "1AowILAFGilC",
        "outputId": "4deb3321-6c29-4883-8ba4-349fd362bd2b"
      },
      "source": [
        "kma.split('\\n')"
      ],
      "execution_count": null,
      "outputs": [
        {
          "output_type": "execute_result",
          "data": {
            "text/plain": [
              "['년\\t2011\\t2012\\t2013\\t2014\\t2015\\t2016\\t2017\\t2018\\t2019\\t2020',\n",
              " '지점\\t159\\t159\\t159\\t159\\t159\\t159\\t159\\t159\\t159\\t159',\n",
              " '평균기온(℃)\\t14.6\\t14.5\\t15.3\\t15.1\\t15.4\\t15.7\\t15.2\\t15.1\\t15.7\\t15.2',\n",
              " '최저기온(℃)\\t-12.8\\t-9.9\\t-10.7\\t-6\\t-7.8\\t-10.2\\t-7.7\\t-9.9\\t-4.4\\t-8',\n",
              " '최고기온(℃)\\t33\\t34.5\\t35\\t32.9\\t33.5\\t37.3\\t36.2\\t36.4\\t35  33.2']"
            ]
          },
          "metadata": {},
          "execution_count": 78
        }
      ]
    },
    {
      "cell_type": "code",
      "metadata": {
        "colab": {
          "base_uri": "https://localhost:8080/"
        },
        "id": "itP7HTU5GsSO",
        "outputId": "e15128e8-5cd2-427e-8ede-fc972b7a8718"
      },
      "source": [
        "kma = kma.replace('\\t',',').split('\\n')\n",
        "year = kma[0].split(',')[1:]\n",
        "yavg = kma[2].split(',')[1:]\n",
        "ymin = kma[3].split(',')[1:]\n",
        "ymax = kma[4].split(',')[1:]\n",
        "\n",
        "print(year)\n",
        "print(yavg)\n",
        "print(ymin)\n",
        "print(ymax)"
      ],
      "execution_count": null,
      "outputs": [
        {
          "output_type": "stream",
          "name": "stdout",
          "text": [
            "['2011', '2012', '2013', '2014', '2015', '2016', '2017', '2018', '2019', '2020']\n",
            "['14.6', '14.5', '15.3', '15.1', '15.4', '15.7', '15.2', '15.1', '15.7', '15.2']\n",
            "['-12.8', '-9.9', '-10.7', '-6', '-7.8', '-10.2', '-7.7', '-9.9', '-4.4', '-8']\n",
            "['33', '34.5', '35', '32.9', '33.5', '37.3', '36.2', '36.4', '35  33.2']\n"
          ]
        }
      ]
    },
    {
      "cell_type": "code",
      "metadata": {
        "colab": {
          "base_uri": "https://localhost:8080/"
        },
        "id": "hHiMu3gtH7Ck",
        "outputId": "fc0a9220-f014-4932-e7d7-320f2a9d5b19"
      },
      "source": [
        "year = list(map(int, year))\n",
        "len(year)"
      ],
      "execution_count": null,
      "outputs": [
        {
          "output_type": "execute_result",
          "data": {
            "text/plain": [
              "10"
            ]
          },
          "metadata": {},
          "execution_count": 93
        }
      ]
    },
    {
      "cell_type": "code",
      "metadata": {
        "colab": {
          "base_uri": "https://localhost:8080/"
        },
        "id": "JHiSzkW4H8Xr",
        "outputId": "ac84b945-f838-4ecc-ff6c-7ebf982897da"
      },
      "source": [
        "# 1. 홀수년도 출력\n",
        "yodd = [item for item in year if item % 2 == 1]\n",
        "print(yodd)"
      ],
      "execution_count": null,
      "outputs": [
        {
          "output_type": "stream",
          "name": "stdout",
          "text": [
            "[2011, 2013, 2015, 2017, 2019]\n"
          ]
        }
      ]
    },
    {
      "cell_type": "code",
      "metadata": {
        "colab": {
          "base_uri": "https://localhost:8080/"
        },
        "id": "UN58dMqwIDsS",
        "outputId": "a0904670-395d-4a25-a947-acadae9b2e75"
      },
      "source": [
        "# 2. 년도와 평균기온 딕셔너리\n",
        "yavg = list(map(float, yavg))\n",
        "ytemp = dict(zip(year, yavg))\n",
        "print(ytemp)"
      ],
      "execution_count": null,
      "outputs": [
        {
          "output_type": "stream",
          "name": "stdout",
          "text": [
            "{'2011': 14.6, '2012': 14.5, '2013': 15.3, '2014': 15.1, '2015': 15.4, '2016': 15.7, '2017': 15.2, '2018': 15.1, '2019': 15.7, '2020': 15.2}\n"
          ]
        }
      ]
    },
    {
      "cell_type": "code",
      "metadata": {
        "colab": {
          "base_uri": "https://localhost:8080/"
        },
        "id": "r-roO3FYIw0g",
        "outputId": "d18ce089-ad4e-44b0-af83-c96c7c345adf"
      },
      "source": [
        "# 3-1. 년도와 평균기온 딕셔너리에서 평균기온 최소값과 해당년도 추출하기\n",
        "mintemp = min(ytemp.values())\n",
        "ryear = ''\n",
        "for year, temp in ytemp.items():\n",
        "  if temp == mintemp : ryear += str(year)\n",
        "print(f'평균기온 최소 {ryear}년 : {mintemp}℃')\n"
      ],
      "execution_count": null,
      "outputs": [
        {
          "output_type": "stream",
          "name": "stdout",
          "text": [
            "평균기온 최소 2012년 : 14.5℃\n"
          ]
        }
      ]
    },
    {
      "cell_type": "code",
      "metadata": {
        "colab": {
          "base_uri": "https://localhost:8080/"
        },
        "id": "VpV90ZT6LtNH",
        "outputId": "1f5ef9b8-22b2-45d9-fe01-e5e2e81c21d3"
      },
      "source": [
        "mintemp = min(ytemp.values())\n",
        "ryear = []\n",
        "for year, temp in ytemp.items():\n",
        "  if temp == mintemp : ryear.append(year) \n",
        "print(f'평균기온 최소 {ryear}년 : {mintemp}℃')"
      ],
      "execution_count": null,
      "outputs": [
        {
          "output_type": "stream",
          "name": "stdout",
          "text": [
            "평균기온 최소 ['2012']년 : 14.5℃\n"
          ]
        }
      ]
    },
    {
      "cell_type": "code",
      "metadata": {
        "colab": {
          "base_uri": "https://localhost:8080/"
        },
        "id": "Hau-Sk_vMx86",
        "outputId": "e6307d5e-6877-4fcb-97ec-48e92d5034f8"
      },
      "source": [
        "# 3-2. 최고기온 최대일 때 해당년도\n",
        "maxtemp = max(ymax)\n",
        "ylist = []\n",
        "for i in range(len(ymax)):\n",
        "  if ymax[i] == maxtemp : ylist.append(year[i])\n",
        "print(f'최고기온 최대 {ylist}년 : {maxtemp}℃')"
      ],
      "execution_count": null,
      "outputs": [
        {
          "output_type": "stream",
          "name": "stdout",
          "text": [
            "최고기온 최대 ['2016']년 : 37.3℃\n"
          ]
        }
      ]
    },
    {
      "cell_type": "code",
      "metadata": {
        "colab": {
          "base_uri": "https://localhost:8080/"
        },
        "id": "9U7-LhKXNC37",
        "outputId": "005e836e-86c9-4565-b428-d66d1d9be327"
      },
      "source": [
        "# 3-3. 최저기온 최소일 때 해당년도\n",
        "mintemp = min(ymin)\n",
        "ymlist = []\n",
        "for i in range(len(ymin)):\n",
        "  if ymin[i] == mintemp : ymlist.append(year[i])\n",
        "print(f'최저기온 최저 {ymlist}년 : {mintemp}℃')"
      ],
      "execution_count": null,
      "outputs": [
        {
          "output_type": "stream",
          "name": "stdout",
          "text": [
            "최저기온 최저 ['2016']년 : -10.2℃\n"
          ]
        }
      ]
    },
    {
      "cell_type": "markdown",
      "metadata": {
        "id": "jbaTDQNme8cY"
      },
      "source": [
        "## (해결문제3) \n",
        "다음 numbers 내부에 들어있는 숫자가 몇 번 등장하는지 출력하는 프로그램을 작성해봅니다.\n",
        "\n",
        "```\n",
        "# random 함수 활용, 범위 생성하기\n",
        "numbers = random.int(1,10)\n",
        "counter = []\n",
        "```\n",
        "(출력)\n",
        "```\n",
        "[6, 9, 5, 3, 6, 6, 4, 1, 9, 6]\n",
        "{6: 4, 9: 2, 5: 1, 3: 1, 4: 1, 1: 1}\n",
        "```\n"
      ]
    },
    {
      "cell_type": "code",
      "metadata": {
        "colab": {
          "base_uri": "https://localhost:8080/"
        },
        "id": "Wb_b1I1Ne517",
        "outputId": "2d7fc7a2-c6de-4fb0-cf58-c1169c40fd48"
      },
      "source": [
        "import random\n",
        "numbers = []\n",
        "counter = {}\n",
        "\n",
        "for i in range(10):\n",
        "  numbers.append(random.randint(1,10))\n",
        "print(numbers)\n",
        "\n",
        "for number in numbers:\n",
        "  if number in counter:\n",
        "    counter[number] += 1\n",
        "  else:\n",
        "    counter[number] = 1\n",
        "\n",
        "print(counter)"
      ],
      "execution_count": null,
      "outputs": [
        {
          "output_type": "stream",
          "name": "stdout",
          "text": [
            "[6, 9, 5, 3, 6, 6, 4, 1, 9, 6]\n",
            "{6: 4, 9: 2, 5: 1, 3: 1, 4: 1, 1: 1}\n"
          ]
        }
      ]
    },
    {
      "cell_type": "markdown",
      "metadata": {
        "id": "J5yrwSvWvQmC"
      },
      "source": [
        "##(해결문제4)\n",
        "각 리스트를 조합하여 딕셔너리를 만들어봅시다.(for문과 dict() 각각 사용)\n",
        "```\n",
        "key_list = ['name','hp','mp','level']\n",
        "value_list = ['기사', 200, 30, 5]\n",
        "```\n",
        "(출력)\n",
        "```\n",
        "{'name':'기사', 'hp':200, 'mp':300, 'level':5}\n",
        "```\n"
      ]
    },
    {
      "cell_type": "code",
      "metadata": {
        "colab": {
          "base_uri": "https://localhost:8080/"
        },
        "id": "-5oDeFM8vf12",
        "outputId": "5726be7f-7851-4f03-aa23-2f752e9f9a2d"
      },
      "source": [
        "key_list = ['name','hp','mp','level']\n",
        "value_list = ['기사', 200, 30, 5]\n",
        "#character = {}\n",
        "\n",
        "#for 문\n",
        "for i in range(len(key_list)):\n",
        "  character[key_list[i]] = value_list[i]\n",
        "print(character)\n",
        "\n",
        "#dict()\n",
        "#cha = dict(zip(key_list, value_list))\n",
        "#print(cha)"
      ],
      "execution_count": null,
      "outputs": [
        {
          "output_type": "stream",
          "name": "stdout",
          "text": [
            "{'name': '기사', 'hp': 200, 'mp': 30, 'level': 5}\n"
          ]
        }
      ]
    },
    {
      "cell_type": "markdown",
      "metadata": {
        "id": "FzFGb7LxiK9X"
      },
      "source": [
        "##(점프)(해결문제5) \n",
        "다음 입력데이터를 아래와 같이 출력하시오<br>\n",
        "(입력)\n",
        "```\n",
        "cha = {\n",
        "  \"name\":\"기사\",\n",
        "  \"level\":12,\n",
        "  \"items\":{\"sword\":\"불꽃의 검\",\"armor\":\"풀플레이트\"},\n",
        "  \"skills\":[\"점프\",\"점점프\",\"점점프\"]\n",
        "}\n",
        "```\n",
        "\n",
        "(출력)\n",
        "```\n",
        "name : 기사\n",
        "level : 12\n",
        "sword : 불꽃의 검\n",
        "armor : 풀플레이트\n",
        "skill : 점프\n",
        "skill : 점점프\n",
        "skill : 점점프\n",
        "```\n",
        "\n",
        "```\n",
        "*  if, elif, else 사용: 딕셔너리, 리스트, 그외\n",
        "*  if type(cha[key]) is dic:\n",
        "    for skey in chr[key]:\n",
        "      print(f'{skey}:{chr[key][skey}')\n",
        "\n",
        "```\n",
        "\n",
        "\n",
        "\n",
        "\n"
      ]
    },
    {
      "cell_type": "code",
      "metadata": {
        "id": "n5h8DdS4OgC1"
      },
      "source": [
        "cha = {\n",
        "  \"name\":\"기사\",\n",
        "  \"level\":12,\n",
        "  \"items\":{\"sword\":\"불꽃의 검\",\"armor\":\"풀플레이트\"},\n",
        "  \"skills\":[\"점프\",\"점점프\",\"점점프\"]\n",
        "}"
      ],
      "execution_count": null,
      "outputs": []
    },
    {
      "cell_type": "code",
      "metadata": {
        "id": "V01hLlkKObh1"
      },
      "source": [
        "dt = {\"items\":{\"sword\":\"불꽃의 검\",\"armor\":\"풀플레이트\"}}\n",
        "dt['items']['sword']"
      ],
      "execution_count": null,
      "outputs": []
    },
    {
      "cell_type": "code",
      "metadata": {
        "id": "BhhD3dgtOd3p"
      },
      "source": [
        "dlt = {'skills' : ['점프', '점점프', '점점점프']}\n",
        "dlt['skills'][0]"
      ],
      "execution_count": null,
      "outputs": []
    },
    {
      "cell_type": "code",
      "metadata": {
        "colab": {
          "base_uri": "https://localhost:8080/"
        },
        "id": "ZsySknqgJjyj",
        "outputId": "93ac17af-18db-4b53-8f0d-0505fed905a6"
      },
      "source": [
        "ch = {\n",
        "  \"name\":\"기사\",\n",
        "  \"level\":12,\n",
        "  \"items\":{\"sword\":\"불꽃의 검\",\"armor\":\"풀플레이트\"},\n",
        "  \"skills\":[\"점프\",\"점점프\",\"점점점프\"]\n",
        "}\n",
        "\n",
        "for i in ch:\n",
        "  print(i,\":\", ch[i])\n",
        "print()\n",
        "\n",
        "for i in ch:\n",
        "  if type(ch[i]) is dict:\n",
        "    for j in ch[i]:\n",
        "      print(j, ch[i][j])\n",
        "  elif type(ch[i]) is list:\n",
        "    for k in ch[i]:\n",
        "      print(i, k)\n",
        "  else:\n",
        "    print(i, ch[i])"
      ],
      "execution_count": null,
      "outputs": [
        {
          "output_type": "stream",
          "name": "stdout",
          "text": [
            "name : 기사\n",
            "level : 12\n",
            "items : {'sword': '불꽃의 검', 'armor': '풀플레이트'}\n",
            "skills : ['점프', '점점프', '점점점프']\n",
            "\n",
            "name 기사\n",
            "level 12\n",
            "sword 불꽃의 검\n",
            "armor 풀플레이트\n",
            "skills 점프\n",
            "skills 점점프\n",
            "skills 점점점프\n"
          ]
        }
      ]
    }
  ]
}

{
  "nbformat": 4,
  "nbformat_minor": 0,
  "metadata": {
    "colab": {
      "name": "P_01_3_리스트튜플(완).ipynb",
      "provenance": [],
      "collapsed_sections": [],
      "toc_visible": true,
      "include_colab_link": true
    },
    "kernelspec": {
      "name": "python3",
      "display_name": "Python 3.9.6 64-bit"
    },
    "language_info": {
      "name": "python",
      "version": "3.9.6",
      "mimetype": "text/x-python",
      "codemirror_mode": {
        "name": "ipython",
        "version": 3
      },
      "pygments_lexer": "ipython3",
      "nbconvert_exporter": "python",
      "file_extension": ".py"
    },
    "interpreter": {
      "hash": "26d226b27428e5a93bcfd2336d2bdab30e76d3084eedf1e44520bab54c15b048"
    }
  },
  "cells": [
    {
      "cell_type": "markdown",
      "metadata": {
        "id": "view-in-github",
        "colab_type": "text"
      },
      "source": [
        "<a href=\"https://colab.research.google.com/github/teacher014/pyhonbasic/blob/main/P_01_3_%EB%A6%AC%EC%8A%A4%ED%8A%B8%ED%8A%9C%ED%94%8C(%EC%99%84).ipynb\" target=\"_parent\"><img src=\"https://colab.research.google.com/assets/colab-badge.svg\" alt=\"Open In Colab\"/></a>"
      ]
    },
    {
      "cell_type": "markdown",
      "metadata": {
        "id": "xqCNF5Jkjrl1"
      },
      "source": [
        "# **컬렉션자료형(collection data type)**\n",
        "+ 여러 요소를 묶어서 처리할 수 있는 자료형 \n",
        "+ 각 요소에 접근하는 방법이 제공\n",
        "\n",
        "![대체 텍스트](https://drive.google.com/uc?export=view&id=1qNHKZPJv546haViE6KBY3kg8gUlHJm_F)"
      ]
    },
    {
      "cell_type": "markdown",
      "metadata": {
        "id": "yCrF5QdUHZBj"
      },
      "source": [
        "## **리스트(list)**\n",
        "\n",
        "+ **특징**\n",
        " - 리스트의 각 요소는 순서를 가지고 있음\n",
        " - 대괄호([])로 작성되며 각 요소는 쉼표(,)로 구분\n",
        " - 요소를 추가, 수정, 삭제 가능\n",
        "+ **리스트 생성**\n",
        " - []나 리스트 함수\n",
        "+ **인덱싱**\n",
        " - 요소의 선택은 0부터 시작되는 인덱스로 접근\n",
        " - 리스트명[인덱스]\n",
        "+ **슬라이싱**\n",
        " - 요소의 일부분 선택\n",
        " - 리스트명[시작인덱스:종료인덱스] : 종료인덱스는 포함되지 않음\n",
        "+ **리스트 연산** \n",
        " - $+$ 연산 : 리스트와 리스트 연결\n",
        " - $*$ 연산 : 리스트 요소 반복\n",
        "\n",
        "+ **리스트 추가**\n",
        " - 리스트명.append(추가요소) : 마지막에 추가\n",
        " - 리스트명.insert(인덱스, 추가요소) : 해당 인덱스에 요소 추가\n",
        "+ **리스트 삭제**\n",
        " - 리스트명.pop() : 마지막 요소 삭제\n",
        " - 리스트명.pop(인덱스) : 해당 인덱스 요소 삭제\n",
        " - 리스트명.remove(요소값) : 해당 요소값 삭제\n",
        " - 해당 값이 없으면 오류\n",
        "+ **리스트 수정** \n",
        " - 리스트명[인덱스]=변경값\n",
        "+ **리스트 위치 반환**\n",
        " - 리스트명.index(요소값)\n",
        " - 해당 요소값의 위치를 반환\n",
        " - 여러 개 요소가 존재하면 첫번째 위치 반환하고 없으면 오류\n",
        "+ **리스트 요소 개수 구하기**\n",
        " - 리스트명.count(요소값)\n",
        "+ **리스트 정렬**\n",
        " - 리스트명.sort() : 오름차순\n",
        " - 리스트명.sort(reverse=True): 내림차순\n",
        "+ **리스트 뒤집기**\n",
        " - 리스트명.revers() : 요소를 역순으로 뒤집어 줌\n"
      ]
    },
    {
      "cell_type": "markdown",
      "metadata": {
        "id": "TKe3-L5lNYYN"
      },
      "source": [
        "<img src ='https://github.com/teacher-jiejie/allinone_AI/blob/images/7_%EB%A6%AC%EC%8A%A4%ED%8A%B8%EC%9D%B8%EB%8D%B1%EC%8A%A4.png?raw=true' width=600>"
      ]
    },
    {
      "cell_type": "markdown",
      "metadata": {
        "id": "6n9IjADZt4Z5"
      },
      "source": [
        "> 실생활의 리스트\n",
        "\n",
        "\n",
        "Netflix 인기 콘텐츠 \n",
        "   1. 오징어게임(squid game)\n",
        "   2. D.★.P\n",
        "   3. 킹덤\n",
        "   4. 종이의 집\n",
        "   5. 스위트 홈\n",
        "\n",
        "멸종위기야생동·식물 Ⅰ급(총 11종)\n",
        "1. 늑대 Canis lupus coreanus\n",
        "2. 대륙사슴 Cervus nippon hortulorum\n",
        "3. 반달가슴곰 Ursus thibetanus ussuricus\n",
        "4. 붉은박쥐 Myotis formosus chofukusei\n",
        "5. 사향노루 Moschus moschiferus parvipes\n",
        "6. 산양 Naemorhedus caudatus\n",
        "7. 수달 Lutra lutra\n",
        "8. 시라소니 Lynx lynx\n",
        "9. 여우 Vulpes vulpus peculiosa\n",
        "10. 표범 Panthera pardus orientalis\n",
        "11. 호랑이 Panthera tigris altaica\n",
        "</br>\n",
        "\n",
        "> 파이썬의 리스트\n",
        "\n",
        "```\n",
        "- 여러 데이터를 한 번에 묶어서 표현(collection data)\n",
        "- 리스트 이름 = [데이터1, 데이터2, ..., 데이터n]\n",
        " - 마이너스 인덱스 사용\n",
        "```\n",
        "<img src='https://github.com/teacher-jiejie/allinone_AI/blob/images/6_%EB%A6%AC%EC%8A%A4%ED%8A%B8%EA%B0%9C%EB%85%90.png?raw=true' width=600>\n",
        "\n",
        "<img src = 'https://github.com/teacher-jiejie/allinone_AI/blob/images/8_%EB%A6%AC%EC%8A%A4%ED%8A%B8%20%EB%A7%88%EC%9D%B4%EB%84%88%EC%8A%A4%EC%9D%B8%EB%8D%B1%EC%8A%A4.png?raw=true' width=300>\n",
        "\n",
        "\n",
        "\n"
      ]
    },
    {
      "cell_type": "code",
      "metadata": {
        "id": "KkIT6sPpB8Yc"
      },
      "source": [
        "# 리스트 생성 : [] or list()\n",
        "lst = []\n",
        "lst1 = list()\n",
        "lst = [10, 20, 30, 40, 50]\n",
        "lst"
      ],
      "execution_count": null,
      "outputs": []
    },
    {
      "cell_type": "code",
      "metadata": {
        "id": "2x1UHy_ctw41"
      },
      "source": [
        "# 인덱싱 : 요소는 인덱스로 접근(0부터 시작)\n",
        "lst[0]\n",
        "lst[-1]\n",
        "\n",
        "#슬라이싱 : 요소 일부분 선택\n",
        "lst[:2]\n",
        "lst[::]"
      ],
      "execution_count": null,
      "outputs": []
    },
    {
      "cell_type": "code",
      "metadata": {
        "id": "-Mzib4lktw41"
      },
      "source": [
        "# 리스트 연산\n",
        "# + 연산 : 리스트와 리스트의 연결\n",
        "# * 연산 : 리스트 요소 반복\n",
        "\n",
        "a = [10, 20]\n",
        "b = [100, 200]\n",
        "c = a + b\n",
        "d = a * 3\n",
        "d"
      ],
      "execution_count": null,
      "outputs": []
    },
    {
      "cell_type": "code",
      "metadata": {
        "id": "OCZ-nSTEtw42"
      },
      "source": [
        "# 리스트 추가\n",
        "# 리스트명.append(추가요소) : 마지막에 추가\n",
        "# 리스트명.insert(인덱스, 추가요소) : 해당 인덱스에 요소 추가\n",
        "\n",
        "bts = ['정국', '지민', '제이홉','뷔']\n",
        "bts.append('진')\n",
        "bts.append('슈가')\n",
        "bts.insert(0,'RM')\n",
        "bts"
      ],
      "execution_count": null,
      "outputs": []
    },
    {
      "cell_type": "code",
      "metadata": {
        "id": "Lmjl0voOtw42"
      },
      "source": [
        "# 리스트 삭제\n",
        "# 리스트명.pop() : 마지막 요소 삭제\n",
        "# 리스트명.pop(인덱스) : 해당 인덱스 요소 삭제\n",
        "# 리스트명.remove(요소값) : 해당 요소값 삭제, 해당값이 없으면 오류\n",
        "\n",
        "bts.pop()\n",
        "bts.pop(0)\n",
        "bts.remove('뷔')\n",
        "bts.remove('RM')\n",
        "bts"
      ],
      "execution_count": null,
      "outputs": []
    },
    {
      "cell_type": "code",
      "metadata": {
        "id": "oTTA1cjBtw43"
      },
      "source": [
        "# 리스트 위치 반환\n",
        "# 리스트명.index(요소값) : 해당 요소값의 위치를 반환, 없으면 오류\n",
        "bts\n",
        "bts.index('정국')\n",
        "bts.index('슈가')"
      ],
      "execution_count": null,
      "outputs": []
    },
    {
      "cell_type": "code",
      "metadata": {
        "id": "Hz1d9FMztw44"
      },
      "source": [
        "# 리스트 요소 개수 구하기\n",
        "# 리스트명.count(요소값)\n",
        "bts\n",
        "bts.count('진')"
      ],
      "execution_count": null,
      "outputs": []
    },
    {
      "cell_type": "code",
      "metadata": {
        "id": "-UWG4bWwtw44"
      },
      "source": [
        "# 리스트 정렬\n",
        "# 리스트명.sort() : 오름차순\n",
        "# 리스트명.sort(reverse = True) : 내림차순\n",
        "bts = ['RM', '정국', '지민', '제이홉', '뷔', '진', '슈가']\n",
        "bts.sort()\n",
        "bts\n",
        "bts.sort(reverse=True)\n",
        "bts"
      ],
      "execution_count": null,
      "outputs": []
    },
    {
      "cell_type": "code",
      "metadata": {
        "id": "Gs9zqfyrtw44"
      },
      "source": [
        "# 리스트 뒤집기\n",
        "# 리스트명.reverse() : 요소를 역순으로 뒤집어 줌\n",
        "bts.reverse()\n",
        "bts"
      ],
      "execution_count": null,
      "outputs": []
    },
    {
      "cell_type": "markdown",
      "metadata": {
        "id": "VcinMKvjPO_n"
      },
      "source": [
        "### 리스트 슬라이싱\n",
        "\n",
        "\n",
        "> 리스트[시작숫자 : 종료숫자]\n",
        "\n",
        "<img src = 'https://github.com/teacher-jiejie/allinone_AI/blob/images/9_%EB%A6%AC%EC%8A%A4%ED%8A%B8%EC%8A%AC%EB%9D%BC%EC%9D%B4%EC%8B%B1.png?raw=true' width=500>\n",
        "\n",
        "\n",
        "종료숫자-1 까지 잘라내는 것\n",
        "\n",
        "```\n",
        "abc[2:5]       # abc[2]~abc[4]까지 슬라이싱\n",
        "abc[4:9]       # abc[4]~abc[8]까지 슬라이싱\n",
        "```\n",
        "\n",
        "\n",
        "\n",
        "\n",
        "```\n",
        "food = ['피자','치킨','떡볶이','스테이크','파스타']\n",
        "```\n",
        "\n",
        "\n",
        "\n",
        "\n",
        "\n",
        "\n"
      ]
    },
    {
      "cell_type": "markdown",
      "metadata": {
        "id": "IGU9mv18M_PG"
      },
      "source": [
        "### (연습문제) 빈 리스트 만들고 데이터 추가하기\n",
        ": 버킷리스트 10가지를 입력받아 출력하는 프로그램\n",
        ": 10번을 계속 입력받고, q 종료조건 추가"
      ]
    },
    {
      "cell_type": "code",
      "metadata": {
        "id": "GYzqWARONDK-"
      },
      "source": [
        "# to_do list\n",
        "to_do = []\n",
        "to_do.append('파이썬 공부')\n",
        "print(to_do)"
      ],
      "execution_count": null,
      "outputs": []
    },
    {
      "cell_type": "code",
      "metadata": {
        "id": "0r1zYRJ_vrp8"
      },
      "source": [
        "# 버킷리스트(Bucket list)를 입력받아 출력하기(종료조건 추가:'q' 입력 종료)\n",
        "bucket=[]\n",
        "item = input('What are the top 10 bucket list items?')"
      ],
      "execution_count": null,
      "outputs": []
    },
    {
      "cell_type": "markdown",
      "metadata": {
        "id": "Teyp7VgNO0Rt"
      },
      "source": [
        "### (실습) 문자열 슬라이싱\n",
        "```\n",
        "date = '2021-09-27 월요일'\n",
        "```\n",
        "1. 날짜(년월일), 요일을 분리하기 - 공백기준 split()<br>\n",
        "2. 월, 일을 month, day 변수에 저장하기(정수형 자료형)"
      ]
    },
    {
      "cell_type": "code",
      "metadata": {
        "id": "EsKzoWaCO4u5"
      },
      "source": [
        "date = '2021-09-27 월요일'"
      ],
      "execution_count": null,
      "outputs": []
    },
    {
      "cell_type": "code",
      "metadata": {
        "id": "MlG5GnJaWhK-"
      },
      "source": [
        "# 공백을 기준으로 split\n",
        "a = date.split()\n",
        "a\n",
        "# -을 기준으로 split\n",
        "b = date.split('-')\n",
        "b"
      ],
      "execution_count": null,
      "outputs": []
    },
    {
      "cell_type": "code",
      "metadata": {
        "id": "2XvQBQ3FWpCh",
        "outputId": "32f30a99-cee2-4774-c6bb-d0e16c379e1a"
      },
      "source": [
        "# split의 결과는 리스트이므로 인덱스 사용 가능\n",
        "date.split('-')[1]"
      ],
      "execution_count": null,
      "outputs": [
        {
          "output_type": "execute_result",
          "data": {
            "text/plain": [
              "'09'"
            ]
          },
          "metadata": {},
          "execution_count": 101
        }
      ]
    },
    {
      "cell_type": "code",
      "metadata": {
        "id": "l6klIuCRWqxH"
      },
      "source": [
        "# split의 결과는 문자이므로 숫자로 변환해야 함\n",
        "int(date.split('-')[1])"
      ],
      "execution_count": null,
      "outputs": []
    },
    {
      "cell_type": "code",
      "metadata": {
        "id": "VKwiDJzmtw48",
        "outputId": "3f46bfaa-fa4c-4191-850a-53681a98e273"
      },
      "source": [
        "date = '2021-09-27'\n",
        "# 월만 골라내기\n",
        "mon = int(date.split('-')[1])\n",
        "print(mon)"
      ],
      "execution_count": null,
      "outputs": [
        {
          "output_type": "stream",
          "name": "stdout",
          "text": [
            "9\n"
          ]
        }
      ]
    },
    {
      "cell_type": "code",
      "metadata": {
        "id": "6cjmhjlMtw48",
        "outputId": "b262bac3-18a3-4721-f3dd-225f4d1ad72e"
      },
      "source": [
        "# 일만 골라내기\n",
        "day = int(date.split('-')[-1])\n",
        "print(day)"
      ],
      "execution_count": null,
      "outputs": [
        {
          "output_type": "stream",
          "name": "stdout",
          "text": [
            "27\n"
          ]
        }
      ]
    },
    {
      "cell_type": "markdown",
      "metadata": {
        "id": "1pT_5YTyXc_y"
      },
      "source": [
        "## **리스트와 제어구조**\n",
        "\n"
      ]
    },
    {
      "cell_type": "markdown",
      "metadata": {
        "id": "37SxeebR0FaU"
      },
      "source": [
        "> list()와 range()함수로 리스트 생성하기\n",
        "```\n",
        "lst = list(range(1, 21, 2))\n",
        "lst\n",
        "lst[3:7]\n",
        "lst[::]\n",
        "```"
      ]
    },
    {
      "cell_type": "code",
      "metadata": {
        "id": "1Fd4lMF40EiW"
      },
      "source": [
        "# 실습"
      ],
      "execution_count": null,
      "outputs": []
    },
    {
      "cell_type": "markdown",
      "metadata": {
        "id": "uGtootfB0n0Y"
      },
      "source": [
        "> for 문 리스트 활용\n",
        "```\n",
        "flavors = ['바닐라', '민트초코', '초코', '스트로베리', '월넛']\n",
        "for flavor in flavors:\n",
        "    print('f'My favorite flavor is {flavor}')\n",
        "```"
      ]
    },
    {
      "cell_type": "code",
      "metadata": {
        "id": "VjhMbpoi24yW"
      },
      "source": [
        "# 실습\n",
        "flavors = ['바닐라', '민트초코', '초코', '스트로베리', '월넛']\n",
        "for flavor in flavors:\n",
        "    print(f'My favorite flavor is {flavor}')"
      ],
      "execution_count": null,
      "outputs": []
    },
    {
      "cell_type": "markdown",
      "metadata": {
        "id": "pPBjhOn1X4z5"
      },
      "source": [
        "### 1) for a in data 에서 data에 리스트를 넣을 때 \n",
        "다음의 모든 원소를 차례대로 출력하시오 \n",
        "\n",
        "```\n",
        "kakaopay = [25, 36, 80, 53, 24, 56]\n",
        "```"
      ]
    },
    {
      "cell_type": "code",
      "metadata": {
        "id": "UqLSkH7OX3qS"
      },
      "source": [
        "kakaopay = [25, 36, 80, 53, 24, 56]"
      ],
      "execution_count": null,
      "outputs": []
    },
    {
      "cell_type": "code",
      "metadata": {
        "id": "WG3wl-sStw4-",
        "outputId": "db898f67-df89-461d-aae8-f85b6e12e55f"
      },
      "source": [
        "# 50이상을 출력하시오\n",
        "for s in kakaopay : \n",
        "    if s >= 50 : \n",
        "        print(s)"
      ],
      "execution_count": null,
      "outputs": [
        {
          "output_type": "stream",
          "name": "stdout",
          "text": [
            "80\n",
            "53\n",
            "56\n"
          ]
        }
      ]
    },
    {
      "cell_type": "markdown",
      "metadata": {
        "id": "6PjVJDc2wAFF"
      },
      "source": [
        "\n",
        "\n",
        "### 2) for a in data 에서 data에 range()를 넣을 때\n"
      ]
    },
    {
      "cell_type": "code",
      "metadata": {
        "colab": {
          "base_uri": "https://localhost:8080/"
        },
        "id": "VnjOn4sEwAFF",
        "outputId": "458abfb9-413a-4b87-dd7a-22f78f9d0af9"
      },
      "source": [
        "# 인덱스를 활용하고 싶을 때 range()\n",
        "for i in range(0, 6) : \n",
        "    print(i,'월 지출:', kakaopay[i],'원')"
      ],
      "execution_count": null,
      "outputs": [
        {
          "output_type": "stream",
          "name": "stdout",
          "text": [
            "0 월 지출: 25 원\n",
            "1 월 지출: 36 원\n",
            "2 월 지출: 80 원\n",
            "3 월 지출: 53 원\n",
            "4 월 지출: 24 원\n",
            "5 월 지출: 56 원\n"
          ]
        }
      ]
    },
    {
      "cell_type": "code",
      "metadata": {
        "colab": {
          "base_uri": "https://localhost:8080/"
        },
        "id": "rVn5bGGbwAFG",
        "outputId": "e1a98bae-9ec7-41a9-c3c0-e27a5b4a8ff9"
      },
      "source": [
        "# len() 활용하기\n",
        "for i in range(0, len(kakaopay)) : \n",
        "    print(f'{i+1}월 지출: {kakaopay[i]}원')"
      ],
      "execution_count": null,
      "outputs": [
        {
          "output_type": "stream",
          "name": "stdout",
          "text": [
            "1월 지출: 25원\n",
            "2월 지출: 36원\n",
            "3월 지출: 80원\n",
            "4월 지출: 53원\n",
            "5월 지출: 24원\n",
            "6월 지출: 56원\n"
          ]
        }
      ]
    },
    {
      "cell_type": "code",
      "metadata": {
        "id": "8wZg0njGtw4_"
      },
      "source": [
        "# range()가 0부터 시작하면 생략 가능\n",
        "for i in range(len(kakaopay)) :\n",
        "    print(f'{i+1}월 지출: {kakaopay[i]}원')"
      ],
      "execution_count": null,
      "outputs": []
    },
    {
      "cell_type": "markdown",
      "metadata": {
        "id": "Mliij-AiZr4_"
      },
      "source": [
        "## 이차원 리스트\n",
        "\n",
        "<img src ='https://github.com/teacher-jiejie/allinone_AI/blob/images/14_%EC%9D%B4%EC%B0%A8%EC%9B%90%20%EB%A6%AC%EC%8A%A4%ED%8A%B8.png?raw=true' width = 500>"
      ]
    },
    {
      "cell_type": "code",
      "metadata": {
        "id": "dhhb0BtzZzfi",
        "colab": {
          "base_uri": "https://localhost:8080/"
        },
        "outputId": "c38aca8a-1608-43ff-eab7-668387a924ef"
      },
      "source": [
        "abc = [[1,2,3], [4,5,6], [7,8,9]]\n",
        "print(abc)"
      ],
      "execution_count": null,
      "outputs": [
        {
          "output_type": "stream",
          "name": "stdout",
          "text": [
            "[[1, 2, 3], [4, 5, 6], [7, 8, 9]]\n"
          ]
        }
      ]
    },
    {
      "cell_type": "markdown",
      "metadata": {
        "id": "IROs-Ha0yUj2"
      },
      "source": [
        "### 1) 이차원 리스트의 인덱스\n",
        "\n",
        "<img src = 'https://github.com/teacher-jiejie/allinone_AI/blob/images/15_%EC%9D%B4%EC%B0%A8%EC%9B%90%20%EB%A6%AC%EC%8A%A4%ED%8A%B8%20%EC%9D%B8%EB%8D%B1%EC%8A%A4.png?raw=true' width = 600>"
      ]
    },
    {
      "cell_type": "code",
      "metadata": {
        "id": "1U_e8JPXul-I",
        "colab": {
          "base_uri": "https://localhost:8080/"
        },
        "outputId": "6aa8ca69-be09-412b-9719-53c9ca657929"
      },
      "source": [
        "# 1 출력하기\n",
        "print(abc[0][0])"
      ],
      "execution_count": null,
      "outputs": [
        {
          "output_type": "stream",
          "name": "stdout",
          "text": [
            "1\n"
          ]
        },
        {
          "output_type": "execute_result",
          "data": {
            "text/plain": [
              "[1, 2, 3]"
            ]
          },
          "metadata": {},
          "execution_count": 12
        }
      ]
    },
    {
      "cell_type": "markdown",
      "metadata": {
        "id": "-bcfTuieldf0"
      },
      "source": [
        "(연습) 이차원 리스트 abc에서 인덱스를 활용해 다음 숫자를 출력하시오"
      ]
    },
    {
      "cell_type": "code",
      "metadata": {
        "id": "ME-RYjZvYmwF",
        "outputId": "bba1bdb5-6aa6-497a-f59f-31a881c26899"
      },
      "source": [
        "#3\n",
        "print(abc[0][2])"
      ],
      "execution_count": null,
      "outputs": [
        {
          "output_type": "stream",
          "name": "stdout",
          "text": [
            "3\n"
          ]
        }
      ]
    },
    {
      "cell_type": "code",
      "metadata": {
        "id": "5OU1GF05YmjU",
        "outputId": "98aeef7d-2214-4dbf-b850-2e5289aab5fe"
      },
      "source": [
        "#5\n",
        "print(abc[1][1])"
      ],
      "execution_count": null,
      "outputs": [
        {
          "output_type": "stream",
          "name": "stdout",
          "text": [
            "5\n"
          ]
        }
      ]
    },
    {
      "cell_type": "markdown",
      "metadata": {
        "id": "2YUUytTsftU5"
      },
      "source": [
        "### 2) 반복문과 이차원 리스트"
      ]
    },
    {
      "cell_type": "code",
      "metadata": {
        "id": "vIwkSkIuyYwV",
        "outputId": "745ec57d-dc1d-42c0-fc94-83a4c00f24df"
      },
      "source": [
        "for row in abc : \n",
        "    print(row)"
      ],
      "execution_count": null,
      "outputs": [
        {
          "output_type": "stream",
          "name": "stdout",
          "text": [
            "[1, 2, 3]\n",
            "[4, 5, 6]\n",
            "[7, 8, 9]\n"
          ]
        }
      ]
    },
    {
      "cell_type": "markdown",
      "metadata": {
        "id": "-bbMjsKVyY4B"
      },
      "source": [
        "> ### 이차원 리스트 반복 원리\n",
        "\n",
        "<img src = 'https://github.com/teacher-jiejie/allinone_AI/blob/images/16_%EC%9D%B4%EC%B0%A8%EC%9B%90%20%EB%A6%AC%EC%8A%A4%ED%8A%B8%20%EB%B0%98%EB%B3%B5%EA%B5%AC%EC%A1%B0.png?raw=true' width=800>"
      ]
    },
    {
      "cell_type": "code",
      "metadata": {
        "id": "t4LqJgCdyh03",
        "outputId": "0b6af949-1d02-4de3-8190-30b56653807d"
      },
      "source": [
        "# 모든 줄의 첫번째 데이터만 출력\n",
        "for row in abc : \n",
        "    print(row[0])"
      ],
      "execution_count": null,
      "outputs": [
        {
          "output_type": "stream",
          "name": "stdout",
          "text": [
            "1\n",
            "4\n",
            "7\n"
          ]
        }
      ]
    },
    {
      "cell_type": "code",
      "metadata": {
        "id": "N3J7nAOrrTWs"
      },
      "source": [
        "# 모든 줄의 마지막 데이터(세번째 열)만 출력\n",
        "for row in abc : \n",
        "    print(row[-1])"
      ],
      "execution_count": null,
      "outputs": []
    },
    {
      "cell_type": "markdown",
      "metadata": {
        "id": "99MzQYSXtw5C"
      },
      "source": [
        "###(해결문제) 다음 리스트 a 에 들어있는 문자열에서 길이가 5인 요소들만 출력하시오.<p>\n",
        "NATO phonetic alphabet : 알파벳의 각 글자를 나타내는 단어의 집합이다. 무선 통신이나 소음이 많은 곳에서 의미를 분명하게 전달하기 위해 사용된다. 예를 들어 비행기가 A유도로를 지나서 Z유도로를 간다고 하면 에이에이, 지라고 말하지 않고 알파알파, 줄루라고 발음한다.\n",
        "```\n",
        "a = ['alpha', 'bravo', 'charlie', 'delta', 'echo', 'foxtrot', 'golf', 'hotel', 'india']\n",
        "```"
      ]
    },
    {
      "cell_type": "code",
      "metadata": {
        "id": "jFIja-A0tw5C",
        "outputId": "9c333422-1dc4-4fc8-a338-4f89aa4d8780"
      },
      "source": [
        "a = ['alpha', 'bravo', 'charlie', 'delta', 'echo', 'foxtrot', 'golf', 'hotel', 'india']\n",
        "b = [i for i in a if len(i) == 5]\n",
        "b"
      ],
      "execution_count": null,
      "outputs": [
        {
          "output_type": "execute_result",
          "data": {
            "text/plain": [
              "['alpha', 'bravo', 'delta', 'hotel', 'india']"
            ]
          },
          "metadata": {},
          "execution_count": 2
        }
      ]
    },
    {
      "cell_type": "markdown",
      "metadata": {
        "id": "nFXPtHfStw5C"
      },
      "source": [
        "## (점프) 리스트 내포(List Comprehension)\n",
        ": 리스트 안에 식, for 반복문 등을 지정하여 리스트를 생성하는 것<br>\n",
        ": 리스트를 쉽게, 짧게 한 줄로 만들 수 있는 파이썬의 문법\n",
        "\n",
        "```\n",
        "numList = [num for num in range(1,6)]\n",
        "```"
      ]
    },
    {
      "cell_type": "code",
      "metadata": {
        "id": "UqXuJ3M9tw5C"
      },
      "source": [
        "numList = [num for num in range(1,6)]\n",
        "numList"
      ],
      "execution_count": null,
      "outputs": []
    },
    {
      "cell_type": "code",
      "metadata": {
        "id": "K_nY9Zw_tw5C"
      },
      "source": [
        "# 반복문 사용 리스트 생성- 0~20 사이 짝수구해 제곱해서 새로운 리스트\n",
        "a=[]\n",
        "for i in range(0,20,2):\n",
        "    a.append(i*i)\n",
        "print(a)\n",
        "\n",
        "# 리스트 안에 for문 사용\n",
        "a_list = [i*i for i in range(0,20,2)]\n",
        "print(a_list)\n",
        "\n",
        "# if 문 조합\n",
        "a_list2 = [i*i for i in range(0,20,2) if i*i >= 100]\n",
        "a_list2"
      ],
      "execution_count": null,
      "outputs": []
    },
    {
      "cell_type": "code",
      "metadata": {
        "id": "zxatxcdytw5C"
      },
      "source": [
        "a = [i*j for j in range(2, 10) for i in range(1, 10)]\n",
        "a"
      ],
      "execution_count": null,
      "outputs": []
    },
    {
      "cell_type": "code",
      "metadata": {
        "id": "kNCZcCNvtw5D"
      },
      "source": [
        "a_f = [f'{i}*{j}={i*j}' for j in range(2, 10) for i in range(1, 10)]\n",
        "a_f"
      ],
      "execution_count": null,
      "outputs": []
    },
    {
      "cell_type": "markdown",
      "metadata": {
        "id": "F_KC3_NAtw5D"
      },
      "source": [
        "## (점프) enumerate()\n",
        ": 리스트의 요소를 반복할 때 현재 인덱스가 몇번째인지 확인해야하는 경우"
      ]
    },
    {
      "cell_type": "code",
      "metadata": {
        "id": "j56njg7Rtw5D"
      },
      "source": [
        "# 방법 1\n",
        "a = ['a', 'b', 'c']\n",
        "i = 0\n",
        "for item in a:\n",
        "    print(f'[{i}]:{item}')\n",
        "    i += 1\n",
        "print('len()')\n",
        "\n",
        "# 방법 2\n",
        "for i in range(len(a)):\n",
        "    print(f'[{i}]:{a[i]}')\n",
        "print('enumerate()')\n",
        "\n",
        "# 방법3\n",
        "for i, value in enumerate(a):\n",
        "    print(f'[{i}]:{value}')"
      ],
      "execution_count": null,
      "outputs": []
    },
    {
      "cell_type": "markdown",
      "metadata": {
        "id": "0QKBAczacR30"
      },
      "source": [
        "## (해결문제) 올림픽 데이터"
      ]
    },
    {
      "cell_type": "markdown",
      "metadata": {
        "id": "d6dCJqHYaDHw"
      },
      "source": [
        "<img src = \"https://img7.yna.co.kr/etc/graphic/YH/2021/08/08/GYH2021080800140004400_P4.jpg?\"  width=300>\n",
        "\n",
        "```\n",
        "data =[[1,'미국',39,41,33,113],[2,'중국',38,32,18,88],[3,'일본',26,18,26,70],[4,'영국',19,18,19,56],[5,'독일',17,10,15,42],[6,'일본',12,8,21,41],[7,'프랑스',10,18,14,42],[8,'대한민국',9,3,9,21]]\n",
        "```"
      ]
    },
    {
      "cell_type": "code",
      "metadata": {
        "id": "NIc2gCk0tw5D"
      },
      "source": [
        "data =[\n",
        "       [1,'미국',39,41,33,113],\n",
        "       [2,'중국',38,32,18,88],\n",
        "       [3,'일본',26,18,26,70],\n",
        "       [4,'영국',19,18,19,56],\n",
        "       [5,'독일',17,10,15,42],\n",
        "       [6,'일본',12,8,21,41],\n",
        "       [7,'프랑스',10,18,14,42],\n",
        "       [8,'대한민국',9,3,9,21] \n",
        "       ]"
      ],
      "execution_count": null,
      "outputs": []
    },
    {
      "cell_type": "code",
      "metadata": {
        "id": "T_TglCBacPcP",
        "outputId": "b3f4e3ec-d536-4266-e198-f14970106316"
      },
      "source": [
        "# 순위권에 든 모든 국가를 출력하시오\n",
        "for row in data :\n",
        "    print(row[1], end=' ')"
      ],
      "execution_count": null,
      "outputs": [
        {
          "output_type": "stream",
          "name": "stdout",
          "text": [
            "미국 중국 일본 영국 독일 일본 프랑스 대한민국 "
          ]
        }
      ]
    },
    {
      "cell_type": "code",
      "metadata": {
        "id": "lW5Zs3zKdVV8",
        "outputId": "42bb2cc7-30da-4e7a-b9f9-320f44cd9fda"
      },
      "source": [
        "# 금메달보다 은메달 개수가 많은 나라를 출력하시오\n",
        "for row in data : \n",
        "    if row[2] < row[3] : \n",
        "        print(row[1], '금:',row[2], '은:',row[3])"
      ],
      "execution_count": null,
      "outputs": [
        {
          "output_type": "stream",
          "name": "stdout",
          "text": [
            "미국 금: 39 은: 41\n",
            "프랑스 금: 10 은: 18\n"
          ]
        }
      ]
    },
    {
      "cell_type": "code",
      "metadata": {
        "id": "Nis355WsdXCm",
        "outputId": "17d45c86-867b-4e10-c774-ff4a459c1f20"
      },
      "source": [
        "# 금메달보다 동메달 개수가 많은 나라를 출력하시오\n",
        "for row in data : \n",
        "    if row[2] < row[4] : \n",
        "        print(row[1], '금:', row[2], '동:', row[4])"
      ],
      "execution_count": null,
      "outputs": [
        {
          "output_type": "stream",
          "name": "stdout",
          "text": [
            "일본 금: 12 동: 21\n",
            "프랑스 금: 10 동: 14\n"
          ]
        }
      ]
    },
    {
      "cell_type": "code",
      "metadata": {
        "id": "zFFpCrKzdbwW",
        "outputId": "3c2db7ef-7249-4e51-fab6-ad10fe400695"
      },
      "source": [
        "# 모든 나라의 금,은,동 메달 합을 구하여 출력하시오.\n",
        "gold = 0\n",
        "silver = 0\n",
        "\n",
        "for row in data : \n",
        "    gold += row[2]\n",
        "    silver += row[3]\n",
        "\n",
        "print(f'총 금메달: {gold}개')\n",
        "print(f'총 은메달: {silver}개')"
      ],
      "execution_count": null,
      "outputs": [
        {
          "output_type": "stream",
          "name": "stdout",
          "text": [
            "총 금메달: 170개\n",
            "총 은메달: 148개\n"
          ]
        }
      ]
    },
    {
      "cell_type": "markdown",
      "metadata": {
        "id": "DBBsEWgYtw5E"
      },
      "source": [
        "## (해결문제) 다음 리스트의 숫자를 하나씩 모두 출력하시오.\n",
        "\n",
        "```\n",
        "list_of_list = [[1,2,3],[4,5,6,7],[8,9,10]]\n",
        "```"
      ]
    },
    {
      "cell_type": "code",
      "metadata": {
        "id": "KcRvHzrHtw5E",
        "outputId": "b8f183d8-f0fd-4818-f648-a0a345bcbc03"
      },
      "source": [
        "lst = [[1,2,3],[4,5,6,7],[8,9,10]]\n",
        "\n",
        "for i in lst:\n",
        "    for j in i:\n",
        "        print(j, end=',') "
      ],
      "execution_count": null,
      "outputs": [
        {
          "output_type": "stream",
          "name": "stdout",
          "text": [
            "1,2,3,4,5,6,7,8,9,10,"
          ]
        }
      ]
    },
    {
      "cell_type": "markdown",
      "metadata": {
        "id": "0JLMN__7LVoy"
      },
      "source": [
        "# 튜플(tuple)\n",
        "+ 튜플의 각 요소는 순서를 가지고 있음\n",
        "+ 괄호(())로 작성되며 각 요소는 쉼표(,)로 구분\n",
        "+ 요소를 추가, 수정, 삭제 불가능\n",
        "+ 한번 결정된 요소는 변경 불가능\n",
        "+ 인덱싱과 슬라이싱은 리스트와 동일\n",
        "+ $+$와 $*$연산은 리스트와 동일\n",
        "+ 각 요소에 변수 할당 가능\n",
        " - x, y = (10, 20)\n"
      ]
    },
    {
      "cell_type": "code",
      "metadata": {
        "id": "GCa3CaQwtw5F"
      },
      "source": [
        "# 튜플\n",
        "tp = (10, 20, 30)\n",
        "\n",
        "# 인덱싱과 슬라이싱은 리스트와 동일\n",
        "print(f'tp[0] = {tp[0]}')\n",
        "print(f'tp[:2] = {tp[:2]}')\n",
        "\n",
        "# + 와 * 연산은 리스트와 동일\n",
        "tp = tp * 3\n",
        "print(f'tp * 3 = {tp}')\n",
        "\n",
        "# 각 요소에 변수 할당 가능\n",
        "tpx, tpy = (10, 20)\n",
        "print(f'tpx = {tpx}, tpy = {tpy}')\n",
        "\n",
        "# 요소 추가, 수정, 삭제 불가능 - 튜플의 특징\n",
        "# 한번 결정된 요소는 변경 불가능\n",
        "\n",
        "tp[0] = 100"
      ],
      "execution_count": null,
      "outputs": []
    },
    {
      "cell_type": "code",
      "metadata": {
        "colab": {
          "base_uri": "https://localhost:8080/"
        },
        "id": "s-l-vRtJcxxP",
        "outputId": "bb11b1e0-c02b-474a-b4f0-b0517c16861b"
      },
      "source": [
        "# tp\n",
        "tp = 0,\n",
        "tp"
      ],
      "execution_count": null,
      "outputs": [
        {
          "output_type": "execute_result",
          "data": {
            "text/plain": [
              "(0,)"
            ]
          },
          "metadata": {},
          "execution_count": 1
        }
      ]
    },
    {
      "cell_type": "code",
      "metadata": {
        "colab": {
          "base_uri": "https://localhost:8080/"
        },
        "id": "JzQR6bbyc4vb",
        "outputId": "74263247-db6d-4820-de1c-35c212b2d4ab"
      },
      "source": [
        "tp = (1,)\n",
        "tp"
      ],
      "execution_count": null,
      "outputs": [
        {
          "output_type": "execute_result",
          "data": {
            "text/plain": [
              "(1,)"
            ]
          },
          "metadata": {},
          "execution_count": 3
        }
      ]
    },
    {
      "cell_type": "markdown",
      "metadata": {
        "id": "GXYGHjvMtw5F"
      },
      "source": [
        "## You've been through a lot today, <br> It must have been tough, Have a rest"
      ]
    }
  ]
}

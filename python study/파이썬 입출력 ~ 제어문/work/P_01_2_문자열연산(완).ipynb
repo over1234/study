{
  "nbformat": 4,
  "nbformat_minor": 0,
  "metadata": {
    "colab": {
      "name": "P_01_2_문자열연산(완).ipynb",
      "private_outputs": true,
      "provenance": [],
      "collapsed_sections": [],
      "toc_visible": true,
      "include_colab_link": true
    },
    "kernelspec": {
      "name": "python3",
      "display_name": "Python 3"
    }
  },
  "cells": [
    {
      "cell_type": "markdown",
      "metadata": {
        "id": "view-in-github",
        "colab_type": "text"
      },
      "source": [
        "<a href=\"https://colab.research.google.com/github/teacher014/pyhonbasic/blob/main/P_01_2_%EB%AC%B8%EC%9E%90%EC%97%B4%EC%97%B0%EC%82%B0(%EC%99%84).ipynb\" target=\"_parent\"><img src=\"https://colab.research.google.com/assets/colab-badge.svg\" alt=\"Open In Colab\"/></a>"
      ]
    },
    {
      "cell_type": "markdown",
      "metadata": {
        "id": "NMhwu1dGSbe4"
      },
      "source": [
        "# print(  )함수 출력 연습 \n",
        "- 문자열 포맷팅(string formatting)\n",
        "1. % 서식 - `%d, %f, %s` % (100, 31.456, \"python\")\n",
        "2. format() - `{  }.format()`\n",
        "3. f string - `f\"{ } \"`\n",
        "\n"
      ]
    },
    {
      "cell_type": "code",
      "metadata": {
        "id": "Py-x_AGsS1_4"
      },
      "source": [
        "# % 서식\n",
        "\n",
        "# print(\"%d %5d %05d\" % (123, 123, 123))\n",
        "i = 123\n",
        "f = 123.456\n",
        "# 정수\n",
        "print(\"%d\" % i)\n",
        "print(\"%5d\" % i)\n",
        "print(\"%05d\" % i)\n",
        "\n",
        "# 실수\n",
        "print(\"%f\" % f)\n",
        "print(\"%7.1f\" % f)\n",
        "print(\"%7.3f\" % f)\n",
        "\n",
        "# 문자열\n",
        "print(\"%s\" % \"python\")\n",
        "print(\"%10s\" % \"python\")\n",
        "\n",
        "# 진수\n",
        "print(\"%d %o %x\" % (i, i, i))"
      ],
      "execution_count": null,
      "outputs": []
    },
    {
      "cell_type": "code",
      "metadata": {
        "id": "6T6UpuEOVFsY"
      },
      "source": [
        "# format()\n",
        "i = 123\n",
        "f = 123.456\n",
        "\n",
        "print(\"%d %5d %05d\" % (i, i, i))\n",
        "print(\"{0:d} {1:5d} {2:05d}\".format(i, i, i)) # 정수 \n",
        "print(\"{0:f} {1:.2f} {2:.4f}\".format(f, f, f)) # 실수 \n",
        "print(\"{0:f} {1:10.2f} {2:10.4f}\".format(f, f, f)) # 실수 \n",
        "print(\"{2:d} {1:d} {0:d}\".format(100, 200, 300))"
      ],
      "execution_count": null,
      "outputs": []
    },
    {
      "cell_type": "markdown",
      "metadata": {
        "id": "gao4fdnJW2kF"
      },
      "source": [
        "(연습문제) 다음을 각각의 포맷팅을 사용하여 출력하세요.<p>\n",
        "`당신의 나이는 17살, 인생시계는 05시 06분입니다. `"
      ]
    },
    {
      "cell_type": "code",
      "metadata": {
        "id": "679zCqZUXMtm"
      },
      "source": [
        "age = int(input(\"당신의 나이는? : \"))\n",
        "hour = (age*18) // 60\n",
        "min = (age*18) % 60\n",
        "\n",
        "# % 서식\n",
        "print(\"당신의 나이는 %d살, 인생시계는 %02d시 %02d분입니다\" % (age, hour, min))\n",
        "# format()\n",
        "print(\"당신의 나이는 {:d}살, 인생시계는 {:02d}시 {:02d}분입니다\".format(age, hour, min))\n",
        "# f string\n",
        "print(f\"당신의 나이는 {age:d}살, 인생시계는 {hour:02d}시 {min:02d}분입니다.\")"
      ],
      "execution_count": null,
      "outputs": []
    },
    {
      "cell_type": "markdown",
      "metadata": {
        "id": "MSzdaj5uplFR"
      },
      "source": [
        "quiz<br>\n",
        "문자열 2개를 입력받고, 다음과 같이 바꾸어서 출력하려면?\n",
        "\n",
        "```\n",
        "문자열1 : 맥모닝\n",
        "문자열2 : 세트\n",
        "----------------\n",
        "맥모닝 세트\n",
        "세트 멕모닝\n",
        "```\n",
        "swap() 변수교체!\n",
        "```\n",
        "a = input()\n",
        "b = input()\n",
        "print(a, b)\n",
        "\n",
        "1.  ___________\n",
        "2.  ___________\n",
        "3.  ___________\n",
        "\n",
        "print(a, b)\n",
        "```"
      ]
    },
    {
      "cell_type": "code",
      "metadata": {
        "id": "7olT104YFbPt"
      },
      "source": [
        "# 1. print() 함수 활용\n",
        "a = input('1:')\n",
        "b = input('2:')\n",
        "print(a, b)\n",
        "print(b, a)"
      ],
      "execution_count": null,
      "outputs": []
    },
    {
      "cell_type": "code",
      "metadata": {
        "id": "6iFFtZCi4jDJ"
      },
      "source": [
        "# 2. swap() 변수 교체\n",
        "a = input('1:')\n",
        "b = input('2:')\n",
        "print(a, b)\n",
        "'''\n",
        "temp = a\n",
        "a = b\n",
        "b = temp\n",
        "'''\n",
        "a,b = b,a\n",
        "print(a,b)"
      ],
      "execution_count": null,
      "outputs": []
    },
    {
      "cell_type": "markdown",
      "metadata": {
        "id": "WC3IQDqoE0Ys"
      },
      "source": [
        "# 데이터 타입(data type) = 자료형\n",
        "\n",
        "데이터를 식별하는 분류, 데이터가 가질 수 있는 값을 결정하고 연산을 제어함\n",
        "\n",
        "* int : 정수 \n",
        "* float : 실수\n",
        "* bool : True 혹은 False\n",
        "* str : 단일인용부호(') or 이중인용부호 (\") 사용하여 표현하는 문자, 단어 등으로 구성된 문자들의 집합\n",
        "\n",
        "**type(변수명) : 변수의 타입 확인**"
      ]
    },
    {
      "cell_type": "code",
      "metadata": {
        "id": "SXdkDy8HFu8J"
      },
      "source": [
        "#정수형\n",
        "x = 10\n",
        "type(x)"
      ],
      "execution_count": null,
      "outputs": []
    },
    {
      "cell_type": "code",
      "metadata": {
        "id": "l3hcnM-SF5Xy"
      },
      "source": [
        "#실수형\n",
        "x = 10.5\n",
        "type(x)"
      ],
      "execution_count": null,
      "outputs": []
    },
    {
      "cell_type": "code",
      "metadata": {
        "id": "kjYpFwo_F_6s"
      },
      "source": [
        "#부울형\n",
        "x = True\n",
        "type(x)"
      ],
      "execution_count": null,
      "outputs": []
    },
    {
      "cell_type": "code",
      "metadata": {
        "id": "3grUUXqoGDnk"
      },
      "source": [
        "#문자형\n",
        "x = 'python'\n",
        "print(type(x))"
      ],
      "execution_count": null,
      "outputs": []
    },
    {
      "cell_type": "markdown",
      "metadata": {
        "id": "Ne36LtwJLHCi"
      },
      "source": [
        "#연산자\n",
        "자료를 처리하기 위한 수식들을 결합하여 연산 동작을 수행하도록 하는 기호\n",
        "+ **산술연산자**\n",
        " - 수학적 계산을 수행할 때 사용하는 연산자\n",
        " - 사칙연산자(+, -, *, /), 제곱(**), 나머지(%), 나누기 결과 정수(//)\n",
        "+ **비교연산자(관계연산자)**\n",
        " - 비교할 때 사용하는 연산자\n",
        " - 등호(==), 같지 않음(!=), 부등호(<, >, <=, >=)\n",
        "+ **논리연산자**\n",
        " - 주어진 논리식을 판단하여, 참(true)과 거짓(false)을 결정하는 연산자\n",
        " - and(논리곱), or(논리합), not \n",
        "+ **할당연산자**\n",
        " - 변수에 값을 할당하기 위하여 사용하는 연산자\n",
        " - = (Equal Sign)\n",
        " - +=, -=, *=, /=, %=, //= : 산술연산자와 함께 사용되어 할당을 보다 간결히 하기 위해 사용"
      ]
    },
    {
      "cell_type": "code",
      "metadata": {
        "id": "_WgGeSxhGIeZ"
      },
      "source": [
        "#할당 연산자\n",
        "x = 10\n",
        "y = 2.5\n",
        "\n",
        "#산술\n",
        "print(f'{x} + {y} = {x + y}')\n",
        "\n",
        "#산술+할당\n",
        "x = x + 10\n",
        "x += 10\n",
        "print(f'{x}')\n",
        "\n",
        "#비교\n",
        "print(f'{x} > {y} = {x > y}')\n",
        "\n",
        "#논리\n",
        "print(f'{x} > 5 or {y} > 5 = { x > 5 or y > 5 }')"
      ],
      "execution_count": null,
      "outputs": []
    },
    {
      "cell_type": "code",
      "metadata": {
        "id": "nT65VcOHAk8w"
      },
      "source": [
        "# 몫과 나머지를 한꺼번에 구하려면?\n",
        "divmod(5,2)"
      ],
      "execution_count": null,
      "outputs": []
    },
    {
      "cell_type": "markdown",
      "metadata": {
        "id": "KLBaWD6ODb31"
      },
      "source": [
        "> 객체가 서로 다른지 비교하기\n",
        "- is와 is not <br>\n",
        "  ==, != : 값 자체를 비교, is, is not :객체(object)를 비교\n",
        "```\n",
        ">>> 1 == 1.0\n",
        "True\n",
        ">>> 1 is 1.0\n",
        "False\n",
        ">>> 1 is not 1.0\n",
        "True\n",
        "```"
      ]
    },
    {
      "cell_type": "markdown",
      "metadata": {
        "id": "mDlRugQJD8vi"
      },
      "source": [
        "참고 | 정수 객체와 실수 객체 확인하기<br>\n",
        "id( ) 함수 : id는 객체의 고유한 값(메모리 주소)을 반환<br>\n",
        "이 값은 파이썬을 실행하는 동안에는 계속 유지되며 다시 실행하면 달라짐\n",
        "\n",
        "\n",
        "```\n",
        ">>> id(1)\n",
        "2148188711216\n",
        ">>> id(1.0)\n",
        "2148227394928\n",
        "```"
      ]
    },
    {
      "cell_type": "code",
      "metadata": {
        "id": "alGMkvLAD_f8"
      },
      "source": [
        "id(1)"
      ],
      "execution_count": null,
      "outputs": []
    },
    {
      "cell_type": "code",
      "metadata": {
        "id": "ppdzHZFNEg2I"
      },
      "source": [
        "id(2)"
      ],
      "execution_count": null,
      "outputs": []
    },
    {
      "cell_type": "markdown",
      "metadata": {
        "id": "SU2d1xcRo1sT"
      },
      "source": [
        "(실습) 동전교환프로그램\n",
        "\n",
        "할당연산자를 활용하여 동전교환 프로그램 구현\n",
        "\n",
        "```\n",
        "교환할 돈은 얼마입니까? 7777\n",
        "-----------------------------\n",
        "500원 : 15개\n",
        "100원 : 2개\n",
        "50원 : 1개\n",
        "10원 : 2개\n",
        "1원 : 7개\n",
        "```\n",
        "\n",
        "```\n",
        "c500 = money // 500\n",
        "money %= 500\n",
        "```\n",
        "\n",
        "\n",
        "\n"
      ]
    },
    {
      "cell_type": "code",
      "metadata": {
        "id": "vQur-GTRo1Nv"
      },
      "source": [
        "money = int(input('얼마를 교환할까요? : '))\n",
        "c500 = money // 500\n",
        "money %= 500\n",
        "c100 = money // 100\n",
        "money %= 100\n",
        "c50 = money // 50\n",
        "money %= 50\n",
        "c10 = money // 10\n",
        "c1 = money % 10\n",
        "\n",
        "print(f'\\n500원 : {c500}개')\n",
        "print(f'100원 : {c100}개')\n",
        "print(f'50원 : {c50}개')\n",
        "print(f'10원 : {c10}개')\n",
        "print(f'1원 : {c1}개')"
      ],
      "execution_count": null,
      "outputs": []
    },
    {
      "cell_type": "markdown",
      "metadata": {
        "id": "aWOSokzpHRDr"
      },
      "source": [
        "# 문자열 연산\n",
        "\n",
        "* 문자열 더하기 +\n",
        "* 문자열 곱하기 *\n",
        "* 문자열 인덱싱\n",
        "  - 문자열 각 문자는 0부터 시작되는 인덱스를 가짐\n",
        "  - [인덱스] 이용 인덱스 위치까지 문자 추출 : 처음[0], 마지막[-1]\n",
        "* **문자열 슬라이싱**\n",
        "  - [인덱스1:인덱스2] : 인덱스 1에서 인덱스2 -1 까지\n",
        "  - [인덱스1:] : 인덱스1 부터 끝까지\n",
        "  - [:인덱스2] : 처음부터 인덱스2 **- 1** 까지"
      ]
    },
    {
      "cell_type": "code",
      "metadata": {
        "id": "WEPaskfoH5GA"
      },
      "source": [
        "# 문자열 더하기\n",
        "x = \"Hello \"\n",
        "y = \"python!\"\n",
        "\n",
        "z = x + y\n",
        "print(z)\n",
        "\n",
        "#문자열 곱하기\n",
        "print('='*50)\n",
        "\n",
        "#문자열 인덱싱\n",
        "print(f'{z}의 두번째 문자 : {z[1]}')\n",
        "\n",
        "#문자열 슬라이싱\n",
        "print(f'z[1:3] : {z[1:3]}') # index 1,2 위치  문자 반환 \n",
        "print(f'z[1:] : {z[1:]}') # index 2 위치부터\n",
        "print(f'z[:3] : {z[:3]}') # index 0,1,2 위치까지 문자 반환"
      ],
      "execution_count": null,
      "outputs": []
    },
    {
      "cell_type": "markdown",
      "metadata": {
        "id": "SNngaq1VK2KS"
      },
      "source": [
        "# 문자열 함수\n",
        "\n",
        "* **len()** : 문자열 길이\n",
        "* **count()** : 문자의 개수\n",
        "* **find()** : 문자가 처음 나오는 위치 반환, 없으면 -1\n",
        "* **index()** : 문자가 처음 나오는 위치 반환, 없으면 error\n",
        "* **join()** : 문자열 사이 문자 삽입, 삽입문자.join(문자열)\n",
        "* **upper()** : 소문자 - 대문자 변환\n",
        "* **lower()** : 대문자 - 소문자 변환\n",
        "* **replace()** : 문자열 바꾸기\n",
        "* **replace(원본, 변환문자)**\n",
        "* **split()** : 문자열 나누기\n",
        "  - 인수가 없을 때 공백(스페이스, 탭, 엔터 등)을 기준"
      ]
    },
    {
      "cell_type": "markdown",
      "metadata": {
        "id": "6MfRk28CBBC6"
      },
      "source": [
        "```\n",
        "(백문이 불여일타) 주석을 제외하고 입력하여 결과를 확인해봅시다!\n",
        "#문자열 함수\n",
        "x = 'Hello Python!'\n",
        "\n",
        "#len() : 문자열 길이\n",
        "len(x)\n",
        "print(f'len(x) : {len(x)}')\n",
        "\n",
        "#count() : 문자 갯수\n",
        "x.count(\"o\") # x.count('o') ''도 가능\n",
        "print(f'x.count(\"o\") : {x.count(\"o\")}') # f스트링 '' 사용시 내용에는 \"\" 사용\n",
        "\n",
        "#find() : 문자 첫 위치 반환\n",
        "x.find(\"H\")\n",
        "print(f'x.find(\"H\") : {x.find(\"H\")}')\n",
        "\n",
        "#index() : 문자열 첫 위치 반환\n",
        "x.index(\"Python\")\n",
        "print(f'x.index(\"Python\") : {x.index(\"Python\")}')\n",
        "\n",
        "#join() : 문자열 사이 문자 삽입\n",
        "z = '-'.join(x)\n",
        "print(z)\n",
        "\n",
        "#upper() : 소문자를 대문자로\n",
        "x.upper()\n",
        "print(f'x.upper() : {x.upper()}')\n",
        "\n",
        "#lower() : 대문자를 소문자로\n",
        "x.lower()\n",
        "print(f'x.lower() : {x.lower()}')\n",
        "\n",
        "#replace() : 문자열 바꾸기\n",
        "x.replace(\"P\",\"★\")\n",
        "print(f'x.replace(\"P\",\"★\") : {x.replace(\"P\",\"★\")}')\n",
        "\n",
        "#split() : 문자열 나누기\n",
        "z.split(\"-\")\n",
        "print(f'z.split(\"-\") : {z.split(\"-\")}')\n",
        "```\n",
        "\n"
      ]
    },
    {
      "cell_type": "code",
      "metadata": {
        "id": "XNUa50LLI8Nj"
      },
      "source": [
        "#문자열 함수\n",
        "x = 'Hello Python!'\n",
        "\n",
        "#len() : 문자열 길이\n",
        "len(x)\n",
        "print(f'len(x) : {len(x)}')\n",
        "\n",
        "#count() : 문자 갯수\n",
        "x.count(\"o\") # x.count('o') ''도 가능\n",
        "print(f'x.count(\"o\") : {x.count(\"o\")}') # f스트링 '' 사용시 내용에는 \"\" 사용\n",
        "\n",
        "#find() : 문자 첫 위치 반환\n",
        "x.find(\"H\")\n",
        "print(f'x.find(\"H\") : {x.find(\"H\")}')\n",
        "\n",
        "#index() : 문자열 첫 위치 반환\n",
        "x.index(\"Python\")\n",
        "print(f'x.index(\"Python\") : {x.index(\"Python\")}')\n",
        "\n",
        "#join() : 문자열 사이 문자 삽입\n",
        "z = '-'.join(x)\n",
        "print(z)\n",
        "\n",
        "#upper() : 소문자를 대문자로\n",
        "x.upper()\n",
        "print(f'x.upper() : {x.upper()}')\n",
        "\n",
        "#lower() : 대문자를 소문자로\n",
        "x.lower()\n",
        "print(f'x.lower() : {x.lower()}')\n",
        "\n",
        "#replace() : 문자열 바꾸기\n",
        "x.replace(\"P\",\"★\")\n",
        "print(f'x.replace(\"P\",\"★\") : {x.replace(\"P\",\"★\")}')\n",
        "\n",
        "#split() : 문자열 나누기\n",
        "z.split(\"-\")\n",
        "print(f'z.split(\"-\") : {z.split(\"-\")}')"
      ],
      "execution_count": null,
      "outputs": []
    },
    {
      "cell_type": "markdown",
      "metadata": {
        "id": "ivDcDe418KFA"
      },
      "source": [
        "(연습문제) 파일 경로에서 파일명만 가져오기\n",
        "\n",
        "```\n",
        "path = 'C:/Users/Jill/AppData/Local/Programs/Python/Python39/python.exe'\n",
        "                               \n",
        "...\n",
        "\n",
        "print(filename)\n",
        "```\n",
        "```\n",
        "실행결과\n",
        "python.exe\n"
      ]
    },
    {
      "cell_type": "markdown",
      "metadata": {
        "id": "7yc47OccCYqv"
      },
      "source": [
        "(실습) 다음 프로그램의 (가), (나)에 알맞은 값을 넣어 프로그램을 완성하시오\n",
        "\n",
        "\n",
        "```\n",
        "path = 'C:/Users/Jill/AppData/Local/Programs/Python/Python39/python.exe'\n",
        "# 1. split()\n",
        "x = path.split('/')\n",
        "print(x)\n",
        "filename = (가)\n",
        "print(filename)\n",
        "\n",
        "#2. reverse()\n",
        "x = path.split('/')\n",
        "x.reverse()\n",
        "filename = (나)\n",
        "print(filename)\n",
        "```\n",
        "\n"
      ]
    },
    {
      "cell_type": "code",
      "metadata": {
        "id": "j6MglNFM9L7m"
      },
      "source": [
        "path = 'C:/Users/AppData/Local/Programs/Python/Python39/python.exe'\n",
        "# 1. split()\n",
        "x = path.split('/')\n",
        "print(x)\n",
        "filename = x[7] #x[8]\n",
        "print(filename)\n",
        "\n",
        "#2. reverse()\n",
        "x = path.split('/')\n",
        "x.reverse()\n",
        "print(x)\n",
        "filename = x[0]\n",
        "print(filename)"
      ],
      "execution_count": null,
      "outputs": []
    },
    {
      "cell_type": "markdown",
      "metadata": {
        "id": "kuJNVscpvmjU"
      },
      "source": [
        "(따라하기) 문자열 뒤집기<br>\n",
        "*  reverse 는 list 에만 사용 가능.\n",
        "*  reversed는 reverse 와는 달리 문자열에도 바로 적용이 가능.<br>\n",
        "*  reversed(text) 를 통해 문자열을 거꾸로 뒤집은 후 join으로 연결해 바로 출력"
      ]
    },
    {
      "cell_type": "code",
      "metadata": {
        "id": "7IvMooC2vQpp"
      },
      "source": [
        "text= \"abcde\"\n",
        "text_list = list(text)\n",
        "text_list.reverse() # reverse 함수를 사용해 문자열 리스트를 거꾸로 뒤집음\n",
        "\n",
        "print(''.join(text_list))"
      ],
      "execution_count": null,
      "outputs": []
    },
    {
      "cell_type": "code",
      "metadata": {
        "id": "ZmCDJoK7vT3U"
      },
      "source": [
        "s = 'abcde'\n",
        "print(reversed(s)) # <reversed object at 0x102015650>\n",
        "print(''.join(reversed(s)))  # 'edcba'"
      ],
      "execution_count": null,
      "outputs": []
    },
    {
      "cell_type": "code",
      "metadata": {
        "id": "sd5LdEiNvjZe"
      },
      "source": [
        "text = \"abcde\"\n",
        "print(text[::-1]) # \"edcba\"\n",
        "\n",
        "l = ['a', 'b', 'c', 'd', 'e']\n",
        "print(l[::-1])  # ['e', 'd', 'c', 'b', 'a']\n",
        "\n",
        "t = ('a', 'b', 'c', 'd', 'e')\n",
        "print(t[::-1])  # ('e', 'd', 'c', 'b', 'a')"
      ],
      "execution_count": null,
      "outputs": []
    },
    {
      "cell_type": "code",
      "metadata": {
        "id": "C_Vc9twLu01S"
      },
      "source": [
        "text = 'hello' + 'python'\n",
        "x=text[1::2]\n",
        "y=text[::2]\n",
        "z=x+y"
      ],
      "execution_count": null,
      "outputs": []
    },
    {
      "cell_type": "markdown",
      "metadata": {
        "id": "l7TRJOkzJwIM"
      },
      "source": [
        "(연습)"
      ]
    },
    {
      "cell_type": "code",
      "metadata": {
        "id": "7F4t9lPS_MMN"
      },
      "source": [
        "#!/usr/bin/python\n",
        "# -*- coding: cp949 -*-\n",
        "\n",
        "import os\n",
        "\n",
        "\n",
        "s = os.path.split(\"/My Jukebox/Cool Jazz.mp3\")\n",
        "\n",
        "# 디렉토리명 구하기\n",
        "print s[0]  # /My Jukebox\n",
        "\n",
        "# 패스에서 파일명만 구하기\n",
        "print s[1]  # Cool Jazz.mp3\n",
        "\n",
        "# 확장자만 구하기\n",
        "s = os.path.splitext(\"/My Jukebox/Cool Jazz.mp3\")\n",
        "print s[1]  # .mp3\n",
        "\n",
        "\n",
        "\n",
        "\n",
        "# 이번에는, 드라이브명까지 포함된 Windows 전용 패스를 취급\n",
        "s = os.path.splitdrive(\"D:/My Jukebox/Cool Jazz.mp3\")\n",
        "\n",
        "# 드라이브 이름 (MS윈도우의 경우)\n",
        "print s[0]  # D:\n",
        "\n",
        "# 드라이브명이 제거된 패스 구하기\n",
        "print s[1]  # /My Jukebox/Cool Jazz.mp3"
      ],
      "execution_count": null,
      "outputs": []
    },
    {
      "cell_type": "markdown",
      "metadata": {
        "id": "OvWvkB58thkm"
      },
      "source": [
        "예제문제\n",
        "\n",
        "코로나(corona)는 라틴말로 왕관을 뜻하며 통상 태양을 둘러싼 외곽의 빛(광환)을 지칭한다. 코로나바이러스라는 이름은 전자현미경으로 이 바이러스를 관찰했을 때 마치 코로나와 유사한 모양을 띠어 붙여진 이름이다. 이번에 중국의 우환에서 시작된 코로나바이러스는 2019년에 발견된 새로운 코로나바이러스라는 뜻으로 2019-nCoV로 붙여졌다. nCoV는 novel(새로운) CoV(코로나바이러스)라는 뜻이다.\n",
        "\n",
        "* 몇 개의 문장으로 구성 되어 있는지 예시와 같이 출력하시오.\n",
        "* 찾고자 하는 단어를 입력 받아서 해당 단어가 몇 번 언급되었는지 확인해 보세요.\n",
        "\n",
        "예시) \n",
        "1. (  ) 개의 문장으로 이루어짐(문장 분리해서 출력)\n",
        "2. 찾으려는 단어는? - '*해당단어*' : (   ) 번 언급됨\n"
      ]
    },
    {
      "cell_type": "code",
      "metadata": {
        "id": "gjExZvm9uQX1"
      },
      "source": [
        "corona = '''\n",
        "코로나(corona)는 라틴말로 왕관을 뜻하며 통상 태양을 둘러싼 외곽의 빛(광환)을 지칭한다. \n",
        "코로나 바이러스라는 이름은 전자현미경으로 이 바이러스를 관찰했을 때 마치 코로나와 유사한 모양을 띠어 붙여진 이름이다. \n",
        "이번에 중국의 우환에서 시작된 코로나 바이러스는 2019년에 발견된 새로운 코로나 바이러스라는 뜻으로 2019-nCoV로 붙여졌다. \n",
        "nCoV는 novel(새로운) CoV(코로나 바이러스)라는 뜻이다.\n",
        "'''\n",
        "\n",
        "print()\n",
        "print('-'*50)\n",
        "sentence = corona.count('.')\n",
        "print(f'{sentence} 개의 문장으로 이루어짐')\n",
        "print(corona.replace('\\n',''))#.split('.')\n",
        "print('-'*50)\n",
        "s=corona.replace('\\n','')\n",
        "s1=corona.replace('\\n','').split('.')\n",
        "print(type(s), type(s1))\n",
        "\n",
        "\n",
        "str = input('찾으려는 단어는? ')\n",
        "cnt = corona.count(str)\n",
        "print(f\"'{str}'(은/는) {cnt} 번 언급됨\")"
      ],
      "execution_count": null,
      "outputs": []
    },
    {
      "cell_type": "markdown",
      "metadata": {
        "id": "stXnDmvdw6k4"
      },
      "source": [
        "(해결문제) 아무노래(지코)에 '아무 노래'는 몇 번 나오는가?"
      ]
    },
    {
      "cell_type": "markdown",
      "metadata": {
        "id": "dzZwokXXyG6L"
      },
      "source": [
        "왜들 그리 다운돼있어? 뭐가 문제야 say something\n",
        "분위기가 겁나 싸해 요새는 이런 게 유행인가\n",
        "왜들 그리 재미없어? 아 그건 나도 마찬가지\n",
        "Tell me what I got to do 급한 대로 블루투스 켜\n",
        "아무 노래나 일단 틀어 아무거나 신나는 걸로\n",
        "아무렇게나 춤춰 아무렇지 않아 보이게\n",
        "아무 생각 하기 싫어 아무개로 살래 잠시\n",
        "I'm sick and tired of my every day, keep it up 한 곡 더\n",
        "아무 노래나 일단 틀어 아무렴 어때 it's so boring\n",
        "아무래도 refresh가 시급한 듯해 쌓여가 스트레스가\n",
        "배꼽 빠질 만큼만 폭소하고 싶은 날이야\n",
        "What up my dawgs? 어디야 너희 올 때 병맥주랑 까까 몇 개 사 와 uh\n",
        "클럽은 구미가 잘 안 당겨 우리 집 거실로 빨랑 모여\n",
        "외부인은 요령껏 차단 시켜 밤새 수다 떨 시간도 모자라\n",
        "누군 힘들어 죽겠고 누군 축제 괜히 싱숭생숭 I want my youth back\n",
        "좀 전까지 왁자지껄 하다 한 명 두 명씩 자릴 떠\n",
        "왜들 그리 다운돼있어? 뭐가 문제야 say something\n",
        "분위기가 겁나 싸해 요새는 이런 게 유행인가\n",
        "왜들 그리 재미없어? 아 그건 나도 마찬가지\n",
        "Tell me what I got to do 급한 대로 블루투스 켜\n",
        "아무 노래나 일단 틀어 아무거나 신나는 걸로\n",
        "아무렇게나 춤춰 아무렇지 않아 보이게\n",
        "아무 생각 하기 싫어 아무개로 살래 잠시\n",
        "I'm sick and tired of my every day, keep it up 한 곡 더\n",
        "떠나질 못할 바엔\n",
        "창밖은 쳐다도 안 봐\n",
        "회까닥해서 추태를 부려도\n",
        "No worries at all 이미지 왜 챙겨 그래 봤자 우리끼린데\n",
        "Ooh 늦기 전에 막판 스퍼트 20대가 얼마 안 남았어\n",
        "편한 옷으로 갈아입어 you look nice, get 'em high\n",
        "얼핏 보면 그냥 코미디 이렇게 무해한 파티 처음이지?\n",
        "만감이 교차하는 새벽 2시경 술잔과 감정이 소용돌이쳐\n",
        "왜들 그리 다운돼있어? 뭐가 문제야 say something\n",
        "분위기가 겁나 싸해 요새는 이런 게 유행인가\n",
        "왜들 그리 재미없어? 아 그건 나도 마찬가지\n",
        "Tell me what I got to do 급한 대로 블루투스 켜\n",
        "아무 노래나 일단 틀어 아무거나 신나는 걸로\n",
        "아무렇게나 춤춰 아무렇지 않아 보이게\n",
        "아무 생각 하기 싫어 아무개로 살래 잠시\n",
        "I'm sick and tired of my every day, keep it up 한 곡 더\n",
        "아무 노래나 일단\n",
        "La-la-la, la-la-la, la-la-la-la\n",
        "La-la-la, la-la-la, la-la-la-la (You ain't gonna get a day like this)\n",
        "아무 노래 아무 노래 아무 노래나 틀어봐\n",
        "아무 노래 아무 노래 아무 노래나 틀어봐 (Yeah)\n",
        "아무 노래 (ooh) 아무 노래 아무 노래나 틀어봐\n",
        "아무 노래 아무 노래 아무 노래나 KOZ"
      ]
    },
    {
      "cell_type": "code",
      "metadata": {
        "id": "F-eC9_5bw6Ta"
      },
      "source": [
        "anysong = '''왜들 그리 다운돼있어? 뭐가 문제야 say something\n",
        "분위기가 겁나 싸해 요새는 이런 게 유행인가\n",
        "왜들 그리 재미없어? 아 그건 나도 마찬가지\n",
        "Tell me what I got to do 급한 대로 블루투스 켜\n",
        "아무 노래나 일단 틀어 아무거나 신나는 걸로\n",
        "아무렇게나 춤춰 아무렇지 않아 보이게\n",
        "아무 생각 하기 싫어 아무개로 살래 잠시\n",
        "I'm sick and tired of my every day, keep it up 한 곡 더\n",
        "아무 노래나 일단 틀어 아무렴 어때 it's so boring\n",
        "아무래도 refresh가 시급한 듯해 쌓여가 스트레스가\n",
        "배꼽 빠질 만큼만 폭소하고 싶은 날이야\n",
        "What up my dawgs? 어디야 너희 올 때 병맥주랑 까까 몇 개 사 와 uh\n",
        "클럽은 구미가 잘 안 당겨 우리 집 거실로 빨랑 모여\n",
        "외부인은 요령껏 차단 시켜 밤새 수다 떨 시간도 모자라\n",
        "누군 힘들어 죽겠고 누군 축제 괜히 싱숭생숭 I want my youth back\n",
        "좀 전까지 왁자지껄 하다 한 명 두 명씩 자릴 떠\n",
        "왜들 그리 다운돼있어? 뭐가 문제야 say something\n",
        "분위기가 겁나 싸해 요새는 이런 게 유행인가\n",
        "왜들 그리 재미없어? 아 그건 나도 마찬가지\n",
        "Tell me what I got to do 급한 대로 블루투스 켜\n",
        "아무 노래나 일단 틀어 아무거나 신나는 걸로\n",
        "아무렇게나 춤춰 아무렇지 않아 보이게\n",
        "아무 생각 하기 싫어 아무개로 살래 잠시\n",
        "I'm sick and tired of my every day, keep it up 한 곡 더\n",
        "떠나질 못할 바엔\n",
        "창밖은 쳐다도 안 봐\n",
        "회까닥해서 추태를 부려도\n",
        "No worries at all 이미지 왜 챙겨 그래 봤자 우리끼린데\n",
        "Ooh 늦기 전에 막판 스퍼트 20대가 얼마 안 남았어\n",
        "편한 옷으로 갈아입어 you look nice, get 'em high\n",
        "얼핏 보면 그냥 코미디 이렇게 무해한 파티 처음이지?\n",
        "만감이 교차하는 새벽 2시경 술잔과 감정이 소용돌이쳐\n",
        "왜들 그리 다운돼있어? 뭐가 문제야 say something\n",
        "분위기가 겁나 싸해 요새는 이런 게 유행인가\n",
        "왜들 그리 재미없어? 아 그건 나도 마찬가지\n",
        "Tell me what I got to do 급한 대로 블루투스 켜\n",
        "아무 노래나 일단 틀어 아무거나 신나는 걸로\n",
        "아무렇게나 춤춰 아무렇지 않아 보이게\n",
        "아무 생각 하기 싫어 아무개로 살래 잠시\n",
        "I'm sick and tired of my every day, keep it up 한 곡 더\n",
        "아무 노래나 일단\n",
        "La-la-la, la-la-la, la-la-la-la\n",
        "La-la-la, la-la-la, la-la-la-la (You ain't gonna get a day like this)\n",
        "아무 노래 아무 노래 아무 노래나 틀어봐\n",
        "아무 노래 아무 노래 아무 노래나 틀어봐 (Yeah)\n",
        "아무 노래 (ooh) 아무 노래 아무 노래나 틀어봐\n",
        "아무 노래 아무 노래 아무 노래나 KOZ\n",
        "'''\n",
        "song = anysong.count('\\n')\n",
        "print(f'{song} 개의 문장으로 이루어짐')\n",
        "\n",
        "print(anysong.split('\\n'))\n",
        "print('-'*50)\n",
        "\n",
        "str = input('찾으려는 단어는? ')\n",
        "cnt = anysong.count(str)\n",
        "print(f\"'{str}'(은/는) {cnt} 번 언급됨\")"
      ],
      "execution_count": null,
      "outputs": []
    },
    {
      "cell_type": "markdown",
      "metadata": {
        "id": "9R7TYU0rKGDg"
      },
      "source": [
        "(해결문제) 진법변환\n",
        "\n",
        "진수와 값을 입력받고 각각의 진법으로 변환하여 출력하는 프로그램을 작성하시오. <br>\n",
        "\n",
        "* 비교 연산자 : != 같지 않다 \n",
        "* 관계 연산자 : and 여러조건이 동시에 참이어야 하는 경우\n",
        "* hex(숫자), oct(숫자), bin(숫자) 함수 활용 : ( )안 숫자를 각각의 진수로 출력<p>\n",
        "\n",
        "```\n",
        "진수(16,10,8,2) : 16\n",
        "입력 : ff\n",
        "--------------------------------\n",
        "Hex : 0xff\n",
        "dec : 255\n",
        "oct : 0o377\n",
        "bin : 0b11111111 \n",
        "```"
      ]
    },
    {
      "cell_type": "code",
      "metadata": {
        "id": "lxAy3o56KQ8t"
      },
      "source": [
        "#num = input('입력:')\n",
        "num10 = int('ff', 16)\n",
        "num10"
      ],
      "execution_count": null,
      "outputs": []
    },
    {
      "cell_type": "markdown",
      "metadata": {
        "id": "BAIzCmBZX3xQ"
      },
      "source": [
        "(해결문제) \n",
        "\n",
        "---\n",
        "\n",
        "[기본] 진수와 값을 입력받고 각각의 진법으로 변환하여 출력하는 프로그램을 작성하시오. \n",
        "[심화] 위 프로그램은 16, 10, 8, 2 이외의 숫자를 입력하면 오류가 발생한다. 16, 10, 8, 2의 숫자를 입력하면 '16, 10, 8, 2 숫자 중 하나만 입력하세요!\" 라는 메시지를 출력하고, 프로그램을 종료하도록 if문을 추가하여 수정하시오.<p>\n",
        "\n",
        "* 비교 연산자 : != 같지 않다 \n",
        "* 관계 연산자 : and 여러조건이 동시에 참이어야 하는 경우\n",
        "* hex(숫자), oct(숫자), bin(숫자) 함수 활용 : ( )안 숫자를 각각의 진수로 출력<p>\n",
        "\n",
        "```\n",
        "진수(16,10,8,2) : 16\n",
        "입력 : ff\n",
        "--------------------------------\n",
        "Hex : 0xff\n",
        "dec : 255\n",
        "oct : 0o377\n",
        "bin : 0b11111111 \n",
        "```"
      ]
    },
    {
      "cell_type": "code",
      "metadata": {
        "id": "phr8oShfd9CV"
      },
      "source": [
        "#num = input('입력:')\n",
        "num10 = int('ff', 16)\n",
        "num10"
      ],
      "execution_count": null,
      "outputs": []
    },
    {
      "cell_type": "code",
      "metadata": {
        "id": "RaJBxQf-ddlu"
      },
      "source": [
        "#notation.py\n",
        "sel = int(input(\"진수(16,10,8,2) : \"))\n",
        "num = input(\"입력 : \")\n",
        "\n",
        "if sel == 16:\n",
        "  num10 = int(num, 16)\n",
        "if sel == 10:\n",
        "  num10 = int(num, 10)\n",
        "if sel == 8:\n",
        "  num10 = int(num, 8)\n",
        "if sel == 2:\n",
        "  num10 = int(num, 2)    \n",
        "\n",
        "print(\"hex : \", hex(num10))\n",
        "print(\"dec : \", num10)\n",
        "print(\"oct : \", oct(num10))\n",
        "print(\"bin : \", bin(num10))"
      ],
      "execution_count": null,
      "outputs": []
    },
    {
      "cell_type": "code",
      "metadata": {
        "id": "cvUWmBBWgIrL"
      },
      "source": [
        "#notation.py\n",
        "sel = int(input(\"진수(16,10,8,2) : \"))\n",
        "if (sel !=16 and sel !=10 and sel !=8 and sel!=2):\n",
        "  print(\"16, 10, 8, 2 숫자 중 하나를 입력해주세요\")\n",
        "  exit()\n",
        "\n",
        "num = input(\"입력 : \")\n",
        "\n",
        "if sel == 16:\n",
        "  num10 = int(num, 16)\n",
        "elif sel == 10:\n",
        "  num10 = int(num, 10)\n",
        "elif sel == 8:\n",
        "  num10 = int(num, 8)\n",
        "elif sel == 2:\n",
        "  num10 = int(num, 2)  \n",
        "\n",
        "print(\"hex : \", hex(num10))\n",
        "print(\"dec : \", num10)\n",
        "print(\"oct : \", oct(num10))\n",
        "print(\"bin : \", bin(num10))"
      ],
      "execution_count": null,
      "outputs": []
    },
    {
      "cell_type": "markdown",
      "metadata": {
        "id": "09VsraA3oDIL"
      },
      "source": [
        "(해결문제)윤년계산하기<br>\n",
        "입력된 연도가 윤년인지 아닌지 알려주는 프로그램을 작성하시오.\n",
        "\n",
        "* 4로 나누어 떨어지고, 100으로 나누어 떨어지지 않으면 윤년\n",
        "* 400으로 나누어 떨어지면 윤년\n",
        "\n",
        "```\n",
        "연도를 입력하세요 : 2021\n",
        "2021년은 윤년이 아니지 말입니다.\n",
        "```\n",
        "\n",
        "\n"
      ]
    },
    {
      "cell_type": "code",
      "metadata": {
        "id": "CXZKSsJleeSb"
      },
      "source": [
        "#전역변수\n",
        "year = 0\n",
        "\n",
        "#main\n",
        "if __name__ == \"__main__\":\n",
        "  year = int(input(\"연도를 입력하세요 : \"))\n",
        "\n",
        "  if ((year % 4 ==0) and (year % 100 != 0)) or(year % 400 == 0):\n",
        "    print(f'{year}년은 윤년입니다' )\n",
        "  else:\n",
        "    print(f'{year}년은 윤년이 아니지 말입니다')"
      ],
      "execution_count": null,
      "outputs": []
    },
    {
      "cell_type": "markdown",
      "metadata": {
        "id": "iF3WlYidrRd9"
      },
      "source": [
        "(심화문제)\n",
        "파이썬에서 제공되는 각 데이터의 기본 크기를 확인하는 프로그램<br>\n",
        "아래 프로그램을 각 데이터별로 모두 출력하시오.\n",
        "\n",
        "\n",
        "```\n",
        "import sys\n",
        "\n",
        "## 변수선언\n",
        "intVar, floatVar, boolVar, strVar, listVar, tupleVar, dictVar, setVar = [none]*8\n",
        "\n",
        "## main()\n",
        "if __name__ == \"__main__\" :\n",
        "  intVar = 9\n",
        "  floatVar = 0.0\n",
        "  boolVar = True\n",
        "  strVar = \"\"\n",
        "  listVar = []\n",
        "  tupleVar = ()\n",
        "  dictVar = {}\n",
        "  setVar = set()\n",
        "\n",
        "  print('int : ', sys.getsizeof(intVar))  \n",
        "\n",
        "```"
      ]
    },
    {
      "cell_type": "code",
      "metadata": {
        "id": "U9d9y_CUsRa_"
      },
      "source": [
        "import sys\n",
        "\n",
        "## 변수선언\n",
        "intVar, floatVar, boolVar, strVar, listVar, tupleVar, dictVar, setVar = [None]*8\n",
        "\n",
        "## main()\n",
        "if __name__ == \"__main__\" :\n",
        "  intVar = 0\n",
        "  floatVar = 0.0\n",
        "  boolVar = True\n",
        "  strVar = \"\"\n",
        "  listVar = []\n",
        "  tupleVar = ()\n",
        "  dictVar = {}\n",
        "  setVar = set()\n",
        "\n",
        "  print('byte')\n",
        "  print('int : ', sys.getsizeof(intVar))\n",
        "  print('float :', sys.getsizeof(floatVar))\n",
        "  print('bool : ', sys.getsizeof(boolVar))\n",
        "  print('str : ', sys.getsizeof(strVar))\n",
        "  print('list : ', sys.getsizeof(listVar))\n",
        "  print('tuple :', sys.getsizeof(tupleVar))\n",
        "  print('dict :', sys.getsizeof(dictVar))\n",
        "  print('set :', sys.getsizeof(setVar)) "
      ],
      "execution_count": null,
      "outputs": []
    },
    {
      "cell_type": "markdown",
      "metadata": {
        "id": "o9K1pvAKs-T7"
      },
      "source": [
        "(심화문제) 문자열 거꾸로 출력하기<br>\n",
        "*  [문자열 거꾸로](https://codechacha.com/ko/python-reverse-string/)\n",
        "\n",
        "```\n",
        "instr = \"\"\n",
        "\n",
        "if __name == \"__main__\":\n",
        "  instr = intput(\"문자열:\")\n",
        "\n",
        "  for i in range(len(instr) -1, -1, -1):\n",
        "    print(\"%c\" % instr[i], end='')\n",
        "```\n",
        "\n",
        "\n"
      ]
    },
    {
      "cell_type": "code",
      "metadata": {
        "id": "aB_YatwytXjS"
      },
      "source": [
        "instr = \"\"\n",
        "if __name__ == \"__main__\" :\n",
        "  instr = input(\"문자열:\")\n",
        "\n",
        "  for i in range(len(instr) -1, -1, -1):\n",
        "    print(\"%c\" % instr[i], end='')"
      ],
      "execution_count": null,
      "outputs": []
    },
    {
      "cell_type": "code",
      "metadata": {
        "id": "1PSvYFwLt1mG"
      },
      "source": [
        "# slice # [start:stop:step]\n",
        "string = 'Hello, World!'\n",
        "reversed_str = string[::-1]\n",
        "\n",
        "print(f'Original String: {string}')\n",
        "print(f'Reversed String: {reversed_str}')"
      ],
      "execution_count": null,
      "outputs": []
    },
    {
      "cell_type": "code",
      "metadata": {
        "id": "mqU__H9ut4D4"
      },
      "source": [
        "# reversed \n",
        "# 반대방향으로 순회하는 iterator를 리턴. join()으로 리턴된 iterator의 데이터를 하나의 string으로 만들면, 뒤집어진 문자열을 만들 수 있음.\n",
        "string = 'Hello, World!'\n",
        "reversed_str = \"\".join(reversed(string))\n",
        "\n",
        "print(f'Original String: {string}')\n",
        "print(f'Reversed String: {reversed_str}')"
      ],
      "execution_count": null,
      "outputs": []
    },
    {
      "cell_type": "code",
      "metadata": {
        "id": "EQgSb6sFt6W2"
      },
      "source": [
        "# for loop\n",
        "string = 'Hello, World!'\n",
        "reversed_str = ''\n",
        "for i in string:\n",
        "    reversed_str = i + reversed_str\n",
        "\n",
        "print(f'Original String: {string}')\n",
        "print(f'Reversed String: {reversed_str}')"
      ],
      "execution_count": null,
      "outputs": []
    },
    {
      "cell_type": "code",
      "metadata": {
        "id": "qGKK_3LuN2Lj"
      },
      "source": [
        "#Cryptography\n",
        "\n",
        "txt = 'Hello' + 'Python'\n",
        "x = txt[1::2]\n",
        "y = txt[::2]\n",
        "z = x + y\n",
        "z"
      ],
      "execution_count": null,
      "outputs": []
    },
    {
      "cell_type": "code",
      "metadata": {
        "id": "8RCi3sDYQgf7"
      },
      "source": [
        "def encrypt(plainString, n):\n",
        "  result = \"\"\n",
        "  for i in range(len(plainString)):\n",
        "    char = plainString[i]\n",
        "    if (char.isspace()):\n",
        "      result += \" \"\n",
        "    else:\n",
        "      if (char.isupper()):\n",
        "        result += chr((ord(char) + n - 65) % 26 + 65)\n",
        "      else:\n",
        "        result += chr((ord(char) + n - 97) % 26 + 97)\n",
        "  return result\n",
        "\n",
        "def decrypt(encryptedString, n):\n",
        "  result = \"\"\n",
        "  for i in range(len(encryptedString)):\n",
        "    char = encryptedString[i]\n",
        "    if (char.isspace()):\n",
        "      result += \" \"\n",
        "    else:\n",
        "      if (char.isupper()):\n",
        "        result += chr((ord(char) - n - 65) % 26 + 65)\n",
        "      else:\n",
        "        result += chr((ord(char) - n - 97) % 26 + 97)\n",
        "  return result\n",
        "\n",
        "\n",
        "def main():\n",
        "  number = int(input(\"Input Number > \"))\n",
        "  txt = input(\"Input sentence > \")\n",
        "  print(encrypt(txt, number))\n",
        "  print(decrypt(encrypt(txt, number), number))\n",
        "\n",
        "if __name__ == \"__main__\":\n",
        "  main()  "
      ],
      "execution_count": null,
      "outputs": []
    },
    {
      "cell_type": "code",
      "metadata": {
        "id": "FUHbEWflUcsq"
      },
      "source": [
        "def findTextCountInText(fname, word):\n",
        "  cOunt = 0\n",
        "  with open(fname, 'r') as f:\n",
        "      for line in f:\n",
        "        if word in line:\n",
        "          cOunt = cOunt + 1\n",
        "  return cOunt\n",
        "\n",
        "print(\"Occurrences of the word: \", end=\"\")\n",
        "print(findTextCountInText(\"main.py\", \"def\"))"
      ],
      "execution_count": null,
      "outputs": []
    }
  ]
}

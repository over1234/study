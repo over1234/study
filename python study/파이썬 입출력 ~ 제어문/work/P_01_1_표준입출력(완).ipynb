{
  "nbformat": 4,
  "nbformat_minor": 0,
  "metadata": {
    "colab": {
      "name": "P_01_1_표준입출력(완).ipynb",
      "private_outputs": true,
      "provenance": [],
      "collapsed_sections": [],
      "toc_visible": true,
      "include_colab_link": true
    },
    "kernelspec": {
      "name": "python3",
      "display_name": "Python 3"
    }
  },
  "cells": [
    {
      "cell_type": "markdown",
      "metadata": {
        "id": "view-in-github",
        "colab_type": "text"
      },
      "source": [
        "<a href=\"https://colab.research.google.com/github/teacher014/pyhonbasic/blob/main/P_01_1_%ED%91%9C%EC%A4%80%EC%9E%85%EC%B6%9C%EB%A0%A5(%EC%99%84).ipynb\" target=\"_parent\"><img src=\"https://colab.research.google.com/assets/colab-badge.svg\" alt=\"Open In Colab\"/></a>"
      ]
    },
    {
      "cell_type": "markdown",
      "metadata": {
        "id": "lNRCiWsDFTgu"
      },
      "source": [
        "# **Python 표준입출력**"
      ]
    },
    {
      "cell_type": "markdown",
      "metadata": {
        "id": "f_VHYljd9MtC"
      },
      "source": [
        "### **1. 표준출력**\n",
        "* 출력함수 : print()"
      ]
    },
    {
      "cell_type": "code",
      "metadata": {
        "id": "ILXgodLe9mhD"
      },
      "source": [
        "# 표준출력1 - 기본적으로 개행('\\n')\n",
        "print('Hello World')\n",
        "print('Hello')\n",
        "print('World')"
      ],
      "execution_count": null,
      "outputs": []
    },
    {
      "cell_type": "code",
      "metadata": {
        "id": "Dt5mFdnC-Q7Y"
      },
      "source": [
        "# 표준출력2\n",
        "print('Hello', end='')\n",
        "print('World')\n",
        "\n",
        "# 표준출력3\n",
        "print('Hello', 'World')\n",
        "print('Hello' + 'World')"
      ],
      "execution_count": null,
      "outputs": []
    },
    {
      "cell_type": "markdown",
      "metadata": {
        "id": "IbFYGnOZuLPY"
      },
      "source": [
        "**이스케이프 시퀀스(Escape Sequence)**\n",
        "\n",
        "\\와 특정문자를 결합하여 문자를 표시해주는 문자\n",
        "\n",
        "\n",
        "* \\  : \\ (back slash)\n",
        "* \\' : 작은 따옴표(single quotation)\n",
        "* \\\" : 큰 따옴표(double quotation)\n",
        "* \\n : 개행(엔터)\n"
      ]
    },
    {
      "cell_type": "markdown",
      "metadata": {
        "id": "sk4We07b_nak"
      },
      "source": [
        "### quiz\n",
        "다음 중 결과값이 다르게 출력되는 코드는? ( 4 )\n",
        "\n",
        "1.   `print('Hello World')`\n",
        "2.   \n",
        "```\n",
        "print('Hello', end='')\n",
        "print('World')\n",
        "```\n",
        "1. `print('Hello', 'World')`\n",
        "2.   `print('Hello' + 'World')`\n",
        "1. \n",
        "```\n",
        "print('Hello')\n",
        "print('World')\n",
        "```\n",
        "\n"
      ]
    },
    {
      "cell_type": "markdown",
      "metadata": {
        "id": "pGARmELMCkMO"
      },
      "source": [
        "### **2. 표준입력**\n",
        "* 입력 함수 : input()\n",
        "- 입력값 = 문자열\n",
        "- 예) x = input('메시지')"
      ]
    },
    {
      "cell_type": "code",
      "metadata": {
        "id": "6YbeEHI1Cafe"
      },
      "source": [
        "# 표준입력 \n",
        "x = input()\n",
        "x"
      ],
      "execution_count": null,
      "outputs": []
    },
    {
      "cell_type": "code",
      "metadata": {
        "id": "deCG7srgEStA"
      },
      "source": [
        "# 두 값을 입력받아 더한 결과를 출력해보기\n",
        "x = input('x 입력 : ')\n",
        "y = input('y 입력 : ')\n",
        "\n",
        "# 출력\n",
        "print(x, '+' , y , '=', x + y ) \n",
        "\n",
        "# f 스트링 출력**\n",
        "print(f'{x} + {y} = {x + y}')\n",
        "\n",
        "# '+' 연산자가 결합연산자로 사용됨"
      ],
      "execution_count": null,
      "outputs": []
    },
    {
      "cell_type": "markdown",
      "metadata": {
        "id": "7RVHI2BqFuJU"
      },
      "source": [
        "### 정수, 실수 입력\n",
        "\n",
        "* 정수 : int(input('메시지')\n",
        "* 실수 : float(input('메시지')\n",
        "- 형변환 : 정수형 int(), 실수형 float() 함수"
      ]
    },
    {
      "cell_type": "code",
      "metadata": {
        "id": "CY3MAxnWE46q"
      },
      "source": [
        "# 표준입력\n",
        "x = int(input('x 입력 :'))\n",
        "y = float(input('y 입력 :'))\n",
        "\n",
        "# 표준출력\n",
        "print(f'{x} + {y} = {x+y}')"
      ],
      "execution_count": null,
      "outputs": []
    },
    {
      "cell_type": "markdown",
      "metadata": {
        "id": "M72W3EzuJSNm"
      },
      "source": [
        "**(해결문제)** \n",
        "(기본) 두 정수를 입력받아서 사칙연산을 수행하는 프로그램"
      ]
    },
    {
      "cell_type": "code",
      "metadata": {
        "id": "UMlKiM5dGdeL"
      },
      "source": [
        "# 입력\n",
        "x = int(input('첫번째 정수 입력 '))\n",
        "y = int(input('두번째 정수 입력 '))\n",
        "\n",
        "# 연산\n",
        "print( x, '+' , y , '=' , ( x + y ))\n",
        "print( x, '-' , y , '=' , ( x - y ))\n",
        "print( x, 'x' , y , '=' , ( x * y ))\n",
        "print( x, '/' , y , '=' , ( x / y ))"
      ],
      "execution_count": null,
      "outputs": []
    },
    {
      "cell_type": "markdown",
      "metadata": {
        "id": "S3iHYQ63K_nU"
      },
      "source": [
        "(심화) 나눈 몫과 나머지 연산을 수행하는 프로그램 \n",
        "- 'f' 스트링 사용하여 출력\n"
      ]
    },
    {
      "cell_type": "code",
      "metadata": {
        "id": "W-aEQH-DK8CE"
      },
      "source": [
        "# 입력\n",
        "x = int(input('첫번째 정수 입력 '))\n",
        "y = int(input('두번째 정수 입력 '))\n",
        "\n",
        "# 연산(몫, 연산 추가)\n",
        "print( x, '+' , y , '=' , ( x + y ))\n",
        "print( x, '-' , y , '=' , ( x - y ))\n",
        "print( x, 'x' , y , '=' , ( x * y ))\n",
        "print( x, '/' , y , '=' , ( x / y ))\n",
        "print( x, '//' , y , '=' , ( x // y ))\n",
        "print( x, '%' , y , '=' , ( x % y ))\n",
        "\n",
        "print('*'*50)\n",
        "\n",
        "# f string 사용\n",
        "print(f'{x} + {y} = {x + y}')\n",
        "print(f'{x} - {y} = {x - y}')\n",
        "print(f'{x} x {y} = {x * y}')\n",
        "print(f'{x} / {y} = {x / y}')\n",
        "print(f'{x} // {y} (나눈 몫) = {x // y}')\n",
        "print(f'{x} % {y} (나눈 나머지) = {x % y}')"
      ],
      "execution_count": null,
      "outputs": []
    },
    {
      "cell_type": "markdown",
      "metadata": {
        "id": "fJ8T5r3-YO9U"
      },
      "source": [
        "##연산자(Operator)\n",
        "(참고)[연산자](https://www.w3schools.com/python/python_operators.asp), [연산자-함수매핑](https://https://docs.python.org/ko/3.7/library/operator.html)<p>\n",
        " \n",
        "1.   '+'  addition <br>\n",
        "2.   '-'  subtraction <br>\n",
        "1.    '*'  multiplication <br>\n",
        "2.    '/'  Float Division <br>\n",
        "1.    '//' Integer Division <br>\n",
        "2.   '**' Exponentiation <br>\n",
        "1.    '%'  Remainder <br>"
      ]
    },
    {
      "cell_type": "markdown",
      "metadata": {
        "id": "XtYb4yU6LTdX"
      },
      "source": [
        "##f-string : Python 3.6이상부터 제공되는 기능\n",
        "- 'f' 접두사 사용하여 간단하게 출력형식을 지정\n",
        "- ', '', ''' 사용가능\n",
        "- (참고) [f-string-formatting](https://www.datacamp.com/community/tutorials/f-string-formatting-in-python?utm_source=adwords_ppc&utm_campaignid=1455363063&utm_adgroupid=65083631748&utm_device=c&utm_keyword=&utm_matchtype=b&utm_network=g&utm_adpostion=&utm_creative=278443377092&utm_targetid=dsa-429603003980&utm_loc_interest_ms=&utm_loc_physical_ms=1009866&gclid=CjwKCAjw19z6BRAYEiwAmo64LWsH_6N3oGk0APqMPTmI1Z7y8OEbOEmqUrm_tAbNbuimR2mulYIn7hoCFyEQAvD_BwE#E)"
      ]
    },
    {
      "cell_type": "markdown",
      "metadata": {
        "id": "wiz7xz-9qIf2"
      },
      "source": [
        "##(연습문제) 다음과 같이 출력해보기<p>\n",
        "\n",
        "1.   hello, 'python'\n",
        "2.   hello, \"python\"\n",
        "1.   \"Life is short, You need 'python' \""
      ]
    },
    {
      "cell_type": "code",
      "metadata": {
        "id": "MnpPEVc7LSvP"
      },
      "source": [
        "# 연습\n",
        "name = input('What is your name? ')\n",
        "print(name)\n",
        "## displaying single quotations\n",
        "print(f\"Hello, \\'{name}\\'\")\n",
        "\n",
        "## displaying double quotations\n",
        "print(f\"Hello, \\\"{name}\\\"\")"
      ],
      "execution_count": null,
      "outputs": []
    },
    {
      "cell_type": "code",
      "metadata": {
        "id": "NDwFUA89pL9E"
      },
      "source": [
        "# single + double\n",
        "print(\"\\\"Life is short, You need \\'python\\'\\\"\")"
      ],
      "execution_count": null,
      "outputs": []
    },
    {
      "cell_type": "markdown",
      "metadata": {
        "id": "M-GmgO_Lc5HL"
      },
      "source": [
        "# **변수**\n",
        "- 어떤 값을 저장하는 공간\n",
        " - 어떤 데이터가 있을 때 그 데이터가 메모리상에 위치하는 주소를 \"변수\"라는 곳에 저장해두고, 나중에 \"변수\"에 저장된 메모리 상의 주소에 가서 실제 값을 읽을 수 있는 것\n",
        "- Python은 기본적으로 인터프리터(interpreter)를 통해 실행되는 스크립트 언어\n",
        " - 변수 선언시 타입을 지정하지 않음\n",
        " - 값을 할당하면 그 때 동적으로 타입이 결정됨\n",
        " - 타입이 다르면 형변환 후 연산에서 사용가능\n",
        "- 변수명 규칙\n",
        " - 영문 문자, 숫자 사용 : 대소문자? 구분!\n",
        " - 문자나 _(밑줄 문자)로 시작 : 숫자 시작 안됨\n",
        " - 특수문자(+, - , * , / , $, @, &, % 등) 사용 x\n",
        " - python 키워드(if, for, while, and, or 등) 사용 x\n",
        "\n",
        "\n",
        "\n"
      ]
    },
    {
      "cell_type": "code",
      "metadata": {
        "id": "E6EahB93bs1V"
      },
      "source": [
        "import keyword\n",
        "print(keyword.kwlist)"
      ],
      "execution_count": null,
      "outputs": []
    },
    {
      "cell_type": "markdown",
      "metadata": {
        "id": "F4xe3beQe_bG"
      },
      "source": [
        "**해결문제**\n",
        "\n",
        "**1. BMI 지수 구하기**\n",
        "\n",
        "BMI는 몸무게와 키를 이용하여 체지방율을 측정하는 지수이다. 자신의 몸무게와 키를 입력받아 각각을 변수 weight와 height 에 저장하고 BMI지수를 계산, 출력한다. 단, 키는 cm로 입력받아서 처리한다.\n",
        "- BMI = 체중(kg) / (키(m)*키(m))"
      ]
    },
    {
      "cell_type": "code",
      "metadata": {
        "id": "d8L1iFE5gSYQ"
      },
      "source": [
        "#입력\n",
        "weight = eval(input('weight(kg) : '))\n",
        "height = eval(input('height(cm) : '))\n",
        "\n",
        "#처리\n",
        "\n",
        "BMI = weight / (height/100)**2\n",
        "\n",
        "#출력\n",
        "print(f'BMI : {BMI:.1f}')"
      ],
      "execution_count": null,
      "outputs": []
    },
    {
      "cell_type": "markdown",
      "metadata": {
        "id": "L_7cMZxUfetI"
      },
      "source": [
        "**2. 환율 계산기**<br>[환율](https://www.google.com/search?q=%ED%99%98%EC%9C%A8&hl=ko&source=hp&ei=8YQjYY6cAc_3wAPN0JnIDQ&iflsig=AINFCbYAAAAAYSOTAeRod4rPQ5zjd-NvmMGAy57VXqlk&oq=%ED%99%98%EC%9C%A8&gs_lcp=Cgdnd3Mtd2l6EAMyCwgAEIAEELEDEIMBMgsIABCABBCxAxCDATILCAAQgAQQsQMQgwEyCwgAEIAEELEDEIMBMgsIABCABBCxAxCDATILCAAQgAQQsQMQgwEyBQgAEIAEMgsIABCABBCxAxCDATIFCAAQgAQyCwgAEIAEELEDEIMBOhAIABCABBCxAxCDARBGEIICUMoOWP0SYP0TaAFwAHgAgAGTAYgB1AaSAQMwLjeYAQCgAQGwAQA&sclient=gws-wiz&ved=0ahUKEwjO2Jrag8fyAhXPO3AKHU1oBtkQ4dUDCAc&uact=5)\n",
        "* 입력 : 1달러 환율 입력, 원화입력\n",
        "* 출력 : 환전 달러"
      ]
    },
    {
      "cell_type": "code",
      "metadata": {
        "id": "IOu15P2NfdTI"
      },
      "source": [
        "#입력 (1$ = 1175W)\n",
        "print('ExchangeRate Calc : W - $')\n",
        "ExchangeRate = eval(input('$ ExchangeRate : '))\n",
        "KRW = eval(input('KRW(원) : '))\n",
        "\n",
        "# 환율 계산 : \n",
        "#USD = ExchangeRate  * KRW\n",
        "USD = KRW / 1175\n",
        "#출력\n",
        "print(f'USD : {USD:.1f} $')"
      ],
      "execution_count": null,
      "outputs": []
    },
    {
      "cell_type": "markdown",
      "metadata": {
        "id": "UgWiR8x24EEY"
      },
      "source": [
        "**3. 섭씨-화씨 변환**\n",
        "\n",
        "섭씨 온도 °C(Celsius) 를 입력받아 화씨 온도 °F (Fahrenheit)로 변환\n",
        "\n",
        "* °F = °C × 1.8 + 32\n",
        "* °C = (°F − 32) / 1.8\n",
        "\n"
      ]
    },
    {
      "cell_type": "code",
      "metadata": {
        "id": "yU4s6Caw4S8E"
      },
      "source": [
        "#입력\n",
        "celsius = eval(input('Celsius : '))\n",
        "\n",
        "#변환\n",
        "fahrenheit = (celsius * 1.8) + 32\n",
        "\n",
        "#출력\n",
        "print(f'Fahrenheit : {fahrenheit}')"
      ],
      "execution_count": null,
      "outputs": []
    },
    {
      "cell_type": "markdown",
      "metadata": {
        "id": "IG6mRNkut1ED"
      },
      "source": [
        "4. **인생시계** <p>\n",
        "사람이 태어나서 죽을 때까지를 24시간에 비유한다면 여러분은 지금 몇 시를 살고 있을까요? \n",
        "* 평균수명이 80세(년)라고 하면, 10년이 3시간이 되고, 1년은 18분이 됩니다.\n",
        "현재, 10살인 사람은 새벽 3시, 20살인 사람은 아침 6시가 되겠죠-<p>\n",
        "\n",
        "* 여러분의 나이를 입력받아, 인생시계를 출력\n",
        "* 평균수명이 80세 또는 100세일 경우 둘 다 출력\n",
        "\n",
        "\n"
      ]
    },
    {
      "cell_type": "code",
      "metadata": {
        "id": "NQmGJSQGuELj"
      },
      "source": [
        "age = int(input(\"your age :\"))\n",
        "hour = age * 0.3\n",
        "\n",
        "\n",
        "print(f'당신의 나이는 {age}살, 이제 {hour}시입니다.')"
      ],
      "execution_count": null,
      "outputs": []
    }
  ]
}
